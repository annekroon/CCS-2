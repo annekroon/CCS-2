{
 "cells": [
  {
   "cell_type": "markdown",
   "id": "b57d34f2-dedc-49ff-a5e2-55511995490e",
   "metadata": {},
   "source": [
    "### Personal Settings"
   ]
  },
  {
   "cell_type": "code",
   "execution_count": 1,
   "id": "a65a3060-9fe2-4be2-ba8a-4916b361d9bf",
   "metadata": {},
   "outputs": [
    {
     "name": "stdout",
     "output_type": "stream",
     "text": [
      "Gensim version: 4.1.2\n"
     ]
    },
    {
     "data": {
      "text/html": [
       "<style>.container { width:90% !important; }</style>"
      ],
      "text/plain": [
       "<IPython.core.display.HTML object>"
      ]
     },
     "metadata": {},
     "output_type": "display_data"
    }
   ],
   "source": [
    "import os\n",
    "import sys\n",
    "from pathlib import Path\n",
    "\n",
    "main_dir_name = 'Week'\n",
    "unwanted_subdir_name = 'exercises'\n",
    "\n",
    "for _ in range(5):\n",
    "    parent_path = str(Path.cwd().parents[_]).split('/')[-1]\n",
    "    if (main_dir_name in str(Path.cwd()).split('/')[-1]) and (\n",
    "        unwanted_subdir_name not in str(Path.cwd()).split('/')[-1]\n",
    "    ):\n",
    "        weeks_dir = str(Path.cwd())\n",
    "\n",
    "    elif (main_dir_name in parent_path) and (unwanted_subdir_name not in parent_path):\n",
    "        weeks_dir = str(Path.cwd().parents[_])\n",
    "\n",
    "main_dir = str(Path(weeks_dir).parents[0])\n",
    "sys.path.append(main_dir)\n",
    "\n",
    "from setup.settings import *\n"
   ]
  },
  {
   "cell_type": "markdown",
   "id": "ef083a60-8d59-4ed2-9a6b-b448239998b7",
   "metadata": {},
   "source": [
    "### Opening Dataset"
   ]
  },
  {
   "cell_type": "code",
   "execution_count": 2,
   "id": "2071fcc3-e6a6-422e-978f-8640a6857706",
   "metadata": {},
   "outputs": [],
   "source": [
    "import os\n",
    "import pandas as pd"
   ]
  },
  {
   "cell_type": "code",
   "execution_count": 3,
   "id": "06c30c71-e83e-41c6-8834-068fea757a69",
   "metadata": {},
   "outputs": [
    {
     "name": "stdout",
     "output_type": "stream",
     "text": [
      "/Users/nyxinsane/Library/CloudStorage/OneDrive-UvA/Teaching/CCS-2/CCS-2 Tutorial Material/Week 3/exercises\n"
     ]
    }
   ],
   "source": [
    "cwd = os.getcwd()\n",
    "print(cwd)"
   ]
  },
  {
   "cell_type": "code",
   "execution_count": 4,
   "id": "9dadabaf-9188-4547-a2fc-b398b2d110a8",
   "metadata": {},
   "outputs": [],
   "source": [
    "df_episodes = pd.read_csv(f'{cwd}/All Podcast Episodes Published In December 2017/episodes.csv', header=0, delimiter=',')\n"
   ]
  },
  {
   "cell_type": "code",
   "execution_count": 5,
   "id": "7c89cecc-528b-4be3-a54c-5f5934e13ab4",
   "metadata": {},
   "outputs": [
    {
     "data": {
      "text/html": [
       "<div>\n",
       "<style scoped>\n",
       "    .dataframe tbody tr th:only-of-type {\n",
       "        vertical-align: middle;\n",
       "    }\n",
       "\n",
       "    .dataframe tbody tr th {\n",
       "        vertical-align: top;\n",
       "    }\n",
       "\n",
       "    .dataframe thead th {\n",
       "        text-align: right;\n",
       "    }\n",
       "</style>\n",
       "<table border=\"1\" class=\"dataframe\">\n",
       "  <thead>\n",
       "    <tr style=\"text-align: center;\">\n",
       "      <th></th>\n",
       "      <th>title</th>\n",
       "      <th>audio</th>\n",
       "      <th>audio_length</th>\n",
       "      <th>description</th>\n",
       "      <th>pub_date</th>\n",
       "      <th>uuid</th>\n",
       "      <th>podcast_uuid</th>\n",
       "    </tr>\n",
       "  </thead>\n",
       "  <tbody>\n",
       "    <tr>\n",
       "      <th>0</th>\n",
       "      <td>Piątek - 01 grudnia</td>\n",
       "      <td>https://cdneu.modlitwawdrodze.pl/prayers/MWD_2...</td>\n",
       "      <td>490</td>\n",
       "      <td>święci męczennicy jezuiccy Edmund Campion SJ, ...</td>\n",
       "      <td>2017-12-01 00:00:00+00</td>\n",
       "      <td>fd5d891411174c7ca953c1f54657c3eb</td>\n",
       "      <td>811c18cf575841b3bef4601978f17ca9</td>\n",
       "    </tr>\n",
       "    <tr>\n",
       "      <th>1</th>\n",
       "      <td>Sobota - 02 grudnia</td>\n",
       "      <td>https://cdneu.modlitwawdrodze.pl/prayers/MWD_2...</td>\n",
       "      <td>481</td>\n",
       "      <td>bł. Rafał Chyliński, prezbiter, Łk 21, 34-36</td>\n",
       "      <td>2017-12-02 00:00:00+00</td>\n",
       "      <td>5c28fa0a27b342cd92ff03c16a8019c2</td>\n",
       "      <td>811c18cf575841b3bef4601978f17ca9</td>\n",
       "    </tr>\n",
       "    <tr>\n",
       "      <th>2</th>\n",
       "      <td>Niedziela - 03 grudnia</td>\n",
       "      <td>https://cdneu.modlitwawdrodze.pl/prayers/MWD_2...</td>\n",
       "      <td>667</td>\n",
       "      <td>Pierwsza Niedziela Adwentu, Mk 13, 33-37</td>\n",
       "      <td>2017-12-03 00:00:00+00</td>\n",
       "      <td>efdc9f4f07fa4c4883f8848256066cec</td>\n",
       "      <td>811c18cf575841b3bef4601978f17ca9</td>\n",
       "    </tr>\n",
       "    <tr>\n",
       "      <th>3</th>\n",
       "      <td>Introduction to Luke</td>\n",
       "      <td>http://www.wgcr.net/images/TimelessTruths/TTT-...</td>\n",
       "      <td>1691</td>\n",
       "      <td>Luke 1:1-4 -</td>\n",
       "      <td>2017-12-03 11:30:05+00</td>\n",
       "      <td>cc2860165fa84d1092f6b45f19255a87</td>\n",
       "      <td>36ed4e62dcd94412a5211cc9bd76ba7c</td>\n",
       "    </tr>\n",
       "    <tr>\n",
       "      <th>4</th>\n",
       "      <td>Dear Science: Lightning, Dead Cats and Hand Sa...</td>\n",
       "      <td>http://95bfm.com/sites/default/files/291117_De...</td>\n",
       "      <td>1152</td>\n",
       "      <td>&lt;p&gt;Today on Dear Science with AUT's Allan Blac...</td>\n",
       "      <td>2017-12-27 11:00:00+00</td>\n",
       "      <td>69bd409e0469433581ccc76cf7b664ad</td>\n",
       "      <td>fa36a26a1879453f95da1379c737cd6d</td>\n",
       "    </tr>\n",
       "  </tbody>\n",
       "</table>\n",
       "</div>"
      ],
      "text/plain": [
       "                        title                                              audio                         audio_length                    description                             pub_date                       uuid                          podcast_uuid          \n",
       "0                                Piątek - 01 grudnia  https://cdneu.modlitwawdrodze.pl/prayers/MWD_2...       490      święci męczennicy jezuiccy Edmund Campion SJ, ...  2017-12-01 00:00:00+00  fd5d891411174c7ca953c1f54657c3eb  811c18cf575841b3bef4601978f17ca9\n",
       "1                                Sobota - 02 grudnia  https://cdneu.modlitwawdrodze.pl/prayers/MWD_2...       481           bł. Rafał Chyliński, prezbiter, Łk 21, 34-36  2017-12-02 00:00:00+00  5c28fa0a27b342cd92ff03c16a8019c2  811c18cf575841b3bef4601978f17ca9\n",
       "2                             Niedziela - 03 grudnia  https://cdneu.modlitwawdrodze.pl/prayers/MWD_2...       667               Pierwsza Niedziela Adwentu, Mk 13, 33-37  2017-12-03 00:00:00+00  efdc9f4f07fa4c4883f8848256066cec  811c18cf575841b3bef4601978f17ca9\n",
       "3                               Introduction to Luke  http://www.wgcr.net/images/TimelessTruths/TTT-...      1691                                           Luke 1:1-4 -  2017-12-03 11:30:05+00  cc2860165fa84d1092f6b45f19255a87  36ed4e62dcd94412a5211cc9bd76ba7c\n",
       "4  Dear Science: Lightning, Dead Cats and Hand Sa...  http://95bfm.com/sites/default/files/291117_De...      1152      <p>Today on Dear Science with AUT's Allan Blac...  2017-12-27 11:00:00+00  69bd409e0469433581ccc76cf7b664ad  fa36a26a1879453f95da1379c737cd6d"
      ]
     },
     "execution_count": 5,
     "metadata": {},
     "output_type": "execute_result"
    }
   ],
   "source": [
    "df_episodes.head()"
   ]
  },
  {
   "cell_type": "code",
   "execution_count": 7,
   "id": "59c12e3a-05af-45fd-8ade-70c2f1da2f8d",
   "metadata": {},
   "outputs": [
    {
     "name": "stdout",
     "output_type": "stream",
     "text": [
      "<class 'pandas.core.frame.DataFrame'>\n",
      "RangeIndex: 881046 entries, 0 to 881045\n",
      "Data columns (total 7 columns):\n",
      " #   Column        Non-Null Count   Dtype \n",
      "---  ------        --------------   ----- \n",
      " 0   title         880842 non-null  object\n",
      " 1   audio         869498 non-null  object\n",
      " 2   audio_length  881046 non-null  int64 \n",
      " 3   description   792720 non-null  object\n",
      " 4   pub_date      881046 non-null  object\n",
      " 5   uuid          881046 non-null  object\n",
      " 6   podcast_uuid  881046 non-null  object\n",
      "dtypes: int64(1), object(6)\n",
      "memory usage: 47.1+ MB\n"
     ]
    }
   ],
   "source": [
    "df_episodes.info()"
   ]
  },
  {
   "cell_type": "code",
   "execution_count": 8,
   "id": "5528b10b-20d9-4966-a7a4-4cbe01207349",
   "metadata": {},
   "outputs": [
    {
     "data": {
      "text/plain": [
       "Index(['title', 'audio', 'audio_length', 'description', 'pub_date', 'uuid', 'podcast_uuid'], dtype='object')"
      ]
     },
     "execution_count": 8,
     "metadata": {},
     "output_type": "execute_result"
    }
   ],
   "source": [
    "df_episodes.columns"
   ]
  },
  {
   "cell_type": "code",
   "execution_count": 9,
   "id": "c902e7b7-7a2f-441f-8098-38393c85df15",
   "metadata": {},
   "outputs": [],
   "source": [
    "df_podcasts = pd.read_csv(f'{cwd}/All Podcast Episodes Published In December 2017/podcasts.csv', header=0, delimiter=',')\n"
   ]
  },
  {
   "cell_type": "code",
   "execution_count": 10,
   "id": "28a49612-3a8f-434c-bb48-662ceb02e015",
   "metadata": {},
   "outputs": [
    {
     "name": "stdout",
     "output_type": "stream",
     "text": [
      "<class 'pandas.core.frame.DataFrame'>\n",
      "RangeIndex: 121175 entries, 0 to 121174\n",
      "Data columns (total 9 columns):\n",
      " #   Column       Non-Null Count   Dtype \n",
      "---  ------       --------------   ----- \n",
      " 0   uuid         121175 non-null  object\n",
      " 1   title        121173 non-null  object\n",
      " 2   image        121175 non-null  object\n",
      " 3   description  119832 non-null  object\n",
      " 4   language     121175 non-null  object\n",
      " 5   categories   121175 non-null  object\n",
      " 6   website      120005 non-null  object\n",
      " 7   author       118678 non-null  object\n",
      " 8   itunes_id    121175 non-null  int64 \n",
      "dtypes: int64(1), object(8)\n",
      "memory usage: 8.3+ MB\n"
     ]
    }
   ],
   "source": [
    "df_podcasts.info()"
   ]
  },
  {
   "cell_type": "code",
   "execution_count": 11,
   "id": "9479c214-42ed-4f21-90ef-488a783dd94e",
   "metadata": {},
   "outputs": [
    {
     "data": {
      "text/plain": [
       "Index(['uuid', 'title', 'image', 'description', 'language', 'categories', 'website', 'author', 'itunes_id'], dtype='object')"
      ]
     },
     "execution_count": 11,
     "metadata": {},
     "output_type": "execute_result"
    }
   ],
   "source": [
    "df_podcasts.columns"
   ]
  },
  {
   "cell_type": "code",
   "execution_count": 12,
   "id": "e01664ba-8b88-4afb-b73d-d8686e078a4e",
   "metadata": {},
   "outputs": [],
   "source": [
    "df_all_podcasts = pd.merge(left=df_episodes, right=df_podcasts, left_on='podcast_uuid', right_on='uuid', suffixes=('_from_df_episodes', '_from_df_podcasts'))\n"
   ]
  },
  {
   "cell_type": "code",
   "execution_count": 13,
   "id": "3c8f9d9e-58ec-4f48-aed5-d713835e0f35",
   "metadata": {},
   "outputs": [
    {
     "data": {
      "text/plain": [
       "title_from_df_episodes            202\n",
       "audio                           10775\n",
       "audio_length                        0\n",
       "description_from_df_episodes    86528\n",
       "pub_date                            0\n",
       "uuid_from_df_episodes               0\n",
       "podcast_uuid                        0\n",
       "uuid_from_df_podcasts               0\n",
       "title_from_df_podcasts              6\n",
       "image                               0\n",
       "description_from_df_podcasts    11552\n",
       "language                            0\n",
       "categories                          0\n",
       "website                         10890\n",
       "author                          17208\n",
       "itunes_id                           0\n",
       "dtype: int64"
      ]
     },
     "execution_count": 13,
     "metadata": {},
     "output_type": "execute_result"
    }
   ],
   "source": [
    "df_all_podcasts.isna().sum()"
   ]
  },
  {
   "cell_type": "code",
   "execution_count": 14,
   "id": "cce92fc1-21f9-4547-a654-4511812dcb49",
   "metadata": {},
   "outputs": [
    {
     "name": "stdout",
     "output_type": "stream",
     "text": [
      "<class 'pandas.core.frame.DataFrame'>\n",
      "Int64Index: 873820 entries, 0 to 873819\n",
      "Data columns (total 16 columns):\n",
      " #   Column                        Non-Null Count   Dtype \n",
      "---  ------                        --------------   ----- \n",
      " 0   title_from_df_episodes        873618 non-null  object\n",
      " 1   audio                         863045 non-null  object\n",
      " 2   audio_length                  873820 non-null  int64 \n",
      " 3   description_from_df_episodes  787292 non-null  object\n",
      " 4   pub_date                      873820 non-null  object\n",
      " 5   uuid_from_df_episodes         873820 non-null  object\n",
      " 6   podcast_uuid                  873820 non-null  object\n",
      " 7   uuid_from_df_podcasts         873820 non-null  object\n",
      " 8   title_from_df_podcasts        873814 non-null  object\n",
      " 9   image                         873820 non-null  object\n",
      " 10  description_from_df_podcasts  862268 non-null  object\n",
      " 11  language                      873820 non-null  object\n",
      " 12  categories                    873820 non-null  object\n",
      " 13  website                       862930 non-null  object\n",
      " 14  author                        856612 non-null  object\n",
      " 15  itunes_id                     873820 non-null  int64 \n",
      "dtypes: int64(2), object(14)\n",
      "memory usage: 113.3+ MB\n"
     ]
    }
   ],
   "source": [
    "df_all_podcasts.info()"
   ]
  },
  {
   "cell_type": "code",
   "execution_count": 15,
   "id": "060443fe-cb2c-4420-81d9-efd3d633a771",
   "metadata": {},
   "outputs": [
    {
     "data": {
      "text/plain": [
       "Index(['title_from_df_episodes', 'audio', 'audio_length', 'description_from_df_episodes', 'pub_date', 'uuid_from_df_episodes', 'podcast_uuid', 'uuid_from_df_podcasts', 'title_from_df_podcasts', 'image', 'description_from_df_podcasts', 'language', 'categories', 'website', 'author', 'itunes_id'], dtype='object')"
      ]
     },
     "execution_count": 15,
     "metadata": {},
     "output_type": "execute_result"
    }
   ],
   "source": [
    "df_all_podcasts.columns"
   ]
  },
  {
   "cell_type": "markdown",
   "id": "3041b723-6705-4616-9495-8dd67f1ccc84",
   "metadata": {},
   "source": [
    "### Your turn to continue exploring"
   ]
  },
  {
   "cell_type": "code",
   "execution_count": null,
   "id": "188076b3-0e43-438e-8316-f8d304638482",
   "metadata": {},
   "outputs": [],
   "source": []
  }
 ],
 "metadata": {
  "kernelspec": {
   "display_name": "CCS-2",
   "language": "python",
   "name": "ccs-2"
  },
  "language_info": {
   "codemirror_mode": {
    "name": "ipython",
    "version": 3
   },
   "file_extension": ".py",
   "mimetype": "text/x-python",
   "name": "python",
   "nbconvert_exporter": "python",
   "pygments_lexer": "ipython3",
   "version": "3.9.12"
  }
 },
 "nbformat": 4,
 "nbformat_minor": 5
}
