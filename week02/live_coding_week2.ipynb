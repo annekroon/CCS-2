{
 "cells": [
  {
   "cell_type": "code",
   "execution_count": null,
   "id": "64e3acef",
   "metadata": {},
   "outputs": [],
   "source": [
    "import csv"
   ]
  },
  {
   "cell_type": "code",
   "execution_count": 8,
   "id": "dd3f16e6",
   "metadata": {},
   "outputs": [],
   "source": [
    "wikitexts = []\n",
    "with open('WikipediaSongs.csv') as fi:\n",
    "    data = csv.reader(fi, delimiter='\\t')\n",
    "    for row in data:\n",
    "        wikitexts.append(row)    "
   ]
  },
  {
   "cell_type": "code",
   "execution_count": 17,
   "id": "cde29e74",
   "metadata": {},
   "outputs": [],
   "source": [
    "#['hello', 'how', 'are', 'you'][1:3]"
   ]
  },
  {
   "cell_type": "code",
   "execution_count": 28,
   "id": "e97faf99",
   "metadata": {},
   "outputs": [],
   "source": [
    "molly = ' '.join(wikitexts[0])"
   ]
  },
  {
   "cell_type": "code",
   "execution_count": 34,
   "id": "d5fd344d",
   "metadata": {},
   "outputs": [
    {
     "data": {
      "text/plain": [
       "'\\ufeff\"**** (also known as \"\"cockles and mussels\"\" or \"\"in dublin\\'s fair city\"\") is a popular song set in dublin, ireland, which has become its unofficial anthem. a statue representing **** was unveiled on grafton street by then lord mayor of dublin, ben briscoe, during the 1988 dublin millennium celebrations, when 13 june was declared to be **** day. in july 2014, the statue was relocated to suffolk street, in front of the tourist information office, to make way for luas track-laying work at the old location. the song tells the fictional tale of a fishwife who plied her trade on the streets of dublin and died young, of a fever. in the late 20th century, a legend grew up that there was a historical molly, who lived in the 17th century. she is typically represented as a hawker by day and part-time prostitute by night.[1] in contrast, she has also been portrayed as one of the few chaste female street hawkers of her day. there is no evidence that the song is based on a real woman in the 17th century or any other time. the name \"\"molly\"\" originated as a familiar version of the names mary and margaret. many such \"\"molly\"\" malones were born in dublin over the centuries, but no evidence connects any of them to the events in the song.[1][2] nevertheless, the dublin millennium commission in 1988 endorsed claims made for a mary malone who died on 13 june 1699, and proclaimed 13 june to be \"\"**** day\"\".[1] the song is not recorded earlier than 1876, when it was published in boston, massachusetts.[3] its placement in the section of the book titled \"\"songs from english and german universities\"\" suggests an irish origin.[4] it was also published by francis brothers and day in london in 1884 as a work written and composed by james yorkston, of edinburgh, with music arranged by edmund forman. the london edition states that it was reprinted by permission of kohler and son of edinburgh, implying that the first edition was in scotland, but no copies of it have been found.[5][6] according to siobh\\\\\\'e1n marie kilfeather, the song is from the music hall style of the period, and one cannot wholly dismiss the possibility that it is \"\"based on an older folk song\"\", but \"\"neither melody nor words bear any relationship to the irish tradition of street ballads\"\". she calls the story of the historical molly \"\"nonsense\"\". the song is in a familiar tragicomic mode that was then popular and was probably influenced by earlier songs with a similar theme, such as percy montrose\\'s \"\"oh my darling, clementine\"\", which was written in about 1880. a variant, \"\"cockles and mussels\"\", with some different lyrics, appeared in students\\' songs: comprising the newest and most popular college songs as now sung at harvard, yale, columbia, ... union, etc in 1884.[7] a copy of apollo\\'s medley, dating from around 1790, published in doncaster and rediscovered in 2010, contains a song referring to \"\"sweet ****\"\" on page 78 that ends with the line \"\"och! i\\'ll roar and i\\'ll groan, my sweet ****, till i\\'m bone of your bone, and asleep in your bed.\"\" other than this name and the fact that she lives in howth, near dublin, this song bears no resemblance to ****.[8] the song was later reprinted in the collection the shamrock: a collection of irish songs (1831) and was published in the edinburgh literary journal that year with the title \"\"****\"\".[9] some elements of the song appear in several earlier songs. a character named **** appears in at least two other songs. the song \"\"widow malone,\"\" published as early as 1809, refers to the title character alternately as \"\"****,\"\" \"\"mary malone\"\" and \"\"sweet mistress malone\"\".[4] an american song, \"\"meet me miss ****\"\", was published as early as 1840.[4] the song \"\"pat corney\\'s account of himself\"\", published as early as 1826,[10] begins, \"\"now it\\'s show me that city where the girls are so pretty\"\" and ends, \"\"crying oysters, and cockles, and mussels for sale.\"\"[4] during the 19th century, the expression \"\"dublin\\'s fair city\"\" was used regularly in reference to dublin, and the phrase \"\"alive, alive o\"\" is known to have been shouted by street vendors selling oysters, mussels, fish and eels.[4] source: https://en.wikipedia.org/wiki/molly_malone\"'"
      ]
     },
     "execution_count": 34,
     "metadata": {},
     "output_type": "execute_result"
    }
   ],
   "source": [
    "['a', 'list']."
   ]
  },
  {
   "cell_type": "code",
   "execution_count": 19,
   "id": "c8d763bb",
   "metadata": {},
   "outputs": [
    {
     "name": "stdout",
     "output_type": "stream",
     "text": [
      "<class 'str'>\n"
     ]
    }
   ],
   "source": [
    "for e in wikitexts[0]:\n",
    "    print(type(e))"
   ]
  },
  {
   "cell_type": "code",
   "execution_count": 24,
   "id": "3aa7d76d",
   "metadata": {},
   "outputs": [
    {
     "data": {
      "text/plain": [
       "'hello this is funny'"
      ]
     },
     "execution_count": 24,
     "metadata": {},
     "output_type": "execute_result"
    }
   ],
   "source": [
    "' '.join('hello this is funny'.split())"
   ]
  },
  {
   "cell_type": "code",
   "execution_count": 22,
   "id": "fd51ae3b",
   "metadata": {},
   "outputs": [
    {
     "data": {
      "text/plain": [
       "'hello*******how*******are*******you'"
      ]
     },
     "execution_count": 22,
     "metadata": {},
     "output_type": "execute_result"
    }
   ],
   "source": [
    "'*******'.join(['hello', 'how', 'are', 'you'])"
   ]
  },
  {
   "cell_type": "code",
   "execution_count": 35,
   "id": "518c1472",
   "metadata": {},
   "outputs": [],
   "source": [
    "import pandas as pd"
   ]
  },
  {
   "cell_type": "code",
   "execution_count": 38,
   "id": "3a372288",
   "metadata": {},
   "outputs": [],
   "source": [
    "df =pd.read_csv('WikipediaSongs.csv', header=None)"
   ]
  },
  {
   "cell_type": "code",
   "execution_count": 41,
   "id": "54c4b3b3",
   "metadata": {},
   "outputs": [],
   "source": [
    "df.rename(columns={0 : 'songtext'}, inplace=True)"
   ]
  },
  {
   "cell_type": "code",
   "execution_count": 43,
   "id": "887dd58d",
   "metadata": {},
   "outputs": [
    {
     "data": {
      "text/plain": [
       "'Molly Malone (also known as \"Cockles and Mussels\" or \"In Dublin\\'s Fair City\") is a popular song set in Dublin, Ireland, which has become its unofficial anthem. A statue representing Molly Malone was unveiled on Grafton Street by then Lord Mayor of Dublin, Ben Briscoe, during the 1988 Dublin Millennium celebrations, when 13 June was declared to be Molly Malone Day. In July 2014, the statue was relocated to Suffolk Street, in front of the Tourist Information Office, to make way for Luas track-laying work at the old location. The song tells the fictional tale of a fishwife who plied her trade on the streets of Dublin and died young, of a fever. In the late 20th century, a legend grew up that there was a historical Molly, who lived in the 17th century. She is typically represented as a hawker by day and part-time prostitute by night.[1] In contrast, she has also been portrayed as one of the few chaste female street hawkers of her day. There is no evidence that the song is based on a real woman in the 17th century or any other time. The name \"Molly\" originated as a familiar version of the names Mary and Margaret. Many such \"Molly\" Malones were born in Dublin over the centuries, but no evidence connects any of them to the events in the song.[1][2] Nevertheless, the Dublin Millennium Commission in 1988 endorsed claims made for a Mary Malone who died on 13 June 1699, and proclaimed 13 June to be \"Molly Malone Day\".[1] The song is not recorded earlier than 1876, when it was published in Boston, Massachusetts.[3] Its placement in the section of the book titled \"Songs from English and German Universities\" suggests an Irish origin.[4] It was also published by Francis Brothers and Day in London in 1884 as a work written and composed by James Yorkston, of Edinburgh, with music arranged by Edmund Forman. The London edition states that it was reprinted by permission of Kohler and Son of Edinburgh, implying that the first edition was in Scotland, but no copies of it have been found.[5][6] According to Siobh\\\\\\'e1n Marie Kilfeather, the song is from the music hall style of the period, and one cannot wholly dismiss the possibility that it is \"based on an older folk song\", but \"neither melody nor words bear any relationship to the Irish tradition of street ballads\". She calls the story of the historical Molly \"nonsense\". The song is in a familiar tragicomic mode that was then popular and was probably influenced by earlier songs with a similar theme, such as Percy Montrose\\'s \"Oh My Darling, Clementine\", which was written in about 1880. A variant, \"Cockles and Mussels\", with some different lyrics, appeared in Students\\' Songs: Comprising the Newest and Most Popular College Songs As Now Sung at Harvard, Yale, Columbia, ... Union, Etc in 1884.[7] A copy of Apollo\\'s Medley, dating from around 1790, published in Doncaster and rediscovered in 2010, contains a song referring to \"Sweet Molly Malone\" on page 78 that ends with the line \"Och! I\\'ll roar and I\\'ll groan, My sweet Molly Malone, Till I\\'m bone of your bone, And asleep in your bed.\" Other than this name and the fact that she lives in Howth, near Dublin, this song bears no resemblance to Molly Malone.[8] The song was later reprinted in the collection The Shamrock: A Collection of Irish Songs (1831) and was published in The Edinburgh Literary Journal that year with the title \"Molly Malone\".[9] Some elements of the song appear in several earlier songs. A character named Molly Malone appears in at least two other songs. The song \"Widow Malone,\" published as early as 1809, refers to the title character alternately as \"Molly Malone,\" \"Mary Malone\" and \"sweet mistress Malone\".[4] An American song, \"Meet Me Miss Molly Malone\", was published as early as 1840.[4] The song \"Pat Corney\\'s Account of Himself\", published as early as 1826,[10] begins, \"Now it\\'s show me that city where the girls are so pretty\" and ends, \"Crying oysters, and cockles, and Mussels for sale.\"[4] During the 19th century, the expression \"Dublin\\'s fair city\" was used regularly in reference to Dublin, and the phrase \"alive, alive O\" is known to have been shouted by street vendors selling oysters, mussels, fish and eels.[4] Source: https://en.wikipedia.org/wiki/Molly_Malone'"
      ]
     },
     "execution_count": 43,
     "metadata": {},
     "output_type": "execute_result"
    }
   ],
   "source": [
    "df['songtext'][0]"
   ]
  },
  {
   "cell_type": "code",
   "execution_count": 46,
   "id": "08028a17",
   "metadata": {},
   "outputs": [
    {
     "data": {
      "text/plain": [
       "'iegi. geog '"
      ]
     },
     "execution_count": 46,
     "metadata": {},
     "output_type": "execute_result"
    }
   ],
   "source": [
    "\" iegi. geog \".lstrip()"
   ]
  },
  {
   "cell_type": "code",
   "execution_count": 51,
   "id": "905397dd",
   "metadata": {},
   "outputs": [
    {
     "data": {
      "text/plain": [
       "10"
      ]
     },
     "execution_count": 51,
     "metadata": {},
     "output_type": "execute_result"
    }
   ],
   "source": [
    "\"hi there, HeLLO CLasS!!!\".lower().find('hello')"
   ]
  },
  {
   "cell_type": "code",
   "execution_count": null,
   "id": "b29b3274",
   "metadata": {},
   "outputs": [],
   "source": [
    "print(f\"hello students!\")\n",
    "\n",
    "my_list = ['goodmorning', 'good afternoon']\n",
    "for g in my_list:\n",
    "    print(f\"{g}, students!\")"
   ]
  }
 ],
 "metadata": {
  "kernelspec": {
   "display_name": "Python 3",
   "language": "python",
   "name": "python3"
  },
  "language_info": {
   "codemirror_mode": {
    "name": "ipython",
    "version": 3
   },
   "file_extension": ".py",
   "mimetype": "text/x-python",
   "name": "python",
   "nbconvert_exporter": "python",
   "pygments_lexer": "ipython3",
   "version": "3.8.2"
  }
 },
 "nbformat": 4,
 "nbformat_minor": 5
}
