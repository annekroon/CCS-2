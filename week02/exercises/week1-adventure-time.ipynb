{
 "cells": [
  {
   "cell_type": "markdown",
   "id": "b39db589",
   "metadata": {},
   "source": [
    "### Let's experiment!\n",
    "\n",
    "Below, you will find the code from last week's lab session. We will use this code to practice, experiment, and have some fun. Mistakes are a normal part of learning to code so don't worry about errors and take your time."
   ]
  },
  {
   "cell_type": "markdown",
   "id": "780d9dd4",
   "metadata": {},
   "source": [
    "First, we know that we need to open a csv file called ```WikiPediaSongs.csv```. A good place to start is by importing the csv library and exploring it's methods and functions. You can do this by typing ```csv.``` then pressing tab (in jupyter notebook and lab after importing the library)."
   ]
  },
  {
   "cell_type": "markdown",
   "id": "1dfe6e1a",
   "metadata": {},
   "source": [
    "Another way is by using the ```dir()``` function."
   ]
  },
  {
   "cell_type": "code",
   "execution_count": 1,
   "id": "3451d914",
   "metadata": {},
   "outputs": [],
   "source": [
    "import csv"
   ]
  },
  {
   "cell_type": "code",
   "execution_count": 2,
   "id": "a9dfc096",
   "metadata": {},
   "outputs": [
    {
     "data": {
      "text/plain": [
       "['Dialect',\n",
       " 'DictReader',\n",
       " 'DictWriter',\n",
       " 'Error',\n",
       " 'QUOTE_ALL',\n",
       " 'QUOTE_MINIMAL',\n",
       " 'QUOTE_NONE',\n",
       " 'QUOTE_NONNUMERIC',\n",
       " 'Sniffer',\n",
       " 'StringIO',\n",
       " '_Dialect',\n",
       " '__all__',\n",
       " '__builtins__',\n",
       " '__cached__',\n",
       " '__doc__',\n",
       " '__file__',\n",
       " '__loader__',\n",
       " '__name__',\n",
       " '__package__',\n",
       " '__spec__',\n",
       " '__version__',\n",
       " 'excel',\n",
       " 'excel_tab',\n",
       " 'field_size_limit',\n",
       " 'get_dialect',\n",
       " 'list_dialects',\n",
       " 're',\n",
       " 'reader',\n",
       " 'register_dialect',\n",
       " 'unix_dialect',\n",
       " 'unregister_dialect',\n",
       " 'writer']"
      ]
     },
     "execution_count": 2,
     "metadata": {},
     "output_type": "execute_result"
    }
   ],
   "source": [
    "dir(csv)"
   ]
  },
  {
   "cell_type": "markdown",
   "id": "d7cd1ae9",
   "metadata": {},
   "source": [
    "In the above cell, we see a number of methods and functions that can be called by the csv library. If the library developers were kind, they use descriptive method names. For ```csv```, we see methods like ```excel```, ```re``` (for use with regular expressions), and ```writer```. You don't have to know all of them – and rarely do coders know all the methods of a class or library. You can also see ```reader``` in the list of methods. From it's name, we can guess it's the method we need to read a csv file."
   ]
  },
  {
   "cell_type": "markdown",
   "id": "ffa1d197",
   "metadata": {},
   "source": [
    "### Your turn to experiment.\n",
    "Use the ```dir``` function on ```str```. Do you see any familiar methods? Which ones?"
   ]
  },
  {
   "cell_type": "code",
   "execution_count": 3,
   "id": "6793515a",
   "metadata": {},
   "outputs": [],
   "source": [
    "# Your code goes here\n"
   ]
  },
  {
   "cell_type": "markdown",
   "id": "e9500913",
   "metadata": {},
   "source": [
    "Now, let's experiment with the csv file. We know that the ```open()``` function is used to open all kinds of files. We usually use open in combination with ```with```. This is a safe way to open files, but let's simplify and try to open the file without ```with```. Danger zone up ahead!"
   ]
  },
  {
   "cell_type": "code",
   "execution_count": 4,
   "id": "cc9124a0",
   "metadata": {},
   "outputs": [
    {
     "ename": "FileNotFoundError",
     "evalue": "[Errno 2] No such file or directory: 'WikiPediaSongs.csv'",
     "output_type": "error",
     "traceback": [
      "\u001b[0;31m---------------------------------------------------------------------------\u001b[0m",
      "\u001b[0;31mFileNotFoundError\u001b[0m                         Traceback (most recent call last)",
      "\u001b[1;32m/Users/nyxinsane/Library/CloudStorage/OneDrive-UvA/Teaching/CCS-2/CCS-2 Course Content/week02/exercises/week1-adventure-time.ipynb Cell 10'\u001b[0m in \u001b[0;36m<cell line: 1>\u001b[0;34m()\u001b[0m\n\u001b[0;32m----> <a href='vscode-notebook-cell:/Users/nyxinsane/Library/CloudStorage/OneDrive-UvA/Teaching/CCS-2/CCS-2%20Course%20Content/week02/exercises/week1-adventure-time.ipynb#ch0000009?line=0'>1</a>\u001b[0m \u001b[39mopen\u001b[39;49m(\u001b[39m\"\u001b[39;49m\u001b[39mWikiPediaSongs.csv\u001b[39;49m\u001b[39m\"\u001b[39;49m)\n",
      "\u001b[0;31mFileNotFoundError\u001b[0m: [Errno 2] No such file or directory: 'WikiPediaSongs.csv'"
     ]
    }
   ],
   "source": [
    "open(\"WikiPediaSongs.csv\")\n"
   ]
  },
  {
   "cell_type": "markdown",
   "id": "43b96588",
   "metadata": {},
   "source": [
    "Did you get an error? If so, that means the ```WikiPediaSongs.csv``` file is not in the folder where this jupyter notebook file is located. Find out where your file is and add the path before the file name like this:\n",
    "\n",
    "```open(\"/path/to/csv/file/WikiPediaSongs.csv\")```"
   ]
  },
  {
   "cell_type": "markdown",
   "id": "117c8a7e",
   "metadata": {},
   "source": [
    "### How to find your current folder/directory:"
   ]
  },
  {
   "cell_type": "code",
   "execution_count": 5,
   "id": "0eeda1aa",
   "metadata": {},
   "outputs": [
    {
     "name": "stdout",
     "output_type": "stream",
     "text": [
      "Your current folder is:/Users/nyxinsane/Library/CloudStorage/OneDrive-UvA/Teaching/CCS-2/CCS-2 Course Content/week02/exercises\n"
     ]
    }
   ],
   "source": [
    "print(f'Your current folder is:{os.getcwd()}')"
   ]
  },
  {
   "cell_type": "markdown",
   "id": "2f768f98",
   "metadata": {},
   "source": [
    "### How to find where files are:"
   ]
  },
  {
   "cell_type": "code",
   "execution_count": 6,
   "id": "25e2b72c",
   "metadata": {},
   "outputs": [],
   "source": [
    "def find_files(filename, search_path):\n",
    "    result = []\n",
    "\n",
    "    for root, dir, files in os.walk(search_path):\n",
    "        if filename in files:\n",
    "            result.append(os.path.join(root, filename))\n",
    "    return result"
   ]
  },
  {
   "cell_type": "code",
   "execution_count": 7,
   "id": "485b793e",
   "metadata": {},
   "outputs": [
    {
     "name": "stdout",
     "output_type": "stream",
     "text": [
      "The WikiPediaSongs.csv file is in one of 4 paths:\n",
      "['/Users/nyxinsane/Library/CloudStorage/OneDrive-UvA/Teaching/CCS-2/CCS-2 Course Content/week01/WikipediaSongs.csv', '/Users/nyxinsane/Library/CloudStorage/OneDrive-UvA/Teaching/CCS-2/CCS-2 Course Content/week02/WikipediaSongs.csv', '/Users/nyxinsane/Library/CloudStorage/OneDrive-UvA/Teaching/CCS-2/CCS-2 Tutorial Material/Week 1/exercises/WikipediaSongs.csv', '/Users/nyxinsane/Library/CloudStorage/OneDrive-UvA/Teaching/CCS-2/CCS2_Exercises_Assessments/Tutorial_exercises/WikipediaSongs.csv']\n"
     ]
    }
   ],
   "source": [
    "path = find_files('WikipediaSongs.csv', '/Users/nyxinsane/Library/CloudStorage/OneDrive-UvA/Teaching/CCS-2')\n",
    "print(f'The WikiPediaSongs.csv file is in one of {len(path)} paths:\\n{path}')"
   ]
  },
  {
   "cell_type": "markdown",
   "id": "70f5a333",
   "metadata": {},
   "source": [
    "Try using ```open``` with the right file path"
   ]
  },
  {
   "cell_type": "code",
   "execution_count": 8,
   "id": "37601e9c",
   "metadata": {},
   "outputs": [],
   "source": [
    "# open(\"WikiPediaSongs.csv\")\n"
   ]
  },
  {
   "cell_type": "markdown",
   "id": "e656ea66",
   "metadata": {},
   "source": [
    "Running the cell above tells us a lot about the file. Read the output and try to figure out what ```mode='r'``` means."
   ]
  },
  {
   "cell_type": "markdown",
   "id": "9f0a86ff",
   "metadata": {},
   "source": [
    "Let's apply the ```csv.reader``` method to the TextIOWrapper object and assign it to a variable ```csv_file```."
   ]
  },
  {
   "cell_type": "code",
   "execution_count": 9,
   "id": "7268e9f3",
   "metadata": {},
   "outputs": [],
   "source": [
    "csv_file = csv.reader(open(f\"{path[1]}\"))"
   ]
  },
  {
   "cell_type": "markdown",
   "id": "173074e9",
   "metadata": {},
   "source": [
    "Now, let's print the length of the ```csv_file```."
   ]
  },
  {
   "cell_type": "code",
   "execution_count": 10,
   "id": "ee41ebe1",
   "metadata": {},
   "outputs": [
    {
     "ename": "TypeError",
     "evalue": "object of type '_csv.reader' has no len()",
     "output_type": "error",
     "traceback": [
      "\u001b[0;31m---------------------------------------------------------------------------\u001b[0m",
      "\u001b[0;31mTypeError\u001b[0m                                 Traceback (most recent call last)",
      "\u001b[1;32m/Users/nyxinsane/Library/CloudStorage/OneDrive-UvA/Teaching/CCS-2/CCS-2 Course Content/week02/exercises/week1-adventure-time.ipynb Cell 23'\u001b[0m in \u001b[0;36m<cell line: 1>\u001b[0;34m()\u001b[0m\n\u001b[0;32m----> <a href='vscode-notebook-cell:/Users/nyxinsane/Library/CloudStorage/OneDrive-UvA/Teaching/CCS-2/CCS-2%20Course%20Content/week02/exercises/week1-adventure-time.ipynb#ch0000022?line=0'>1</a>\u001b[0m \u001b[39mlen\u001b[39;49m(csv_file)\n",
      "\u001b[0;31mTypeError\u001b[0m: object of type '_csv.reader' has no len()"
     ]
    }
   ],
   "source": [
    "len(csv_file)"
   ]
  },
  {
   "cell_type": "markdown",
   "id": "1bc62e6b",
   "metadata": {},
   "source": [
    "We got an error. Where do we go from here? When in doubt, place the object in a list!"
   ]
  },
  {
   "cell_type": "markdown",
   "id": "376b3ba2",
   "metadata": {},
   "source": [
    "#### TIP:\n",
    "Some python objects are non-subscriptable. This means, the objects can't be looped through in a ```for``` or ```while``` loop and can't be sliced using ```[0]```. A ```csv.reader``` is one such object. Try use ```[0]``` after ```csv_file``` below. Lists, however, are subscriptable, so a good first step in figuring out data structures is to use a list."
   ]
  },
  {
   "cell_type": "code",
   "execution_count": 11,
   "id": "6b87e87d",
   "metadata": {},
   "outputs": [
    {
     "ename": "TypeError",
     "evalue": "'_csv.reader' object is not subscriptable",
     "output_type": "error",
     "traceback": [
      "\u001b[0;31m---------------------------------------------------------------------------\u001b[0m",
      "\u001b[0;31mTypeError\u001b[0m                                 Traceback (most recent call last)",
      "\u001b[1;32m/Users/nyxinsane/Library/CloudStorage/OneDrive-UvA/Teaching/CCS-2/CCS-2 Course Content/week02/exercises/week1-adventure-time.ipynb Cell 26'\u001b[0m in \u001b[0;36m<cell line: 1>\u001b[0;34m()\u001b[0m\n\u001b[0;32m----> <a href='vscode-notebook-cell:/Users/nyxinsane/Library/CloudStorage/OneDrive-UvA/Teaching/CCS-2/CCS-2%20Course%20Content/week02/exercises/week1-adventure-time.ipynb#ch0000025?line=0'>1</a>\u001b[0m csv_file[\u001b[39m0\u001b[39;49m]\n",
      "\u001b[0;31mTypeError\u001b[0m: '_csv.reader' object is not subscriptable"
     ]
    }
   ],
   "source": [
    "csv_file[0]"
   ]
  },
  {
   "cell_type": "markdown",
   "id": "df1e8751",
   "metadata": {},
   "source": [
    "Let's try using the ```list()``` function."
   ]
  },
  {
   "cell_type": "code",
   "execution_count": 12,
   "id": "c1e0101f",
   "metadata": {},
   "outputs": [
    {
     "name": "stdout",
     "output_type": "stream",
     "text": [
      "[['\\ufeff\"Molly Malone (also known as \"\"Cockles and Mussels\"\" or \"\"In Dublin\\'s Fair City\"\") is a popular song set in Dublin', ' Ireland', ' which has become its unofficial anthem. A statue representing Molly Malone was unveiled on Grafton Street by then Lord Mayor of Dublin', ' Ben Briscoe', ' during the 1988 Dublin Millennium celebrations', ' when 13 June was declared to be Molly Malone Day. In July 2014', ' the statue was relocated to Suffolk Street', ' in front of the Tourist Information Office', ' to make way for Luas track-laying work at the old location. The song tells the fictional tale of a fishwife who plied her trade on the streets of Dublin and died young', ' of a fever. In the late 20th century', ' a legend grew up that there was a historical Molly', ' who lived in the 17th century. She is typically represented as a hawker by day and part-time prostitute by night.[1] In contrast', ' she has also been portrayed as one of the few chaste female street hawkers of her day. There is no evidence that the song is based on a real woman in the 17th century or any other time. The name \"\"Molly\"\" originated as a familiar version of the names Mary and Margaret. Many such \"\"Molly\"\" Malones were born in Dublin over the centuries', ' but no evidence connects any of them to the events in the song.[1][2] Nevertheless', ' the Dublin Millennium Commission in 1988 endorsed claims made for a Mary Malone who died on 13 June 1699', ' and proclaimed 13 June to be \"\"Molly Malone Day\"\".[1] The song is not recorded earlier than 1876', ' when it was published in Boston', ' Massachusetts.[3] Its placement in the section of the book titled \"\"Songs from English and German Universities\"\" suggests an Irish origin.[4] It was also published by Francis Brothers and Day in London in 1884 as a work written and composed by James Yorkston', ' of Edinburgh', ' with music arranged by Edmund Forman. The London edition states that it was reprinted by permission of Kohler and Son of Edinburgh', ' implying that the first edition was in Scotland', \" but no copies of it have been found.[5][6] According to Siobh\\\\'e1n Marie Kilfeather\", ' the song is from the music hall style of the period', ' and one cannot wholly dismiss the possibility that it is \"\"based on an older folk song\"\"', ' but \"\"neither melody nor words bear any relationship to the Irish tradition of street ballads\"\". She calls the story of the historical Molly \"\"nonsense\"\". The song is in a familiar tragicomic mode that was then popular and was probably influenced by earlier songs with a similar theme', ' such as Percy Montrose\\'s \"\"Oh My Darling', ' Clementine\"\"', ' which was written in about 1880. A variant', ' \"\"Cockles and Mussels\"\"', ' with some different lyrics', \" appeared in Students' Songs: Comprising the Newest and Most Popular College Songs As Now Sung at Harvard\", ' Yale', ' Columbia', ' ... Union', \" Etc in 1884.[7] A copy of Apollo's Medley\", ' dating from around 1790', ' published in Doncaster and rediscovered in 2010', ' contains a song referring to \"\"Sweet Molly Malone\"\" on page 78 that ends with the line \"\"Och! I\\'ll roar and I\\'ll groan', ' My sweet Molly Malone', \" Till I'm bone of your bone\", ' And asleep in your bed.\"\" Other than this name and the fact that she lives in Howth', ' near Dublin', ' this song bears no resemblance to Molly Malone.[8] The song was later reprinted in the collection The Shamrock: A Collection of Irish Songs (1831) and was published in The Edinburgh Literary Journal that year with the title \"\"Molly Malone\"\".[9] Some elements of the song appear in several earlier songs. A character named Molly Malone appears in at least two other songs. The song \"\"Widow Malone', ' published as early as 1809', ' refers to the title character alternately as \"\"Molly Malone', ' \"\"Mary Malone\"\" and \"\"sweet mistress Malone\"\".[4] An American song', ' \"\"Meet Me Miss Molly Malone\"\"', ' was published as early as 1840.[4] The song \"\"Pat Corney\\'s Account of Himself\"\"', ' published as early as 1826', '[10] begins', ' \"\"Now it\\'s show me that city where the girls are so pretty\"\" and ends', ' \"\"Crying oysters', ' and cockles', ' and Mussels for sale.\"\"[4] During the 19th century', ' the expression \"\"Dublin\\'s fair city\"\" was used regularly in reference to Dublin', ' and the phrase \"\"alive', ' alive O\"\" is known to have been shouted by street vendors selling oysters', ' mussels', ' fish and eels.[4] Source: https://en.wikipedia.org/wiki/Molly_Malone\"'], ['\"Whiskey in the Jar\" (Roud 533) is an Irish traditional song set in the southern mountains of Ireland, often with specific mention of counties Cork and Kerry. The song, about a rapparee (highwayman) who is betrayed by his wife or lover, is one of the most widely performed traditional Irish songs and has been recorded by numerous artists since the 1950s. The song first gained wide exposure when Irish folk band The Dubliners performed it internationally as a signature song, and recorded it on three albums in the 1960s. In the U.S., the song was popularized by The Highwaymen, who recorded it on their 1962 album Encore.[1] Irish rock band Thin Lizzy hit the Irish and British pop charts with the song in 1973. In 1990, The Dubliners re-recorded the song with The Pogues with a faster rocky version charting at No. 63 in the UK. American metal band Metallica in 1998 played a version very similar to that of Thin Lizzy\\'s, though with a heavier sound, winning a Grammy for the song in 2000 for Best Hard Rock Performance. In 2019, Canadian singer-songwriter Bryan Adams performed a cover of the song on his album Shine a Light. \"Whiskey in the Jar\" is the tale of a highwayman or footpad who, after robbing a military or government official, is betrayed by a woman; whether she is his wife or sweetheart is not made clear. Various versions of the song take place in Kerry, Kilmoganny, Cork, Sligo Town, and other locales throughout Ireland. It is also sometimes placed in the American South, in various places among the Ozarks or Appalachians, possibly due to Irish settlement in these places. Names in the song change, and the official can be a Captain or a Colonel, called Farrell or Pepper among other names. The protagonist\\'s wife or lover is sometimes called Molly, Jenny, Emzy, or Ginny among various other names. The details of the betrayal are also different, being either betraying him to the person he robbed and replacing his ammunition with sand or water, or not, resulting in his killing the person. The song\\'s exact origins are unknown. A number of its lines and the general plot resemble those of a contemporary broadside ballad \"Patrick Fleming\" (also called \"Patrick Flemmen he was a Valiant Soldier\") about Irish highwayman Patrick Fleming, who was executed in 1650.[2][3] In the book The Folk Songs of North America, folk music historian Alan Lomax suggests that the song originated in the 17th century, and (based on plot similarities) that John Gay\\'s 1728 The Beggar\\'s Opera was inspired by Gay hearing an Irish ballad-monger singing \"Whiskey in the Jar\". In regard to the history of the song, Lomax states, \"The folk of seventeenth century Britain liked and admired their local highwaymen; and in Ireland (or Scotland) where the gentlemen of the roads robbed English landlords, they were regarded as national patriots. Such feelings inspired this rollicking ballad.\"[4] At some point, the song came to the United States and was a favourite in Colonial America because of its irreverent attitude toward British officials. The American versions are sometimes set in America and deal with American characters. One such version, from Massachusetts, is about Alan McCollister, an Irish-American soldier who is sentenced to death by hanging for robbing British officials.[4] The song appeared in a form close to its modern version in a precursor called \"The Sporting Hero, or, Whiskey in the Bar\" in a mid-1850s broadsheet.[5][6] The song collector Colm Ó Lochlainn, in his book Irish Street Ballads,[7] described how his mother learnt \"Whiskey in the Jar\" in Limerick in 1870 from a man called Buckley who came from Cork. When Ó Lochlainn included the song in Irish Street Ballads, he wrote down the lyrics from memory as he had learnt them from his mother. He called the song \"There\\'s Whiskey in the Jar\", and the lyrics are virtually identical to the version that was used by Irish bands in the 1960s such as the Dubliners. The O Lochlainn version refers to the \"far fam\\'d Kerry mountain\" rather than the Cork and Kerry mountains, as appears in some versions. The song also appears under the title \"There\\'s Whiskey in the Jar\" in the Joyce[8] collection, but that only includes the melody line without any lyrics. Versions of the song were collected in the 1920s in Northern Ireland by song collector Sam Henry.[9] It is Roud Folk Song Index no. 533.[10] Source: https://en.wikipedia.org/wiki/Whiskey_in_the_Jar'], ['\"The Skye Boat Song\" is a late 19th-century Scottish song recalling the journey of Prince Charles Edward Stuart (Bonnie Prince Charlie) from Benbecula to the Isle of Skye as he evaded capture by government troops after his defeat at the Battle of Culloden in 1746. Sir Harold Boulton, 2nd Baronet composed the lyrics to an air collected by Anne Campbelle MacLeod in the 1870s, and the line \"Over the Sea to Skye\" is now a cornerstone of the tourism industry on the Isle of Skye. Alternative lyrics to the tune were written by Robert Louis Stevenson, probably in 1885. After hearing the Jacobite airs sung by a visitor, he judged the words of this song to be \"unworthy\", so made a new set of verses \"more in harmony with the plaintive tune\".[1] The lyrics were written by Sir Harold Boulton, 2nd Baronet, to an air collected in the 1870s by Anne Campbelle MacLeod (1855–1921), who became Lady Wilson by marriage to Sir James Wilson, KSCI (1853–1926), in 1888. The song was first published in Songs of the North by Boulton and MacLeod, London, 1884, a book that went into at least twenty editions.[2] In later editions MacLeod\\'s name was dropped and the ascription \"Old Highland rowing measure arranged by Malcolm Lawson\" was substituted. It was quickly taken up by other compilers, such as Laura Alexandrine Smith\\'s Music of the Waters (published 1888). Lawson was the elder brother of artist Cecil Gordon Lawson. According to Andrew Kuntz, a collector of folk music lore, MacLeod was on a trip to the isle of Skye and was being rowed over Loch Coruisk (Coire Uisg, the \"Cauldron of Waters\") when the rowers broke into a Gaelic rowing song \"Cuachag nan Craobh\" (\"The Cuckoo in the Grove\"). MacLeod set down what she remembered of the air, with the intention of using it later in a book she was to co-author with Boulton, who later added the section with the Jacobite associations. \"As a piece of modern romantic literature with traditional links it succeeded perhaps too well, for soon people began \\'remembering\\' they had learned the song in their childhood, and that the words were \\'old Gaelic lines\\',\" Andrew Kuntz has observed.[3] The song was not in any older books of Scottish songs, though it is in most collections like The Fireside Book of Folk Songs. It is often sung as a lullaby, in a slow rocking 6/8 time. It is often played as a slow lullaby or waltz, and entered into the modern folk canon in the twentieth century with versions by Paul Robeson, Tom Jones, Rod Stewart, Roger Whittaker, Tori Amos, and many others. Source: https://en.wikipedia.org/wiki/The_Skye_Boat_Song'], ['\"Arthur McBride\" (also called \"Arthur McBride and the Sergeant\") is an Irish folk song (Roud 2355) found in Ireland, USA & Britain with slight variations. The song can be narrowly categorized as an \"anti-recruiting\" song, a specific form of anti-war song, and more broadly as a protest song. It was first collected around 1840 in Limerick by Patrick Weston Joyce; also in Donegal by George Petrie.[1] The song expressed the sentiment that not all the young Irish were willing to fight war for the British crown.[2] The roots of the song are uncertain. There is some speculation that it references the Napoleonic Wars of the early 19th Century. However, it has also been surmised that the song goes back to the late 17th Century, especially the Williamite War in Ireland, since the reference to being \"sent to France\" suggests the departure of the disbanded Irish Jacobite army from Ireland to France, as a condition of the Treaty of Limerick in 1691[3] The only authentic recording of the song was a version performed by a farmworker named Alex Campbell from Aberdeenshire, Scotland, recorded by James Madison Carpenter between 1929 and 1935, which can be heard online via the Vaughan Williams Memorial Library.[4] In the song, the narrator and his cousin, Arthur McBride, were taking a walk when they were approached by three British military recruiters,[5] a recruiting sergeant, a Corporal and a young drummer. The recruiters attempt to induce the narrator and Arthur McBride into military service, extolling the virtues of serving the King, having money to spend, and wearing nice clothes. Arthur McBride tells the recruiter, if they joined, the clothes would merely be loaned to them and that they would be made to go to war in France where they would certainly be killed. The recruiter, taking offence at Arthur\\'s disrespect of the offer, becomes angry at Arthur and the narrator, and threatens to use his sword on them. Then, Arthur and the narrator use their shillelaghs to hit the recruiters and the drummer over their heads, and after doing so, in some variations of the lyrics, take their pouch of money,[citation needed] and throw their swords and the drummer\\'s drum into the sea.[5] Source: https://en.wikipedia.org/wiki/Arthur_McBride'], ['\"Mo Ghile Mear\" (translated \"My Gallant Darling\", \"My Spirited Lad\" and variants) is an Irish song. The modern form of the song was composed in the early 1970s by Dónal Ó Liatháin (1934–2008), using a traditional air collected in Cúil Aodha, County Cork, and lyrics selected from Irish-language poems by Seán \"Clárach\" Mac Domhnaill (1691–1754). The lyrics are partially based on Bímse Buan ar Buairt Gach Ló (\"My Heart is Sore with Sorrow Deep\", c. 1746), a lament of the failure of the Jacobite rising of 1745.[1][2] The original poem is in the voice of the personification of Ireland, Éire, lamenting the exile of Bonnie Prince Charlie.[3] Mo ghile mear is a term applied to the Pretender in numerous Jacobite songs of the period. O\\'Daly (1866) reports that many of the Irish Jacobite songs were set to the tune The White Cockade. This is in origin a love song of the 17th century, the \"White Cockade\" (cnotadh bán) being an ornament of ribbons worn by young women, but the term was re-interpreted to mean a military cockade in the Jacobite context.[4] Another part of the lyrics is based in an earlier Jacobite poem by Mac Domhnaill, Seal do bhíos im mhaighdin shéimh.[5] This was published in Edward Walsh\\'s Irish Popular Songs (Dublin, 1847) under the title of \"Air Bharr na gCnoc \\'san Ime gCéin — Over the Hills and Far Away\". Walsh notes that this poem was \"said to be the first Jacobite effort\" by Mac Domhnaill, written during the Jacobite rising of 1715, so that here the exiled hero is the \"Old Pretender\", James Francis Edward Stuart. The composition of the modern song is associated with composer Seán Ó Riada, who established an Irish-language choir in Cúil Aodha, County Cork, in the 1960s. The tune to which it is now set was collected by Ó Riada from an elderly resident of Cúil Aodha called Domhnall Ó Buachalla. Ó Riada died prematurely in 1971, and the song was composed about a year after his death, in c. 1972, with Ó Riada himself now becoming the departed hero lamented in the text. The point of departure for the song was the tape recording of Domhnall Ó Buachalla singing the tune. Ó Riada\\'s son Peadar suggested to Dónal Ó Liatháin that he should make a song from this melody.[6] Ó Liatháin decided to select verses from Mac Domhnaill\\'s poem and set them to the tune. He chose those that were the most \"universal\", so that the modern song is no longer an explicit reference to the Jacobite rising but in its origin a lament for the death of Seán Ó Riada.[7] Source: https://en.wikipedia.org/wiki/Mo_Ghile_Mear\\n']]\n"
     ]
    }
   ],
   "source": [
    "csv_list = list(csv_file)\n",
    "print(csv_list)"
   ]
  },
  {
   "cell_type": "markdown",
   "id": "6d4dfdd2",
   "metadata": {},
   "source": [
    "# That's a lot of output!\n",
    "\n",
    "Let's try slicing the csv list using ```[0]``` to get the element/item at the index 0."
   ]
  },
  {
   "cell_type": "code",
   "execution_count": 13,
   "id": "5bf534f4",
   "metadata": {},
   "outputs": [
    {
     "data": {
      "text/plain": [
       "['\\ufeff\"Molly Malone (also known as \"\"Cockles and Mussels\"\" or \"\"In Dublin\\'s Fair City\"\") is a popular song set in Dublin',\n",
       " ' Ireland',\n",
       " ' which has become its unofficial anthem. A statue representing Molly Malone was unveiled on Grafton Street by then Lord Mayor of Dublin',\n",
       " ' Ben Briscoe',\n",
       " ' during the 1988 Dublin Millennium celebrations',\n",
       " ' when 13 June was declared to be Molly Malone Day. In July 2014',\n",
       " ' the statue was relocated to Suffolk Street',\n",
       " ' in front of the Tourist Information Office',\n",
       " ' to make way for Luas track-laying work at the old location. The song tells the fictional tale of a fishwife who plied her trade on the streets of Dublin and died young',\n",
       " ' of a fever. In the late 20th century',\n",
       " ' a legend grew up that there was a historical Molly',\n",
       " ' who lived in the 17th century. She is typically represented as a hawker by day and part-time prostitute by night.[1] In contrast',\n",
       " ' she has also been portrayed as one of the few chaste female street hawkers of her day. There is no evidence that the song is based on a real woman in the 17th century or any other time. The name \"\"Molly\"\" originated as a familiar version of the names Mary and Margaret. Many such \"\"Molly\"\" Malones were born in Dublin over the centuries',\n",
       " ' but no evidence connects any of them to the events in the song.[1][2] Nevertheless',\n",
       " ' the Dublin Millennium Commission in 1988 endorsed claims made for a Mary Malone who died on 13 June 1699',\n",
       " ' and proclaimed 13 June to be \"\"Molly Malone Day\"\".[1] The song is not recorded earlier than 1876',\n",
       " ' when it was published in Boston',\n",
       " ' Massachusetts.[3] Its placement in the section of the book titled \"\"Songs from English and German Universities\"\" suggests an Irish origin.[4] It was also published by Francis Brothers and Day in London in 1884 as a work written and composed by James Yorkston',\n",
       " ' of Edinburgh',\n",
       " ' with music arranged by Edmund Forman. The London edition states that it was reprinted by permission of Kohler and Son of Edinburgh',\n",
       " ' implying that the first edition was in Scotland',\n",
       " \" but no copies of it have been found.[5][6] According to Siobh\\\\'e1n Marie Kilfeather\",\n",
       " ' the song is from the music hall style of the period',\n",
       " ' and one cannot wholly dismiss the possibility that it is \"\"based on an older folk song\"\"',\n",
       " ' but \"\"neither melody nor words bear any relationship to the Irish tradition of street ballads\"\". She calls the story of the historical Molly \"\"nonsense\"\". The song is in a familiar tragicomic mode that was then popular and was probably influenced by earlier songs with a similar theme',\n",
       " ' such as Percy Montrose\\'s \"\"Oh My Darling',\n",
       " ' Clementine\"\"',\n",
       " ' which was written in about 1880. A variant',\n",
       " ' \"\"Cockles and Mussels\"\"',\n",
       " ' with some different lyrics',\n",
       " \" appeared in Students' Songs: Comprising the Newest and Most Popular College Songs As Now Sung at Harvard\",\n",
       " ' Yale',\n",
       " ' Columbia',\n",
       " ' ... Union',\n",
       " \" Etc in 1884.[7] A copy of Apollo's Medley\",\n",
       " ' dating from around 1790',\n",
       " ' published in Doncaster and rediscovered in 2010',\n",
       " ' contains a song referring to \"\"Sweet Molly Malone\"\" on page 78 that ends with the line \"\"Och! I\\'ll roar and I\\'ll groan',\n",
       " ' My sweet Molly Malone',\n",
       " \" Till I'm bone of your bone\",\n",
       " ' And asleep in your bed.\"\" Other than this name and the fact that she lives in Howth',\n",
       " ' near Dublin',\n",
       " ' this song bears no resemblance to Molly Malone.[8] The song was later reprinted in the collection The Shamrock: A Collection of Irish Songs (1831) and was published in The Edinburgh Literary Journal that year with the title \"\"Molly Malone\"\".[9] Some elements of the song appear in several earlier songs. A character named Molly Malone appears in at least two other songs. The song \"\"Widow Malone',\n",
       " ' published as early as 1809',\n",
       " ' refers to the title character alternately as \"\"Molly Malone',\n",
       " ' \"\"Mary Malone\"\" and \"\"sweet mistress Malone\"\".[4] An American song',\n",
       " ' \"\"Meet Me Miss Molly Malone\"\"',\n",
       " ' was published as early as 1840.[4] The song \"\"Pat Corney\\'s Account of Himself\"\"',\n",
       " ' published as early as 1826',\n",
       " '[10] begins',\n",
       " ' \"\"Now it\\'s show me that city where the girls are so pretty\"\" and ends',\n",
       " ' \"\"Crying oysters',\n",
       " ' and cockles',\n",
       " ' and Mussels for sale.\"\"[4] During the 19th century',\n",
       " ' the expression \"\"Dublin\\'s fair city\"\" was used regularly in reference to Dublin',\n",
       " ' and the phrase \"\"alive',\n",
       " ' alive O\"\" is known to have been shouted by street vendors selling oysters',\n",
       " ' mussels',\n",
       " ' fish and eels.[4] Source: https://en.wikipedia.org/wiki/Molly_Malone\"']"
      ]
     },
     "execution_count": 13,
     "metadata": {},
     "output_type": "execute_result"
    }
   ],
   "source": [
    "csv_list[0]"
   ]
  },
  {
   "cell_type": "markdown",
   "id": "a0eb7cad",
   "metadata": {},
   "source": [
    "Now try slicing the original ```list(csv_file)``` the same way using ```[0]```, but do it TWICE. What happens?"
   ]
  },
  {
   "cell_type": "code",
   "execution_count": 14,
   "id": "80432bfd",
   "metadata": {},
   "outputs": [
    {
     "ename": "IndexError",
     "evalue": "list index out of range",
     "output_type": "error",
     "traceback": [
      "\u001b[0;31m---------------------------------------------------------------------------\u001b[0m",
      "\u001b[0;31mIndexError\u001b[0m                                Traceback (most recent call last)",
      "\u001b[1;32m/Users/nyxinsane/Library/CloudStorage/OneDrive-UvA/Teaching/CCS-2/CCS-2 Course Content/week02/exercises/week1-adventure-time.ipynb Cell 32'\u001b[0m in \u001b[0;36m<cell line: 1>\u001b[0;34m()\u001b[0m\n\u001b[0;32m----> <a href='vscode-notebook-cell:/Users/nyxinsane/Library/CloudStorage/OneDrive-UvA/Teaching/CCS-2/CCS-2%20Course%20Content/week02/exercises/week1-adventure-time.ipynb#ch0000031?line=0'>1</a>\u001b[0m \u001b[39mlist\u001b[39;49m(csv_file)[\u001b[39m0\u001b[39;49m]\n",
      "\u001b[0;31mIndexError\u001b[0m: list index out of range"
     ]
    }
   ],
   "source": [
    "list(csv_file)[0]"
   ]
  },
  {
   "cell_type": "markdown",
   "id": "9d0bed79",
   "metadata": {},
   "source": [
    "#### TIP:\n",
    "It's very important to assign your objects to variables, otherwise you distort them. When you work with vectorizers, you will realize you are applying methods to the same object and changing it without realizing. You can solve these issues by reloading the data, restarting your kernel or run your code from the very top. Always assign to variables and save to files in the form of ```txt```, ```csv```, or others."
   ]
  },
  {
   "cell_type": "markdown",
   "id": "8ca0c8ad",
   "metadata": {},
   "source": [
    "Now, let's print the length of ```csv_list```."
   ]
  },
  {
   "cell_type": "code",
   "execution_count": 15,
   "id": "5818f6f1",
   "metadata": {},
   "outputs": [
    {
     "data": {
      "text/plain": [
       "5"
      ]
     },
     "execution_count": 15,
     "metadata": {},
     "output_type": "execute_result"
    }
   ],
   "source": [
    "len(csv_list)"
   ]
  },
  {
   "cell_type": "markdown",
   "id": "d95080c2",
   "metadata": {},
   "source": [
    "Now, let's slice ```csv_list``` and print the lenth of the slice AND its type."
   ]
  },
  {
   "cell_type": "code",
   "execution_count": 16,
   "id": "c94bcbda",
   "metadata": {},
   "outputs": [
    {
     "data": {
      "text/plain": [
       "59"
      ]
     },
     "execution_count": 16,
     "metadata": {},
     "output_type": "execute_result"
    }
   ],
   "source": [
    "len(csv_list[0])"
   ]
  },
  {
   "cell_type": "markdown",
   "id": "93967df4",
   "metadata": {},
   "source": [
    "```csv_list[0]```, or the first element of ```csv_list```, contains 59 items."
   ]
  },
  {
   "cell_type": "code",
   "execution_count": 17,
   "id": "49c3c3ab",
   "metadata": {},
   "outputs": [
    {
     "data": {
      "text/plain": [
       "list"
      ]
     },
     "execution_count": 17,
     "metadata": {},
     "output_type": "execute_result"
    }
   ],
   "source": [
    "type(csv_list[0])"
   ]
  },
  {
   "cell_type": "markdown",
   "id": "5e436d34",
   "metadata": {},
   "source": [
    "```csv_list[0]```, or the first element of ```csv_list```, is also a list."
   ]
  },
  {
   "cell_type": "markdown",
   "id": "531c64ed",
   "metadata": {},
   "source": [
    "Let's slice further."
   ]
  },
  {
   "cell_type": "code",
   "execution_count": 18,
   "id": "1d9ecf4f",
   "metadata": {},
   "outputs": [
    {
     "data": {
      "text/plain": [
       "115"
      ]
     },
     "execution_count": 18,
     "metadata": {},
     "output_type": "execute_result"
    }
   ],
   "source": [
    "len(csv_list[0][0])"
   ]
  },
  {
   "cell_type": "code",
   "execution_count": 19,
   "id": "f1e96a48",
   "metadata": {},
   "outputs": [
    {
     "data": {
      "text/plain": [
       "str"
      ]
     },
     "execution_count": 19,
     "metadata": {},
     "output_type": "execute_result"
    }
   ],
   "source": [
    "type(csv_list[0][0])"
   ]
  },
  {
   "cell_type": "markdown",
   "id": "de780527",
   "metadata": {},
   "source": [
    "Finally, we've reached a string! But what exactly is 115?"
   ]
  },
  {
   "cell_type": "code",
   "execution_count": 20,
   "id": "56a2cc17",
   "metadata": {},
   "outputs": [
    {
     "name": "stdout",
     "output_type": "stream",
     "text": [
      "\"Molly Malone (also known as \"\"Cockles and Mussels\"\" or \"\"In Dublin's Fair City\"\") is a popular song set in Dublin\n"
     ]
    }
   ],
   "source": [
    "print(csv_list[0][0])"
   ]
  },
  {
   "cell_type": "markdown",
   "id": "e0e6ee06",
   "metadata": {},
   "source": [
    "The senetence printed above has 115 characters, including spaces and punctuations."
   ]
  },
  {
   "cell_type": "markdown",
   "id": "7205c4a1",
   "metadata": {},
   "source": [
    "If you're not comfortable with slicing, you can also do this kind of exploration using ```for loops```. Uncomment one for loop at a time below to see if you know what you are accessing."
   ]
  },
  {
   "cell_type": "code",
   "execution_count": 21,
   "id": "149ebecc",
   "metadata": {},
   "outputs": [],
   "source": [
    "# for i in csv_list:\n",
    "#     print(type(i))\n",
    "#     print(len(i))\n",
    "#     for j in i:\n",
    "#         print(type(j))\n",
    "#         print(len(j))\n",
    "#         for u in j:\n",
    "#             print(type(u))\n",
    "#             print(len(u))\n",
    "#             print(\"\\n\")"
   ]
  },
  {
   "cell_type": "markdown",
   "id": "9320c3af",
   "metadata": {},
   "source": [
    "Alright, so how do I turn this list of lists of strings into a string? Let's keep it simple and use the ```+``` operator. Below is a simplified version of what we will be doing."
   ]
  },
  {
   "cell_type": "code",
   "execution_count": 22,
   "id": "6b6a9591",
   "metadata": {},
   "outputs": [],
   "source": [
    "x = ['Hey']\n",
    "y = ['Hello']"
   ]
  },
  {
   "cell_type": "code",
   "execution_count": 23,
   "id": "4c246961",
   "metadata": {},
   "outputs": [
    {
     "name": "stdout",
     "output_type": "stream",
     "text": [
      "['Hey', 'Hello']\n"
     ]
    }
   ],
   "source": [
    "print(x+y)"
   ]
  },
  {
   "cell_type": "code",
   "execution_count": 24,
   "id": "4cedc290",
   "metadata": {},
   "outputs": [
    {
     "name": "stdout",
     "output_type": "stream",
     "text": [
      "['Hey', 'Hello']\n"
     ]
    }
   ],
   "source": [
    "x.extend(y)\n",
    "print(x)"
   ]
  },
  {
   "cell_type": "markdown",
   "id": "2a45e4be",
   "metadata": {},
   "source": [
    "If you know the ```range()```, ```extend()```, and ```len()``` functions, you can combine them to iterate over ```csv_list``` and put together strings."
   ]
  },
  {
   "cell_type": "code",
   "execution_count": 25,
   "id": "4771f72c",
   "metadata": {},
   "outputs": [
    {
     "name": "stdout",
     "output_type": "stream",
     "text": [
      "We are looping through item number: 0 of type: <class 'list'> in csv_list\n",
      "We are looping through item number: 1 of type: <class 'list'> in csv_list\n",
      "We are looping through item number: 2 of type: <class 'list'> in csv_list\n",
      "We are looping through item number: 3 of type: <class 'list'> in csv_list\n",
      "We are looping through item number: 4 of type: <class 'list'> in csv_list\n"
     ]
    }
   ],
   "source": [
    "string_list = []\n",
    "\n",
    "for index_num in range(len(csv_list)):\n",
    "    print(f'We are looping through item number: {index_num} of type: {type(csv_list[index_num])} in csv_list')\n",
    "    string_list.extend(csv_list[index_num])"
   ]
  },
  {
   "cell_type": "code",
   "execution_count": 26,
   "id": "ca63bd68",
   "metadata": {},
   "outputs": [
    {
     "data": {
      "text/plain": [
       "list"
      ]
     },
     "execution_count": 26,
     "metadata": {},
     "output_type": "execute_result"
    }
   ],
   "source": [
    "type(string_list)"
   ]
  },
  {
   "cell_type": "code",
   "execution_count": 27,
   "id": "ee5b1e95",
   "metadata": {},
   "outputs": [
    {
     "data": {
      "text/plain": [
       "str"
      ]
     },
     "execution_count": 27,
     "metadata": {},
     "output_type": "execute_result"
    }
   ],
   "source": [
    "type(string_list[0])"
   ]
  },
  {
   "cell_type": "code",
   "execution_count": 28,
   "id": "db7e9258",
   "metadata": {},
   "outputs": [
    {
     "data": {
      "text/plain": [
       "'\\ufeff\"Molly Malone (also known as \"\"Cockles and Mussels\"\" or \"\"In Dublin\\'s Fair City\"\") is a popular song set in Dublin'"
      ]
     },
     "execution_count": 28,
     "metadata": {},
     "output_type": "execute_result"
    }
   ],
   "source": [
    "string_list[0]"
   ]
  },
  {
   "cell_type": "code",
   "execution_count": 29,
   "id": "e1c72184",
   "metadata": {},
   "outputs": [
    {
     "name": "stdout",
     "output_type": "stream",
     "text": [
      "There are 63 senetences in string_list\n"
     ]
    }
   ],
   "source": [
    "print(f'There are {len(string_list)} senetences in string_list')"
   ]
  },
  {
   "cell_type": "markdown",
   "id": "5e096a2a",
   "metadata": {},
   "source": [
    "Now, let's try to ```.join``` method but on simplified data (deep breaths! it's only one of many many methods you can use). Uncomment each section and try to understand it."
   ]
  },
  {
   "cell_type": "code",
   "execution_count": 30,
   "id": "cfbce11e-bfa4-49a4-8cc6-d18480d1e79f",
   "metadata": {},
   "outputs": [
    {
     "name": "stdout",
     "output_type": "stream",
     "text": [
      "<class 'list'>\n",
      "<class 'list'>\n",
      "<class 'list'>\n"
     ]
    }
   ],
   "source": [
    "lst_of_lsts = [[\"Hi There!\"], [\"How are you..?\"], [\"!Hello World!\"]]\n",
    "\n",
    "for x in lst_of_lsts:\n",
    "    print(type(x))\n",
    "\n",
    "# final_lst = []\n",
    "\n",
    "# for string_lst in lst_of_lsts:\n",
    "#     joined_lst = ', '.join(string_lst)\n",
    "#     print(joined_lst)\n",
    "#     final_lst.append(joined_lst)\n",
    "\n",
    "# print(final_lst)\n",
    "# for x in final_lst:\n",
    "#     print(type(x))\n",
    "# print(len(final_lst))"
   ]
  },
  {
   "cell_type": "markdown",
   "id": "04707c25",
   "metadata": {},
   "source": [
    "### WELL DONE!\n",
    "Keep practicing with small chunks of code and soon you'll be able to explore all kinds of data structures :)"
   ]
  },
  {
   "cell_type": "code",
   "execution_count": null,
   "id": "c3ef94ac",
   "metadata": {},
   "outputs": [],
   "source": []
  }
 ],
 "metadata": {
  "kernelspec": {
   "display_name": "Python 3 (ipykernel)",
   "language": "python",
   "name": "python3"
  },
  "language_info": {
   "codemirror_mode": {
    "name": "ipython",
    "version": 3
   },
   "file_extension": ".py",
   "mimetype": "text/x-python",
   "name": "python",
   "nbconvert_exporter": "python",
   "pygments_lexer": "ipython3",
   "version": "3.9.12"
  },
  "latex_envs": {
   "LaTeX_envs_menu_present": true,
   "autoclose": false,
   "autocomplete": true,
   "bibliofile": "biblio.bib",
   "cite_by": "apalike",
   "current_citInitial": 1,
   "eqLabelWithNumbers": true,
   "eqNumInitial": 1,
   "hotkeys": {
    "equation": "Ctrl-E",
    "itemize": "Ctrl-I"
   },
   "labels_anchors": false,
   "latex_user_defs": false,
   "report_style_numbering": false,
   "user_envs_cfg": false
  },
  "toc": {
   "base_numbering": 1,
   "nav_menu": {},
   "number_sections": true,
   "sideBar": true,
   "skip_h1_title": false,
   "title_cell": "Table of Contents",
   "title_sidebar": "Contents",
   "toc_cell": false,
   "toc_position": {},
   "toc_section_display": true,
   "toc_window_display": false
  },
  "varInspector": {
   "cols": {
    "lenName": 16,
    "lenType": 16,
    "lenVar": 40
   },
   "kernels_config": {
    "python": {
     "delete_cmd_postfix": "",
     "delete_cmd_prefix": "del ",
     "library": "var_list.py",
     "varRefreshCmd": "print(var_dic_list())"
    },
    "r": {
     "delete_cmd_postfix": ") ",
     "delete_cmd_prefix": "rm(",
     "library": "var_list.r",
     "varRefreshCmd": "cat(var_dic_list()) "
    }
   },
   "types_to_exclude": [
    "module",
    "function",
    "builtin_function_or_method",
    "instance",
    "_Feature"
   ],
   "window_display": false
  }
 },
 "nbformat": 4,
 "nbformat_minor": 5
}
