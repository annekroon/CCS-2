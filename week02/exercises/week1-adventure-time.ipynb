{
 "cells": [
  {
   "cell_type": "markdown",
   "id": "b39db589",
   "metadata": {},
   "source": [
    "### Adventure Time! Let's experiment some...\n",
    "\n",
    "Below, you will find the code from last week's lab session. We will use this code to practice, experiment, and have some adventures.\n",
    "\n",
    "*Remember, mistakes are a normal part of learning to code so don't worry about errors and take your time.*"
   ]
  },
  {
   "cell_type": "markdown",
   "id": "780d9dd4",
   "metadata": {},
   "source": [
    "Let's start with what we know. We know that we need to open a csv file called ```WikiPediaSongs.csv```. A good place to start is by importing the csv library and exploring it's methods and functions. You can do this by typing ```csv.``` then pressing tab (in jupyter notebook and lab after importing the library)."
   ]
  },
  {
   "cell_type": "markdown",
   "id": "1dfe6e1a",
   "metadata": {},
   "source": [
    "Another way is by using the ```dir()``` function."
   ]
  },
  {
   "cell_type": "code",
   "execution_count": null,
   "id": "3451d914",
   "metadata": {},
   "outputs": [],
   "source": [
    "import csv"
   ]
  },
  {
   "cell_type": "code",
   "execution_count": null,
   "id": "a9dfc096",
   "metadata": {},
   "outputs": [],
   "source": [
    "dir(csv)"
   ]
  },
  {
   "cell_type": "markdown",
   "id": "d7cd1ae9",
   "metadata": {},
   "source": [
    "In the above cell, we see a number of methods and functions that can be called by the csv library.\n",
    "\n",
    "If the library developers were kind, they use descriptive method names.\n",
    "\n",
    "For ```csv```, we see methods like ```excel```, ```re``` (for use with regular expressions), and ```writer```.\n",
    "\n",
    "You don't have to know all of them – and rarely do coders know all the methods of a class or library.\n",
    "\n",
    "***You can also see ```reader``` in the list of methods. From it's name, we can guess it's the method we need to read a csv file.***"
   ]
  },
  {
   "cell_type": "markdown",
   "id": "ffa1d197",
   "metadata": {},
   "source": [
    "### Your turn to experiment.\n",
    "Use the ```dir``` function on ```str```. Do you see any familiar methods? Which ones?"
   ]
  },
  {
   "cell_type": "code",
   "execution_count": null,
   "id": "6793515a",
   "metadata": {},
   "outputs": [],
   "source": [
    "# Your code goes here\n"
   ]
  },
  {
   "cell_type": "markdown",
   "id": "e9500913",
   "metadata": {},
   "source": [
    "Now, let's experiment with the csv file.\n",
    "\n",
    "We know that the ```open()``` function is used to open all kinds of files.\n",
    "\n",
    "We usually use open in combination with ```with```. This is a safe way to open files, but let's simplify and try to open the file without ```with```.\n",
    "\n",
    "Danger zone up ahead!"
   ]
  },
  {
   "cell_type": "code",
   "execution_count": null,
   "id": "cc9124a0",
   "metadata": {},
   "outputs": [],
   "source": [
    "open(\"WikiPediaSongs.csv\")\n"
   ]
  },
  {
   "cell_type": "markdown",
   "id": "43b96588",
   "metadata": {},
   "source": [
    "Did you get an error? If so, that means the ```WikiPediaSongs.csv``` file is not in the folder where this jupyter notebook file is located. Find out where your file is and add the path before the file name like this:\n",
    "\n",
    "```open(\"/path/to/csv/file/WikiPediaSongs.csv\")```"
   ]
  },
  {
   "cell_type": "markdown",
   "id": "117c8a7e",
   "metadata": {},
   "source": [
    "### How to find your current folder/directory:"
   ]
  },
  {
   "cell_type": "code",
   "execution_count": null,
   "id": "0eeda1aa",
   "metadata": {},
   "outputs": [],
   "source": [
    "print(f'Your current folder is:{os.getcwd()}')"
   ]
  },
  {
   "cell_type": "markdown",
   "id": "f3adeb75",
   "metadata": {},
   "source": [
    "**Note the f-string**: placing an ```f``` before string quotation marks -> ```\" \"``` allows us to use curly brackets -> ```{}``` as an empty spot to put our variable in. Think of it like fill in the blanks. You can use f-strings for any string, even dataframe column names:\n",
    "\n",
    "```df[f'{path}']```"
   ]
  },
  {
   "cell_type": "markdown",
   "id": "2f768f98",
   "metadata": {},
   "source": [
    "### How to find where files are:"
   ]
  },
  {
   "cell_type": "markdown",
   "id": "fb290c2d",
   "metadata": {},
   "source": [
    "**!!!** This is just a handy function that you can reuse if you're stuck. You do not need to know any ```os``` methods and this will not be in any CCS-2 exam or assignment requirement **!!!**"
   ]
  },
  {
   "cell_type": "code",
   "execution_count": null,
   "id": "25e2b72c",
   "metadata": {},
   "outputs": [],
   "source": [
    "def find_files(filename, search_path):\n",
    "    result = []\n",
    "\n",
    "    for root, dir, files in os.walk(search_path):\n",
    "        if filename in files:\n",
    "            result.append(os.path.join(root, filename))\n",
    "    return result"
   ]
  },
  {
   "cell_type": "code",
   "execution_count": null,
   "id": "485b793e",
   "metadata": {},
   "outputs": [],
   "source": [
    "path = find_files('WikipediaSongs.csv', '/Users/nyxinsane/Library/CloudStorage/OneDrive-UvA/Teaching/CCS-2')\n",
    "print(f'The WikiPediaSongs.csv file is in one of {len(path)} paths:\\n{path}')"
   ]
  },
  {
   "cell_type": "markdown",
   "id": "70f5a333",
   "metadata": {},
   "source": [
    "Try using ```open``` with the right file path"
   ]
  },
  {
   "cell_type": "code",
   "execution_count": null,
   "id": "37601e9c",
   "metadata": {},
   "outputs": [],
   "source": [
    "# open(\"/path/to/csv/file/WikiPediaSongs.csv\")\n"
   ]
  },
  {
   "cell_type": "markdown",
   "id": "e656ea66",
   "metadata": {},
   "source": [
    "Running the cell above tells us a lot about the file. Read the output and try to figure out what ```mode='r'``` means."
   ]
  },
  {
   "cell_type": "markdown",
   "id": "9f0a86ff",
   "metadata": {},
   "source": [
    "Let's apply the ```csv.reader``` method to the TextIOWrapper object and assign it to a variable ```csv_file```."
   ]
  },
  {
   "cell_type": "code",
   "execution_count": null,
   "id": "7268e9f3",
   "metadata": {},
   "outputs": [],
   "source": [
    "csv_file = csv.reader(open('/Users/nyxinsane/Library/CloudStorage/OneDrive-UvA/Teaching/CCS-2/CCS-2 Course Content/week02/WikipediaSongs.csv'))"
   ]
  },
  {
   "cell_type": "markdown",
   "id": "173074e9",
   "metadata": {},
   "source": [
    "Now, let's print the length of the ```csv_file```."
   ]
  },
  {
   "cell_type": "code",
   "execution_count": null,
   "id": "ee41ebe1",
   "metadata": {},
   "outputs": [],
   "source": [
    "len(csv_file)"
   ]
  },
  {
   "cell_type": "markdown",
   "id": "1bc62e6b",
   "metadata": {},
   "source": [
    "We got an error. Where do we go from here? When in doubt, place the object in a **list**!"
   ]
  },
  {
   "cell_type": "markdown",
   "id": "376b3ba2",
   "metadata": {},
   "source": [
    "#### TIP:\n",
    "Some python objects are non-subscriptable. This means, the objects can't be looped through in a ```for``` or ```while``` loop and can't be sliced using ```[0]```. A ```csv.reader``` is one such object. Lists, however, are subscriptable, so a good first step in figuring out data structures is to use a list."
   ]
  },
  {
   "cell_type": "markdown",
   "id": "1d3898ae",
   "metadata": {},
   "source": [
    "Add ```[0]``` after ```csv_file``` below and read the error message carefully."
   ]
  },
  {
   "cell_type": "code",
   "execution_count": null,
   "id": "6b87e87d",
   "metadata": {},
   "outputs": [],
   "source": [
    "csv_file[0]"
   ]
  },
  {
   "cell_type": "markdown",
   "id": "df1e8751",
   "metadata": {},
   "source": [
    "Let's try using the ```list()``` function."
   ]
  },
  {
   "cell_type": "code",
   "execution_count": null,
   "id": "c1e0101f",
   "metadata": {},
   "outputs": [],
   "source": [
    "csv_list = list(csv_file)\n",
    "print(csv_list)"
   ]
  },
  {
   "cell_type": "markdown",
   "id": "6d4dfdd2",
   "metadata": {},
   "source": [
    "# That's a lot of output!\n",
    "\n",
    "Let's try slicing the csv list using ```[0]``` to get the element/item at the index 0."
   ]
  },
  {
   "cell_type": "code",
   "execution_count": null,
   "id": "5bf534f4",
   "metadata": {},
   "outputs": [],
   "source": [
    "csv_list[0]"
   ]
  },
  {
   "cell_type": "markdown",
   "id": "a0eb7cad",
   "metadata": {},
   "source": [
    "Now try slicing the original ```list(csv_file)``` the same way using ```[0]``` (try TWICE). What happens?"
   ]
  },
  {
   "cell_type": "code",
   "execution_count": null,
   "id": "80432bfd",
   "metadata": {},
   "outputs": [],
   "source": [
    "list(csv_file)[0]"
   ]
  },
  {
   "cell_type": "markdown",
   "id": "9d0bed79",
   "metadata": {},
   "source": [
    "#### TIP:\n",
    "It's very important to assign your objects to variables, otherwise you distort them. When you work with vectorizers, you will realize you are applying methods to the same object and changing it without realizing.\n",
    "\n",
    "You can solve these issues by reloading the data, restarting your kernel, or running your code from the very top. Always assign to variables and save to files in the form of ```txt```, ```csv```, or others."
   ]
  },
  {
   "cell_type": "markdown",
   "id": "8ca0c8ad",
   "metadata": {},
   "source": [
    "Now, let's print the length of ```csv_list```."
   ]
  },
  {
   "cell_type": "code",
   "execution_count": null,
   "id": "5818f6f1",
   "metadata": {},
   "outputs": [],
   "source": [
    "len(csv_list)"
   ]
  },
  {
   "cell_type": "markdown",
   "id": "d95080c2",
   "metadata": {},
   "source": [
    "Now, let's slice ```csv_list``` and print the lenth of the slice AND its type."
   ]
  },
  {
   "cell_type": "code",
   "execution_count": null,
   "id": "c94bcbda",
   "metadata": {},
   "outputs": [],
   "source": [
    "len(csv_list[0])"
   ]
  },
  {
   "cell_type": "markdown",
   "id": "93967df4",
   "metadata": {},
   "source": [
    "```csv_list[0]```, or the first element of ```csv_list```, contains 59 items."
   ]
  },
  {
   "cell_type": "code",
   "execution_count": null,
   "id": "49c3c3ab",
   "metadata": {},
   "outputs": [],
   "source": [
    "type(csv_list[0])"
   ]
  },
  {
   "cell_type": "markdown",
   "id": "5e436d34",
   "metadata": {},
   "source": [
    "```csv_list[0]```, or the first element of ```csv_list```, is also a list."
   ]
  },
  {
   "cell_type": "markdown",
   "id": "531c64ed",
   "metadata": {},
   "source": [
    "Let's slice further."
   ]
  },
  {
   "cell_type": "code",
   "execution_count": null,
   "id": "1d9ecf4f",
   "metadata": {},
   "outputs": [],
   "source": [
    "len(csv_list[0][0])"
   ]
  },
  {
   "cell_type": "code",
   "execution_count": null,
   "id": "f1e96a48",
   "metadata": {},
   "outputs": [],
   "source": [
    "type(csv_list[0][0])"
   ]
  },
  {
   "cell_type": "markdown",
   "id": "de780527",
   "metadata": {},
   "source": [
    "Finally, we've reached a string! But what exactly is 115?"
   ]
  },
  {
   "cell_type": "code",
   "execution_count": null,
   "id": "56a2cc17",
   "metadata": {},
   "outputs": [],
   "source": [
    "print(csv_list[0][0])"
   ]
  },
  {
   "cell_type": "markdown",
   "id": "e0e6ee06",
   "metadata": {},
   "source": [
    "The senetence printed above has 115 characters, including spaces and punctuations."
   ]
  },
  {
   "cell_type": "markdown",
   "id": "7205c4a1",
   "metadata": {},
   "source": [
    "If you're not comfortable with slicing, you can also do this kind of exploration using ```for loops```. Uncomment one for loop at a time below to see if you know what you are accessing."
   ]
  },
  {
   "cell_type": "code",
   "execution_count": null,
   "id": "149ebecc",
   "metadata": {},
   "outputs": [],
   "source": [
    "# for i in csv_list:\n",
    "#     print(type(i))\n",
    "#     print(len(i))\n",
    "#     for j in i:\n",
    "#         print(type(j))\n",
    "#         print(len(j))\n",
    "#         for u in j:\n",
    "#             print(type(u))\n",
    "#             print(len(u))\n",
    "#             print(\"\\n\")"
   ]
  },
  {
   "cell_type": "markdown",
   "id": "9320c3af",
   "metadata": {},
   "source": [
    "Alright, so how do I turn this list of lists of strings into a string? Let's keep it simple and use the ```+``` operator. Below is a simplified version of what we will be doing."
   ]
  },
  {
   "cell_type": "code",
   "execution_count": null,
   "id": "6b6a9591",
   "metadata": {},
   "outputs": [],
   "source": [
    "x = ['Hey']\n",
    "y = ['Hello']"
   ]
  },
  {
   "cell_type": "code",
   "execution_count": null,
   "id": "4c246961",
   "metadata": {},
   "outputs": [],
   "source": [
    "print(x+y)"
   ]
  },
  {
   "cell_type": "code",
   "execution_count": null,
   "id": "4cedc290",
   "metadata": {},
   "outputs": [],
   "source": [
    "x.extend(y)\n",
    "print(x)"
   ]
  },
  {
   "cell_type": "markdown",
   "id": "56ca16e4",
   "metadata": {},
   "source": [
    "Let's try with the ```+``` operator"
   ]
  },
  {
   "cell_type": "code",
   "execution_count": null,
   "id": "44b3a8e6",
   "metadata": {},
   "outputs": [],
   "source": [
    "string = \"\"\n",
    "\n",
    "for i in csv_list:\n",
    "    for j in i:\n",
    "        string+=j\n"
   ]
  },
  {
   "cell_type": "code",
   "execution_count": null,
   "id": "3f5f4579",
   "metadata": {},
   "outputs": [],
   "source": [
    "print(string[2:15])\n",
    "print(string[44:50])"
   ]
  },
  {
   "cell_type": "code",
   "execution_count": null,
   "id": "b56ccde6",
   "metadata": {},
   "outputs": [],
   "source": [
    "print(f'There are {len(string)} characters in string')"
   ]
  },
  {
   "cell_type": "markdown",
   "id": "2a45e4be",
   "metadata": {},
   "source": [
    "If you know the ```range()```, ```extend()```, and ```len()``` functions, you can combine them to iterate over ```csv_list``` and put together strings."
   ]
  },
  {
   "cell_type": "code",
   "execution_count": null,
   "id": "4771f72c",
   "metadata": {},
   "outputs": [],
   "source": [
    "string_list = []\n",
    "\n",
    "for index_num in range(len(csv_list)):\n",
    "    print(f'We are looping through item number: {index_num} of type: {type(csv_list[index_num])} in csv_list')\n",
    "    string_list.extend(csv_list[index_num])"
   ]
  },
  {
   "cell_type": "code",
   "execution_count": null,
   "id": "ca63bd68",
   "metadata": {},
   "outputs": [],
   "source": [
    "type(string_list)"
   ]
  },
  {
   "cell_type": "code",
   "execution_count": null,
   "id": "ee5b1e95",
   "metadata": {},
   "outputs": [],
   "source": [
    "type(string_list[0])"
   ]
  },
  {
   "cell_type": "code",
   "execution_count": null,
   "id": "db7e9258",
   "metadata": {},
   "outputs": [],
   "source": [
    "string_list[0]"
   ]
  },
  {
   "cell_type": "code",
   "execution_count": null,
   "id": "e1c72184",
   "metadata": {},
   "outputs": [],
   "source": [
    "print(f'There are {len(string_list)} senetences in string_list')"
   ]
  },
  {
   "cell_type": "markdown",
   "id": "5e096a2a",
   "metadata": {},
   "source": [
    "Now, let's try the infamous ```.join``` method but on simplified data (deep breaths! it's only one of many many methods you can use as we just saw).\n",
    "\n",
    "Check out ```lst_of_lsts```. How would you describe it (more than \"it's a list of lists\")?\n",
    "\n",
    "Uncomment each section and try to understand it."
   ]
  },
  {
   "cell_type": "code",
   "execution_count": null,
   "id": "cfbce11e-bfa4-49a4-8cc6-d18480d1e79f",
   "metadata": {},
   "outputs": [],
   "source": [
    "lst_of_lsts = [[\"Hi There!\"], [\"How are you..?\"], [\"!Hello World!\"]]\n",
    "\n",
    "for x in lst_of_lsts:\n",
    "    print(type(x))\n",
    "\n",
    "# final_lst = []\n",
    "\n",
    "# for string_lst in lst_of_lsts:\n",
    "#     joined_lst = ', '.join(string_lst)\n",
    "#     print(joined_lst)\n",
    "#     final_lst.append(joined_lst)\n",
    "\n",
    "# print(final_lst)\n",
    "# for x in final_lst:\n",
    "#     print(type(x))\n",
    "# print(len(final_lst))"
   ]
  },
  {
   "cell_type": "markdown",
   "id": "04707c25",
   "metadata": {},
   "source": [
    "### WELL DONE!\n",
    "Keep practicing with small chunks of code and soon you'll be able to explore all kinds of data structures :)"
   ]
  },
  {
   "cell_type": "markdown",
   "id": "12dffcfe",
   "metadata": {},
   "source": [
    "If you'd like to practice more, try to find out how many words are in the variable ```string```.\n",
    "\n",
    "Want even more adventure? Try to find out how many words are in the variable ```string_list```."
   ]
  },
  {
   "cell_type": "code",
   "execution_count": null,
   "id": "c3ef94ac",
   "metadata": {},
   "outputs": [],
   "source": []
  }
 ],
 "metadata": {
  "kernelspec": {
   "display_name": "Python 3 (ipykernel)",
   "language": "python",
   "name": "python3"
  },
  "language_info": {
   "codemirror_mode": {
    "name": "ipython",
    "version": 3
   },
   "file_extension": ".py",
   "mimetype": "text/x-python",
   "name": "python",
   "nbconvert_exporter": "python",
   "pygments_lexer": "ipython3",
   "version": "3.9.12"
  },
  "latex_envs": {
   "LaTeX_envs_menu_present": true,
   "autoclose": false,
   "autocomplete": true,
   "bibliofile": "biblio.bib",
   "cite_by": "apalike",
   "current_citInitial": 1,
   "eqLabelWithNumbers": true,
   "eqNumInitial": 1,
   "hotkeys": {
    "equation": "Ctrl-E",
    "itemize": "Ctrl-I"
   },
   "labels_anchors": false,
   "latex_user_defs": false,
   "report_style_numbering": false,
   "user_envs_cfg": false
  },
  "toc": {
   "base_numbering": 1,
   "nav_menu": {},
   "number_sections": true,
   "sideBar": true,
   "skip_h1_title": false,
   "title_cell": "Table of Contents",
   "title_sidebar": "Contents",
   "toc_cell": false,
   "toc_position": {},
   "toc_section_display": true,
   "toc_window_display": false
  },
  "varInspector": {
   "cols": {
    "lenName": 16,
    "lenType": 16,
    "lenVar": 40
   },
   "kernels_config": {
    "python": {
     "delete_cmd_postfix": "",
     "delete_cmd_prefix": "del ",
     "library": "var_list.py",
     "varRefreshCmd": "print(var_dic_list())"
    },
    "r": {
     "delete_cmd_postfix": ") ",
     "delete_cmd_prefix": "rm(",
     "library": "var_list.r",
     "varRefreshCmd": "cat(var_dic_list()) "
    }
   },
   "types_to_exclude": [
    "module",
    "function",
    "builtin_function_or_method",
    "instance",
    "_Feature"
   ],
   "window_display": false
  }
 },
 "nbformat": 4,
 "nbformat_minor": 5
}
