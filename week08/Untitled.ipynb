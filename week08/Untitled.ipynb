{
 "cells": [
  {
   "cell_type": "code",
   "execution_count": 22,
   "id": "afdf6757",
   "metadata": {},
   "outputs": [],
   "source": [
    "import csv\n",
    "from collections import Counter\n",
    "import matplotlib.pyplot as plt\n",
    "from sklearn.model_selection import train_test_split\n",
    "\n",
    "from sklearn.feature_extraction.text import (CountVectorizer, TfidfVectorizer)\n",
    "from sklearn.linear_model import (LogisticRegression)\n",
    "from sklearn.naive_bayes import MultinomialNB\n",
    "from sklearn.pipeline import (make_pipeline, Pipeline)\n",
    "from sklearn.model_selection import GridSearchCV\n",
    "from sklearn import metrics"
   ]
  },
  {
   "cell_type": "code",
   "execution_count": 6,
   "id": "6ea899e5",
   "metadata": {},
   "outputs": [],
   "source": [
    "# Import the data\n",
    "\n",
    "file = \"hatespeech_text_label_vote_RESTRICTED_100K.csv\"\n",
    "tweets = []\n",
    "labels = []\n",
    "\n",
    "with open(file) as fi:\n",
    "    data = csv.reader(fi, delimiter='\\t')\n",
    "    for row in data:\n",
    "        tweets.append(row[0])\n",
    "        labels.append(row[1])"
   ]
  },
  {
   "cell_type": "code",
   "execution_count": 10,
   "id": "12751afe",
   "metadata": {},
   "outputs": [
    {
     "data": {
      "text/plain": [
       "True"
      ]
     },
     "execution_count": 10,
     "metadata": {},
     "output_type": "execute_result"
    }
   ],
   "source": [
    "# Each tweet has a label, so these lists should have the same length.\n",
    "\n",
    "len(tweets) == len(labels)"
   ]
  },
  {
   "cell_type": "code",
   "execution_count": 16,
   "id": "05e0b3d6",
   "metadata": {},
   "outputs": [
    {
     "data": {
      "text/plain": [
       "Counter({'spam': 14030, 'abusive': 27150, 'normal': 53851, 'hateful': 4965})"
      ]
     },
     "execution_count": 16,
     "metadata": {},
     "output_type": "execute_result"
    }
   ],
   "source": [
    "# How many of each different type of tweets are there?\n",
    "\n",
    "Counter(labels)"
   ]
  },
  {
   "cell_type": "code",
   "execution_count": 17,
   "id": "a02b931e",
   "metadata": {},
   "outputs": [
    {
     "data": {
      "text/plain": [
       "<BarContainer object of 4 artists>"
      ]
     },
     "execution_count": 17,
     "metadata": {},
     "output_type": "execute_result"
    },
    {
     "data": {
      "image/png": "[encoded data removed]",
      "text/plain": [
       "<Figure size 432x288 with 1 Axes>"
      ]
     },
     "metadata": {
      "needs_background": "light"
     },
     "output_type": "display_data"
    }
   ],
   "source": [
    "# Bonus point if you can make a visual\n",
    "\n",
    "plt.bar(Counter(labels).keys(), Counter(labels).values())"
   ]
  },
  {
   "cell_type": "code",
   "execution_count": 27,
   "id": "7375e374",
   "metadata": {},
   "outputs": [],
   "source": [
    "# Split data into a training set and a test set\n",
    "\n",
    "tweets_train, tweets_test, y_train, y_test = train_test_split(tweets, labels, test_size=0.2, random_state=42)"
   ]
  },
  {
   "cell_type": "code",
   "execution_count": 28,
   "id": "22359a46",
   "metadata": {},
   "outputs": [],
   "source": [
    "# Create two vectorizers\n",
    "\n",
    "countvectorizer = CountVectorizer(stop_words=\"english\")\n",
    "X_train = countvectorizer.fit_transform(tweets_train)\n",
    "X_test = countvectorizer.transform(tweets_test)\n",
    "\n",
    "Tfidfvectorizer = TfidfVectorizer(stop_words=\"english\")\n",
    "X_train = Tfidfvectorizer.fit_transform(tweets_train)\n",
    "X_test = Tfidfvectorizer.transform(tweets_test)"
   ]
  },
  {
   "cell_type": "code",
   "execution_count": 34,
   "id": "48199cba",
   "metadata": {},
   "outputs": [
    {
     "name": "stdout",
     "output_type": "stream",
     "text": [
      "    \tPrecision\tRecall\n",
      "normal:\t0.72\t\t0.72\n",
      "spam:\t0.72\t\t0.72\n",
      "hateful:\t0.72\t\t0.72\n",
      "abusive:\t0.72\t\t0.72\n"
     ]
    }
   ],
   "source": [
    "# Train the classifiers\n",
    "\n",
    "# Start with Bayes\n",
    "\n",
    "nb = MultinomialNB()\n",
    "nb.fit(X_train, y_train)\n",
    "\n",
    "y_pred = nb.predict(X_test)\n",
    "\n",
    "print(\"    \\tPrecision\\tRecall\")\n",
    "for label in set(y_pred):\n",
    "    pr = metrics.precision_score(y_test, y_pred, average='micro')\n",
    "    re = metrics.recall_score(y_test,y_pred, average='micro')\n",
    "    print(f\"{label}:\\t{pr:0.2f}\\t\\t{re:0.2f}\")"
   ]
  },
  {
   "cell_type": "code",
   "execution_count": null,
   "id": "8440d716",
   "metadata": {},
   "outputs": [],
   "source": []
  }
 ],
 "metadata": {
  "kernelspec": {
   "display_name": "Python 3 (ipykernel)",
   "language": "python",
   "name": "python3"
  },
  "language_info": {
   "codemirror_mode": {
    "name": "ipython",
    "version": 3
   },
   "file_extension": ".py",
   "mimetype": "text/x-python",
   "name": "python",
   "nbconvert_exporter": "python",
   "pygments_lexer": "ipython3",
   "version": "3.9.7"
  }
 },
 "nbformat": 4,
 "nbformat_minor": 5
}
