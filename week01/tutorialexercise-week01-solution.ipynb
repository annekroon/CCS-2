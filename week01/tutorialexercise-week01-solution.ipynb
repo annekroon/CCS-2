{
 "cells": [
  {
   "cell_type": "code",
   "execution_count": 3,
   "id": "12bef671",
   "metadata": {},
   "outputs": [],
   "source": [
    "# Question 1\n",
    "# Download the data and import them\n",
    "\n",
    "import csv\n",
    "\n",
    "wikitexts = []\n",
    "\n",
    "with open(\"WikiPediaSongs.csv\") as fi:\n",
    "    data = csv.reader(fi, delimiter='\\t')\n",
    "    for row in data:\n",
    "        wikitext = ', '.join(row)\n",
    "        wikitexts.append(wikitext)"
   ]
  },
  {
   "cell_type": "code",
   "execution_count": 13,
   "id": "e119d9b3",
   "metadata": {
    "scrolled": true
   },
   "outputs": [
    {
     "name": "stdout",
     "output_type": "stream",
     "text": [
      "﻿\"Molly Malone (also known as \"\"Cockles and Mussels\"\" or \"\"In Dublin's Fair City\"\") is a popular song set in Dublin, Ireland, which has become its unofficial anthem. A statue representing Molly Malone was unveiled on Grafton Street by then Lord Mayor of Dublin, Ben Briscoe, during the 1988 Dublin Millennium celebrations, when 13 June was declared to be Molly Malone Day. In July 2014, the statue was relocated to Suffolk Street, in front of the Tourist Information Office, to make way for Luas track-laying work at the old location. The song tells the fictional tale of a fishwife who plied her trade on the streets of Dublin and died young, of a fever. In the late 20th century, a legend grew up that there was a historical Molly, who lived in the 17th century. She is typically represented as a hawker by day and part-time prostitute by night.[1] In contrast, she has also been portrayed as one of the few chaste female street hawkers of her day. There is no evidence that the song is based on a real woman in the 17th century or any other time. The name \"\"Molly\"\" originated as a familiar version of the names Mary and Margaret. Many such \"\"Molly\"\" Malones were born in Dublin over the centuries, but no evidence connects any of them to the events in the song.[1][2] Nevertheless, the Dublin Millennium Commission in 1988 endorsed claims made for a Mary Malone who died on 13 June 1699, and proclaimed 13 June to be \"\"Molly Malone Day\"\".[1] The song is not recorded earlier than 1876, when it was published in Boston, Massachusetts.[3] Its placement in the section of the book titled \"\"Songs from English and German Universities\"\" suggests an Irish origin.[4] It was also published by Francis Brothers and Day in London in 1884 as a work written and composed by James Yorkston, of Edinburgh, with music arranged by Edmund Forman. The London edition states that it was reprinted by permission of Kohler and Son of Edinburgh, implying that the first edition was in Scotland, but no copies of it have been found.[5][6] According to Siobh\\'e1n Marie Kilfeather, the song is from the music hall style of the period, and one cannot wholly dismiss the possibility that it is \"\"based on an older folk song\"\", but \"\"neither melody nor words bear any relationship to the Irish tradition of street ballads\"\". She calls the story of the historical Molly \"\"nonsense\"\". The song is in a familiar tragicomic mode that was then popular and was probably influenced by earlier songs with a similar theme, such as Percy Montrose's \"\"Oh My Darling, Clementine\"\", which was written in about 1880. A variant, \"\"Cockles and Mussels\"\", with some different lyrics, appeared in Students' Songs: Comprising the Newest and Most Popular College Songs As Now Sung at Harvard, Yale, Columbia, ... Union, Etc in 1884.[7] A copy of Apollo's Medley, dating from around 1790, published in Doncaster and rediscovered in 2010, contains a song referring to \"\"Sweet Molly Malone\"\" on page 78 that ends with the line \"\"Och! I'll roar and I'll groan, My sweet Molly Malone, Till I'm bone of your bone, And asleep in your bed.\"\" Other than this name and the fact that she lives in Howth, near Dublin, this song bears no resemblance to Molly Malone.[8] The song was later reprinted in the collection The Shamrock: A Collection of Irish Songs (1831) and was published in The Edinburgh Literary Journal that year with the title \"\"Molly Malone\"\".[9] Some elements of the song appear in several earlier songs. A character named Molly Malone appears in at least two other songs. The song \"\"Widow Malone,\"\" published as early as 1809, refers to the title character alternately as \"\"Molly Malone,\"\" \"\"Mary Malone\"\" and \"\"sweet mistress Malone\"\".[4] An American song, \"\"Meet Me Miss Molly Malone\"\", was published as early as 1840.[4] The song \"\"Pat Corney's Account of Himself\"\", published as early as 1826,[10] begins, \"\"Now it's show me that city where the girls are so pretty\"\" and ends, \"\"Crying oysters, and cockles, and Mussels for sale.\"\"[4] During the 19th century, the expression \"\"Dublin's fair city\"\" was used regularly in reference to Dublin, and the phrase \"\"alive, alive O\"\" is known to have been shouted by street vendors selling oysters, mussels, fish and eels.[4] Source: https://en.wikipedia.org/wiki/Molly_Malone (retrieved 1 March 2022)\"\n"
     ]
    }
   ],
   "source": [
    "# Question 1\n",
    "# Focus on the first text only\n",
    "\n",
    "MollyMalone = wikitexts[0]\n",
    "print(MollyMalone)"
   ]
  },
  {
   "cell_type": "code",
   "execution_count": 111,
   "id": "a66a9eab",
   "metadata": {},
   "outputs": [
    {
     "name": "stdout",
     "output_type": "stream",
     "text": [
      "There are 847 words in this text.\n",
      "There are 30 sentences in this text.\n"
     ]
    },
    {
     "name": "stderr",
     "output_type": "stream",
     "text": [
      "[nltk_data] Downloading package punkt to /Users/marthe/nltk_data...\n",
      "[nltk_data]   Package punkt is already up-to-date!\n",
      "[nltk_data] Downloading package wordnet to /Users/marthe/nltk_data...\n",
      "[nltk_data]   Package wordnet is already up-to-date!\n"
     ]
    }
   ],
   "source": [
    "# Question 1\n",
    "# How many words and sentences are there in this text?\n",
    "# Do not consider punctuation\n",
    "# Make everything lower letters (otherwise molly and Molly are counted as different words)\n",
    "# Use lemmatization (to account for different conjugations of verbs)\n",
    "\n",
    "import nltk\n",
    "from nltk.tokenize import word_tokenize\n",
    "nltk.download('punkt')\n",
    "import string\n",
    "punct = list(string.punctuation)\n",
    "from nltk.tokenize import sent_tokenize\n",
    "\n",
    "from nltk.stem import WordNetLemmatizer\n",
    "lemmatizer = WordNetLemmatizer()\n",
    "nltk.download('wordnet')\n",
    "\n",
    "MM_words = word_tokenize(MollyMalone)\n",
    "\n",
    "nopunct = []\n",
    "\n",
    "for word in MM_words:\n",
    "    lem = lemmatizer.lemmatize(word)\n",
    "    if lem not in punct:\n",
    "        nopunct.append(word.lower())\n",
    "\n",
    "print(\"There are\",len(nopunct),\"words in this text.\")\n",
    "\n",
    "MM_sents = sent_tokenize(MollyMalone)\n",
    "\n",
    "print(\"There are\",len(MM_sents),\"sentences in this text.\")\n",
    "\n"
   ]
  },
  {
   "cell_type": "code",
   "execution_count": 48,
   "id": "e44121c1",
   "metadata": {},
   "outputs": [
    {
     "name": "stdout",
     "output_type": "stream",
     "text": [
      "[(\"''\", 72), ('``', 26), ('molly', 15), ('malone', 15), ('song', 15)]\n",
      "There are 318 stopwords in this text.\n"
     ]
    }
   ],
   "source": [
    "# Question 2\n",
    "# Print the top 5 meaningful words.\n",
    "# How many stopwords are there in this text?\n",
    "\n",
    "from nltk.corpus import stopwords\n",
    "stop_words = set(stopwords.words('english'))\n",
    "from collections import Counter\n",
    "\n",
    "nopunctnostop = []\n",
    "counter = 0\n",
    "\n",
    "for word in nopunct:\n",
    "    if word not in stop_words:\n",
    "        nopunctnostop.append(word)\n",
    "    if word in stop_words:\n",
    "        counter += 1\n",
    "\n",
    "print(Counter(nopunctnostop).most_common(5))\n",
    "print(\"There are\", counter, \"stopwords in this text.\")"
   ]
  },
  {
   "cell_type": "code",
   "execution_count": 49,
   "id": "28c47f39",
   "metadata": {},
   "outputs": [
    {
     "name": "stdout",
     "output_type": "stream",
     "text": [
      "There are 749 words in this text.\n",
      "[('molly', 15), ('malone', 15), ('song', 15), ('dublin', 10), ('published', 7)]\n",
      "There are 318 stopwords in this text.\n"
     ]
    }
   ],
   "source": [
    "# Question 2\n",
    "# The punctuation list can be better by also indicating that '' and `` are punctuation.\n",
    "\n",
    "punct.append(\"''\")\n",
    "punct.append('``')\n",
    "nopunct = []\n",
    "\n",
    "# Let's do the previous again with this new list.\n",
    "\n",
    "for word in MM_words:\n",
    "    if word not in punct:\n",
    "        nopunct.append(word.lower())\n",
    "\n",
    "print(\"There are\",len(nopunct),\"words in this text.\")\n",
    "\n",
    "nopunctnostop = []\n",
    "counter = 0\n",
    "\n",
    "for word in nopunct:\n",
    "    if word not in stop_words:\n",
    "        nopunctnostop.append(word)\n",
    "    if word in stop_words:\n",
    "        counter += 1\n",
    "\n",
    "print(Counter(nopunctnostop).most_common(5))\n",
    "print(\"There are\", counter, \"stopwords in this text.\")\n",
    "\n"
   ]
  },
  {
   "cell_type": "code",
   "execution_count": 110,
   "id": "c5536c8f",
   "metadata": {},
   "outputs": [
    {
     "name": "stdout",
     "output_type": "stream",
     "text": [
      "References are used 14 times in this text.\n",
      "Overview of what refs are used each time: [['[1]'], ['[1]', '[2]'], ['[1]'], ['[3]'], ['[4]'], ['[5]', '[6]'], ['[7]'], ['[8]'], ['[9]'], ['[4]'], ['[4]'], ['[10]'], ['[4]'], ['[4]']]\n"
     ]
    }
   ],
   "source": [
    "# Question 3\n",
    "\n",
    "import regex\n",
    "import re\n",
    "\n",
    "refcounter = 0\n",
    "refs = [] \n",
    "\n",
    "# Let's count the refs. Don't use the text without punction, because there the [] indicating that it is a ref are deleted!\n",
    "for word in MollyMalone.split():\n",
    "    try:\n",
    "        match = re.findall(\"\\[[0-9]+\\]{1}\", word)\n",
    "        if match == []:\n",
    "            refcounter += 0\n",
    "        else:\n",
    "            refcounter += 1\n",
    "            refs.append(match)\n",
    "    except:\n",
    "        refcounter += 0\n",
    "\n",
    "        \n",
    "\n",
    "print(\"References are used\", refcounter, \"times in this text.\")\n",
    "print(\"Overview of what refs are used each time:\", refs)\n",
    "    "
   ]
  },
  {
   "cell_type": "code",
   "execution_count": 26,
   "id": "55e6a81d",
   "metadata": {},
   "outputs": [
    {
     "name": "stdout",
     "output_type": "stream",
     "text": [
      "Now you have worked with several techniques that are important in NLP, well done! When you use these techniques in the future, remember: \n",
      " (1) There are many fabulous packages out there, but always check how fabulous these packages actually are for your project. \n",
      " (2) A simple process such as counting words can involve multiple steps, such as punctuation removal. Think ahead before you start a project: what steps do you need to take? These steps can influence your results, so always think about them beforehand and be clear and transparent about the steps that you take. \n",
      " (3) Finally, if there are certain steps that you will need to do multiple times, you can always consider writting them into a function to keep your code clear from clutter!\n"
     ]
    }
   ],
   "source": [
    "takehome = \"Now you have worked with several techniques that are important in NLP, well done! When you use these techniques in the future, remember: \\n (1) There are many fabulous packages out there, but always check how fabulous these packages actually are for your project. \\n (2) A simple process such as counting words can involve multiple steps, such as punctuation removal. Think ahead before you start a project: what steps do you need to take? These steps can influence your results, so always think about them beforehand and be clear and transparent about the steps that you take. \\n (3) Finally, if there are certain steps that you will need to do multiple times, you can always consider writting them into a function to keep your code clear from clutter!\"\n",
    "\n",
    "print(takehome)"
   ]
  },
  {
   "cell_type": "code",
   "execution_count": null,
   "id": "c3ef94ac",
   "metadata": {},
   "outputs": [],
   "source": []
  }
 ],
 "metadata": {
  "kernelspec": {
   "display_name": "Python 3 (ipykernel)",
   "language": "python",
   "name": "python3"
  },
  "language_info": {
   "codemirror_mode": {
    "name": "ipython",
    "version": 3
   },
   "file_extension": ".py",
   "mimetype": "text/x-python",
   "name": "python",
   "nbconvert_exporter": "python",
   "pygments_lexer": "ipython3",
   "version": "3.9.7"
  }
 },
 "nbformat": 4,
 "nbformat_minor": 5
}
