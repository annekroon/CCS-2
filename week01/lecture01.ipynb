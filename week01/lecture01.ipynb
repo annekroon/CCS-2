{
 "cells": [
  {
   "cell_type": "code",
   "execution_count": 34,
   "id": "d9058f67",
   "metadata": {},
   "outputs": [
    {
     "name": "stderr",
     "output_type": "stream",
     "text": [
      "[nltk_data] Downloading package punkt to /Users/marthe/nltk_data...\n",
      "[nltk_data]   Package punkt is already up-to-date!\n"
     ]
    }
   ],
   "source": [
    "from collections import Counter\n",
    "import nltk\n",
    "nltk.download('punkt')\n",
    "from nltk.corpus import stopwords\n",
    "from nltk.tokenize import sent_tokenize\n",
    "from nltk.tokenize import word_tokenize\n",
    "import regex\n",
    "import re"
   ]
  },
  {
   "cell_type": "code",
   "execution_count": 5,
   "id": "790ece99",
   "metadata": {},
   "outputs": [
    {
     "name": "stdout",
     "output_type": "stream",
     "text": [
      "In Dublin's fair city, where the girls are so pretty, I first set my eyes on sweet Molly Malone. As she wheeled her wheelbarrow, Through streets broad and narrow Crying, Cockles and mussels, alive, alive, oh! Alive, alive, oh, Alive, alive, oh, Crying, Cockles and mussels, alive, alive, oh.\n"
     ]
    }
   ],
   "source": [
    "MollyMalone = \"In Dublin's fair city, where the girls are so pretty, I first set my eyes on sweet Molly Malone. As she wheeled her wheelbarrow, Through streets broad and narrow Crying, Cockles and mussels, alive, alive, oh! Alive, alive, oh, Alive, alive, oh, Crying, Cockles and mussels, alive, alive, oh.\"\n",
    "\n",
    "print(MollyMalone)"
   ]
  },
  {
   "cell_type": "code",
   "execution_count": 6,
   "id": "17ecf9fe",
   "metadata": {},
   "outputs": [
    {
     "name": "stdout",
     "output_type": "stream",
     "text": [
      "<class 'str'>\n",
      "291\n",
      "I\n",
      ".\n"
     ]
    }
   ],
   "source": [
    "print(type(MollyMalone))\n",
    "print(len(MollyMalone))\n",
    "print(MollyMalone[0])\n",
    "print(MollyMalone[-1:])"
   ]
  },
  {
   "cell_type": "code",
   "execution_count": 23,
   "id": "b75df5d7",
   "metadata": {},
   "outputs": [
    {
     "name": "stdout",
     "output_type": "stream",
     "text": [
      "['In', 'Dublin', \"'s\", 'fair', 'city', ',', 'where', 'the', 'girls', 'are', 'so', 'pretty', ',', 'I', 'first', 'set', 'my', 'eyes', 'on', 'sweet', 'Molly', 'Malone', '.', 'As', 'she', 'wheeled', 'her', 'wheelbarrow', ',', 'Through', 'streets', 'broad', 'and', 'narrow', 'Crying', ',', 'Cockles', 'and', 'mussels', ',', 'alive', ',', 'alive', ',', 'oh', '!', 'Alive', ',', 'alive', ',', 'oh', ',', 'Alive', ',', 'alive', ',', 'oh', ',', 'Crying', ',', 'Cockles', 'and', 'mussels', ',', 'alive', ',', 'alive', ',', 'oh', '.']\n"
     ]
    }
   ],
   "source": [
    "MM_words = word_tokenize(MollyMalone)\n",
    "\n",
    "print(MM_words)"
   ]
  },
  {
   "cell_type": "code",
   "execution_count": 24,
   "id": "e8a62b1f",
   "metadata": {},
   "outputs": [
    {
     "name": "stdout",
     "output_type": "stream",
     "text": [
      "[(',', 17), ('alive', 6), ('oh', 4)]\n"
     ]
    }
   ],
   "source": [
    "\n",
    "print(Counter(MM_words).most_common(3))"
   ]
  },
  {
   "cell_type": "code",
   "execution_count": 45,
   "id": "a9786422",
   "metadata": {},
   "outputs": [
    {
     "name": "stdout",
     "output_type": "stream",
     "text": [
      "['In', 'Dublin', \"'s\", 'fair', 'city', ',', 'where', 'girls', 'pretty', ',', 'first', 'set', 'eyes', 'sweet', 'Molly', 'Malone', '.', 'As', 'wheeled', 'wheelbarrow', ',', 'Through', 'streets', 'broad', 'narrow', 'Crying', ',', 'Cockles', 'mussels', ',', 'alive', ',', 'alive', ',', '!', 'Alive', ',', 'alive', ',', ',', 'Alive', ',', 'alive', ',', ',', 'Crying', ',', 'Cockles', 'mussels', ',', 'alive', ',', 'alive', ',', '.']\n"
     ]
    }
   ],
   "source": [
    "stopwords = ['in', 'the', 'and', 'a','I', 'she', 'her', 'are', 'so', 'on', 'me', 'my', 'mine', 'oh']\n",
    "nostopwords = []\n",
    "\n",
    "for word in MM_words:\n",
    "    if word not in stopwords:\n",
    "        nostopwords.append(word)\n",
    "\n",
    "\n",
    "print(nostopwords)"
   ]
  },
  {
   "cell_type": "code",
   "execution_count": 46,
   "id": "cc5426c3",
   "metadata": {},
   "outputs": [
    {
     "name": "stdout",
     "output_type": "stream",
     "text": [
      "[(',', 17), ('alive', 6), ('.', 2)]\n"
     ]
    }
   ],
   "source": [
    "print(Counter(nostopwords).most_common(3))"
   ]
  },
  {
   "cell_type": "code",
   "execution_count": 36,
   "id": "1049ca7b",
   "metadata": {},
   "outputs": [
    {
     "name": "stdout",
     "output_type": "stream",
     "text": [
      "179\n"
     ]
    }
   ],
   "source": [
    "stop_words=stopwords.words(\"english\")\n",
    "\n",
    "print(len(stop_words))"
   ]
  },
  {
   "cell_type": "code",
   "execution_count": 47,
   "id": "8e25751d",
   "metadata": {},
   "outputs": [
    {
     "name": "stdout",
     "output_type": "stream",
     "text": [
      "['In', 'Dublin', \"'s\", 'fair', 'city', ',', 'girls', 'pretty', ',', 'I', 'first', 'set', 'eyes', 'sweet', 'Molly', 'Malone', '.', 'As', 'wheeled', 'wheelbarrow', ',', 'Through', 'streets', 'broad', 'narrow', 'Crying', ',', 'Cockles', 'mussels', ',', 'alive', ',', 'alive', ',', 'oh', '!', 'Alive', ',', 'alive', ',', 'oh', ',', 'Alive', ',', 'alive', ',', 'oh', ',', 'Crying', ',', 'Cockles', 'mussels', ',', 'alive', ',', 'alive', ',', 'oh', '.']\n"
     ]
    }
   ],
   "source": [
    "nostopwordsnltk = []\n",
    "\n",
    "for word in MM_words:\n",
    "    if word not in stop_words:\n",
    "        nostopwordsnltk.append(word)\n",
    "\n",
    "\n",
    "print(nostopwordsnltk)"
   ]
  },
  {
   "cell_type": "code",
   "execution_count": 48,
   "id": "65820371",
   "metadata": {},
   "outputs": [
    {
     "name": "stdout",
     "output_type": "stream",
     "text": [
      "[(',', 17), ('alive', 6), ('.', 2)]\n"
     ]
    }
   ],
   "source": [
    "print(Counter(nostopwords).most_common(3))"
   ]
  },
  {
   "cell_type": "code",
   "execution_count": 52,
   "id": "8b05e0d7",
   "metadata": {},
   "outputs": [
    {
     "name": "stdout",
     "output_type": "stream",
     "text": [
      "['!', '\"', '#', '$', '%']\n"
     ]
    }
   ],
   "source": [
    "import string\n",
    "punct = list(string.punctuation)\n",
    "print(punct[:5])"
   ]
  },
  {
   "cell_type": "code",
   "execution_count": 53,
   "id": "6b367d41",
   "metadata": {},
   "outputs": [
    {
     "name": "stdout",
     "output_type": "stream",
     "text": [
      "['In', 'Dublin', \"'s\", 'fair', 'city', 'where', 'girls', 'pretty', 'first', 'set', 'eyes', 'sweet', 'Molly', 'Malone', 'As', 'wheeled', 'wheelbarrow', 'Through', 'streets', 'broad', 'narrow', 'Crying', 'Cockles', 'mussels', 'alive', 'alive', 'Alive', 'alive', 'Alive', 'alive', 'Crying', 'Cockles', 'mussels', 'alive', 'alive']\n"
     ]
    }
   ],
   "source": [
    "nostopnopunct = []\n",
    "\n",
    "for word in nostopwords:\n",
    "    if word not in punct:\n",
    "        nostopnopunct.append(word)\n",
    "\n",
    "\n",
    "print(nostopnopunct)"
   ]
  },
  {
   "cell_type": "code",
   "execution_count": 54,
   "id": "c2286b71",
   "metadata": {
    "scrolled": true
   },
   "outputs": [
    {
     "name": "stdout",
     "output_type": "stream",
     "text": [
      "[('alive', 6), ('Crying', 2), ('Cockles', 2)]\n"
     ]
    }
   ],
   "source": [
    "print(Counter(nostopnopunct).most_common(3))"
   ]
  },
  {
   "cell_type": "code",
   "execution_count": 57,
   "id": "4a0568c1",
   "metadata": {},
   "outputs": [
    {
     "name": "stdout",
     "output_type": "stream",
     "text": [
      "['in', 'dublin', \"'s\", 'fair', 'city', 'where', 'girls', 'pretty', 'first', 'set', 'eyes', 'sweet', 'molly', 'malone', 'as', 'wheeled', 'wheelbarrow', 'through', 'streets', 'broad', 'narrow', 'crying', 'cockles', 'mussels', 'alive', 'alive', 'alive', 'alive', 'alive', 'alive', 'crying', 'cockles', 'mussels', 'alive', 'alive']\n"
     ]
    }
   ],
   "source": [
    "lower = []\n",
    "\n",
    "for word in nostopnopunct:\n",
    "    lower.append(word.lower())\n",
    "\n",
    "print(lower)"
   ]
  },
  {
   "cell_type": "code",
   "execution_count": 58,
   "id": "19fbed99",
   "metadata": {},
   "outputs": [
    {
     "name": "stdout",
     "output_type": "stream",
     "text": [
      "[('alive', 8), ('crying', 2), ('cockles', 2)]\n"
     ]
    }
   ],
   "source": [
    "print(Counter(lower).most_common(3))"
   ]
  },
  {
   "cell_type": "code",
   "execution_count": null,
   "id": "b14c1e2f",
   "metadata": {},
   "outputs": [],
   "source": [
    "#What if we wanted to look at each sentence individually?"
   ]
  },
  {
   "cell_type": "code",
   "execution_count": 50,
   "id": "8d74a2d7",
   "metadata": {},
   "outputs": [
    {
     "name": "stdout",
     "output_type": "stream",
     "text": [
      "[\"In Dublin's fair city, where the girls are so pretty, I first set my eyes on sweet Molly Malone.\", 'As she wheeled her wheelbarrow, Through streets broad and narrow Crying, Cockles and mussels, alive, alive, oh!', 'Alive, alive, oh, Alive, alive, oh, Crying, Cockles and mussels, alive, alive, oh.']\n"
     ]
    }
   ],
   "source": [
    "tokenized_text=sent_tokenize(MollyMalone)\n",
    "print(tokenized_text)"
   ]
  },
  {
   "cell_type": "code",
   "execution_count": 55,
   "id": "d1fa51f2",
   "metadata": {},
   "outputs": [
    {
     "name": "stdout",
     "output_type": "stream",
     "text": [
      "Original text:\n",
      "<class 'str'>\n",
      "291\n",
      "I\n",
      ".\n",
      "  \n",
      "  \n",
      "Tokenized text:\n",
      "<class 'list'>\n",
      "3\n",
      "In Dublin's fair city, where the girls are so pretty, I first set my eyes on sweet Molly Malone.\n",
      "['Alive, alive, oh, Alive, alive, oh, Crying, Cockles and mussels, alive, alive, oh.']\n"
     ]
    }
   ],
   "source": [
    "print(\"Original text:\")\n",
    "print(type(MollyMalone))\n",
    "print(len(MollyMalone))\n",
    "print(MollyMalone[0])\n",
    "print(MollyMalone[-1:])\n",
    "\n",
    "print(\"  \")\n",
    "print(\"  \")\n",
    "\n",
    "print(\"Tokenized text:\")\n",
    "print(type(tokenized_text))\n",
    "print(len(tokenized_text))\n",
    "print(tokenized_text[0])\n",
    "print(tokenized_text[-1:])"
   ]
  },
  {
   "cell_type": "code",
   "execution_count": null,
   "id": "b0945345",
   "metadata": {},
   "outputs": [],
   "source": [
    "#RegExp"
   ]
  },
  {
   "cell_type": "code",
   "execution_count": 57,
   "id": "a07f9b03",
   "metadata": {},
   "outputs": [
    {
     "name": "stdout",
     "output_type": "stream",
     "text": [
      "['In', 'Dublin', \"'s\", 'fair', 'city', 'where', 'girls', 'pretty', 'first', 'set', 'eyes', 'sweet', 'Molly', 'Malone', '.', 'As', 'wheeled', 'wheelbarrow', 'Through', 'streets', 'broad', 'narrow', 'Crying', 'Cockles', 'mussels', 'alive', 'alive', 'oh', 'Alive', 'alive', 'oh', 'Alive', 'alive', 'oh', 'Crying', 'Cockles', 'mussels', 'alive', 'alive', 'oh', '.']\n"
     ]
    }
   ],
   "source": [
    "MollyMalone_words=word_tokenize(nopunct)\n",
    "print(MollyMalone_words)"
   ]
  },
  {
   "cell_type": "code",
   "execution_count": 64,
   "id": "1381ca8e",
   "metadata": {},
   "outputs": [
    {
     "name": "stdout",
     "output_type": "stream",
     "text": [
      "alive\n",
      "alive\n",
      "Alive\n",
      "alive\n",
      "Alive\n",
      "alive\n",
      "alive\n",
      "alive\n"
     ]
    }
   ],
   "source": [
    "for word in MollyMalone_words:\n",
    "    if re.search(\"[Aa]live\", word):\n",
    "        print(word)"
   ]
  },
  {
   "cell_type": "code",
   "execution_count": null,
   "id": "fed37189",
   "metadata": {},
   "outputs": [],
   "source": []
  }
 ],
 "metadata": {
  "kernelspec": {
   "display_name": "Python 3 (ipykernel)",
   "language": "python",
   "name": "python3"
  },
  "language_info": {
   "codemirror_mode": {
    "name": "ipython",
    "version": 3
   },
   "file_extension": ".py",
   "mimetype": "text/x-python",
   "name": "python",
   "nbconvert_exporter": "python",
   "pygments_lexer": "ipython3",
   "version": "3.9.7"
  }
 },
 "nbformat": 4,
 "nbformat_minor": 5
}
