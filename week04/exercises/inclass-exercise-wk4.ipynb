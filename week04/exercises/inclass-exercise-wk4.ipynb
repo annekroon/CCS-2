{
 "cells": [
  {
   "cell_type": "markdown",
   "id": "ca16302b",
   "metadata": {},
   "source": [
    "# In-class exercise week 4: Tracing dynamic similarity between quality and fake news sources\n",
    "\n",
    "One may wonder to what extent fake news sources follow the agenda of quality news outlets. In this assignment, we try to map the overlap in articles (i.e., agenda convergence) published by Infowars, an extreme right/ fake news source, and BBC and The Guardian on the other hand--which are generally considered high quality news sources.\n",
    "\n",
    "specifically, in this notebook, we will use and compare two methods of similarity: `cosine` and `soft-cosine`. \n",
    "\n",
    "You can find, and download, the full dataset here:\n",
    "https://dataverse.harvard.edu/dataset.xhtml?persistentId=doi:10.7910/DVN/ULHLCB\n",
    "\n",
    "Please that this dataset is rather large, and we do not need all this data for practice purposes. You can download a random sample of the data from Canvas, under week 4 (`articles.zip`) \n",
    "\n",
    "<br>\n",
    "\n",
    "<div class=\"alert-warning\">\n",
    "Please run the code step by step and make sure you follow what is happening. If you do not understand the code, ask your tutorial teacher or fellow students for help.\n",
    "</div>"
   ]
  },
  {
   "cell_type": "markdown",
   "id": "e9e203c9",
   "metadata": {},
   "source": [
    "### Reading in the data"
   ]
  },
  {
   "cell_type": "code",
   "execution_count": 8,
   "id": "de7d7ea6",
   "metadata": {},
   "outputs": [],
   "source": [
    "\n",
    "PATH = '/Users/anne/repos/CCS-2/week04/resources/articles'\n",
    "\n",
    "#PATH = 'resources/articles'\n",
    "\n",
    "from glob import glob\n",
    "import random\n",
    "from sklearn.feature_extraction.text import CountVectorizer, TfidfVectorizer\n",
    "import pandas as pd\n",
    "from dateutil import parser\n",
    "import numpy as np\n",
    "from sklearn.metrics.pairwise import cosine_similarity\n",
    "from tqdm import tqdm"
   ]
  },
  {
   "cell_type": "code",
   "execution_count": 9,
   "id": "8dd13aaa",
   "metadata": {},
   "outputs": [],
   "source": [
    "RANDOM_N=2000 # set a random number, of max 2000 (if you work with the smaller datafile). \n",
    "#you can also set this value to 20 or so, just for the purpose of practice--and speeding up the code\n",
    "\n",
    "def read_data(listofoutlets, RANDOM_N):\n",
    "    date = []\n",
    "    title = []\n",
    "    outlets = []\n",
    "    texts = []\n",
    "    for outlet in listofoutlets:\n",
    "        \n",
    "        for file in random.choices(glob(f'{PATH}/*/{outlet}/*'), k=RANDOM_N):\n",
    "            date.append(file.split('--')[-2])\n",
    "            title.append(file.split('--')[-1])\n",
    "            with open(file) as f:\n",
    "                texts.append(f.read())\n",
    "                outlets.append(outlet)\n",
    "    return date, title, texts, outlets\n",
    "\n",
    "dates, title, texts, outlets = read_data(['Infowars', 'BBC', 'The Guardian'], RANDOM_N)"
   ]
  },
  {
   "cell_type": "code",
   "execution_count": null,
   "id": "2d8093fa",
   "metadata": {},
   "outputs": [],
   "source": [
    "dates_formatted = [parser.parse(e).strftime(\"%Y-%b\") for e in dates]\n",
    "dates_formatted[0:4]"
   ]
  },
  {
   "cell_type": "markdown",
   "id": "f5abb614",
   "metadata": {},
   "source": [
    "\n",
    "<u>Question 1</u> \n",
    "\n",
    " <br>\n",
    "\n",
    "<div class=\"alert-info\">\n",
    "Can you understand the code above? Why are we formatting the date variable?  <br>\n",
    "Check the type of data you are working with, print the first entry of each list, perform some sanity checks.\n",
    "</div>\n",
    "\n",
    "    An example of a sanity check if for example to check whether all the lists are of equal length (which you would expect here)\n",
    "```python\n",
    "\n",
    "assert len(dates) == len(title) == len(texts) == len(outlets)# example sanity checks\n",
    "```\n"
   ]
  },
  {
   "cell_type": "markdown",
   "id": "ab720d88",
   "metadata": {},
   "source": [
    "### Initialize a time frame\n",
    "\n",
    "Ultimatly, we would like to have observations (i.e., cosine similarity scores) for each month in the period 2018. It might be, however, that we cannot calculate values for each month (incase we have missings). To avoid ending up with missing months in our dataframe, we create this list before the start of our analysis."
   ]
  },
  {
   "cell_type": "code",
   "execution_count": 16,
   "id": "3317fb38",
   "metadata": {},
   "outputs": [],
   "source": [
    "lists_of_dates = pd.date_range('2018-01-01','2019-01-01', freq='MS').strftime(\"%Y-%b\").tolist()"
   ]
  },
  {
   "cell_type": "markdown",
   "id": "7c3c4a4e",
   "metadata": {},
   "source": [
    "# 1. Dynamic Agenda overlap with Cosine Similarity \n",
    "We use`sklearn`'s`cosine_similarity` to calculate cosine similarity scores"
   ]
  },
  {
   "cell_type": "markdown",
   "id": "e384eabe",
   "metadata": {},
   "source": [
    "### Vectorize the data"
   ]
  },
  {
   "cell_type": "code",
   "execution_count": 6,
   "id": "f2a09bd7",
   "metadata": {},
   "outputs": [],
   "source": [
    "vec = CountVectorizer(stop_words='english')\n",
    "count_matrix = vec.fit(texts) # fit on all the data\n",
    "transformed_text = vec.transform(texts)"
   ]
  },
  {
   "cell_type": "markdown",
   "id": "0b4f626f",
   "metadata": {},
   "source": [
    "<u>Question 2</u> \n",
    "<br>\n",
    "<br>\n",
    "<div class=\"alert-info\">\n",
    "Can you improve the code in the cell above? <br>\n",
    "e.g., use pruning rather than stopword removal, or tranform the data using the tfidf algorithm.\n",
    "</div>\n"
   ]
  },
  {
   "cell_type": "markdown",
   "id": "99c557fd",
   "metadata": {},
   "source": [
    "### Utility function: Create list of tuples, for each of the outlets. "
   ]
  },
  {
   "cell_type": "code",
   "execution_count": 7,
   "id": "2217840e",
   "metadata": {},
   "outputs": [],
   "source": [
    "combined = list(zip(dates_formatted, title, texts, outlets, transformed_text))\n",
    "\n",
    "infowars = [e for e in combined if e[3]=='Infowars']\n",
    "bbc = [e for e in combined if e[3]=='BBC']\n",
    "guardian = [e for e in combined if e[3]=='The Guardian']"
   ]
  },
  {
   "cell_type": "markdown",
   "id": "45cfc157",
   "metadata": {},
   "source": [
    "### Calcuting Cosine Similarity scores across outlets overtime\n",
    "\n",
    "The next utility function will calculate cosine similarity scores between two agendas, in chuncks of months. More specifically, for each month of our selected time frame, we will calculate cosine similarity scores between articles from a fake news source on the one hand (`infowars`), and a quality news source on the other (`BBC`)"
   ]
  },
  {
   "cell_type": "code",
   "execution_count": 17,
   "id": "6304b75e",
   "metadata": {},
   "outputs": [],
   "source": [
    "def get_cosine_overtime(source1, source2, list_of_dates):\n",
    "    \n",
    "    '''calculate cosine similarity sources between articles nested within months'''\n",
    "\n",
    "    time_frame = []\n",
    "    monthly_cosine_similarity = []\n",
    "    number_of_combinations = []\n",
    "\n",
    "    for month in tqdm(lists_of_dates):\n",
    "        \n",
    "        all_combinations = []\n",
    "\n",
    "        source1_comparison = [i for i in source1 if i[0]==month]\n",
    "        source2_comparison = [i for i in source2 if i[0]==month]\n",
    "\n",
    "        for i in source1_comparison:\n",
    "            single_combinations = []\n",
    "            for e in source2_comparison:\n",
    "                \n",
    "                assert month == i[0] == e[0] #sanity check\n",
    "                \n",
    "                sim_score = cosine_similarity(i[4], e[4])\n",
    "                single_combinations.append(sim_score[0][0])\n",
    "\n",
    "            all_combinations.extend(single_combinations)\n",
    "\n",
    "        time_frame.append(month)\n",
    "        monthly_cosine_similarity.append(np.mean(all_combinations))\n",
    "        number_of_combinations.append(len(all_combinations))\n",
    "    return [time_frame, monthly_cosine_similarity, number_of_combinations]\n"
   ]
  },
  {
   "cell_type": "code",
   "execution_count": 18,
   "id": "0137e4b4",
   "metadata": {},
   "outputs": [
    {
     "name": "stderr",
     "output_type": "stream",
     "text": [
      "  0%|          | 0/13 [00:00<?, ?it/s]/Users/anne/Library/Python/3.8/lib/python/site-packages/numpy/core/fromnumeric.py:3419: RuntimeWarning: Mean of empty slice.\n",
      "  return _methods._mean(a, axis=axis, dtype=dtype,\n",
      "/Users/anne/Library/Python/3.8/lib/python/site-packages/numpy/core/_methods.py:188: RuntimeWarning: invalid value encountered in double_scalars\n",
      "  ret = ret.dtype.type(ret / rcount)\n",
      "100%|██████████| 13/13 [05:50<00:00, 27.00s/it]\n"
     ]
    }
   ],
   "source": [
    "results_guardian_bbc = get_cosine_overtime(guardian, bbc, lists_of_dates)"
   ]
  },
  {
   "cell_type": "code",
   "execution_count": 20,
   "id": "d6f01122",
   "metadata": {},
   "outputs": [
    {
     "name": "stderr",
     "output_type": "stream",
     "text": [
      "  0%|          | 0/13 [00:00<?, ?it/s]/Users/anne/Library/Python/3.8/lib/python/site-packages/numpy/core/fromnumeric.py:3419: RuntimeWarning: Mean of empty slice.\n",
      "  return _methods._mean(a, axis=axis, dtype=dtype,\n",
      "/Users/anne/Library/Python/3.8/lib/python/site-packages/numpy/core/_methods.py:188: RuntimeWarning: invalid value encountered in double_scalars\n",
      "  ret = ret.dtype.type(ret / rcount)\n",
      "100%|██████████| 13/13 [05:54<00:00, 27.30s/it]\n"
     ]
    }
   ],
   "source": [
    "results_guardian_infowars = get_cosine_overtime(guardian, infowars, lists_of_dates)"
   ]
  },
  {
   "cell_type": "code",
   "execution_count": 23,
   "id": "28471772",
   "metadata": {},
   "outputs": [
    {
     "name": "stderr",
     "output_type": "stream",
     "text": [
      "100%|██████████| 13/13 [05:46<00:00, 26.62s/it]\n"
     ]
    }
   ],
   "source": [
    "results_bbc_infowars = get_cosine_overtime(bbc, infowars, lists_of_dates)"
   ]
  },
  {
   "cell_type": "markdown",
   "id": "38c6ddee",
   "metadata": {},
   "source": [
    "### Convert meta data to a dataframe\n",
    "To inspect the data, and maybe visualize it, it might be nice to convert it to a tabular format. "
   ]
  },
  {
   "cell_type": "code",
   "execution_count": 31,
   "id": "be8e71bc",
   "metadata": {},
   "outputs": [
    {
     "data": {
      "text/html": [
       "<div>\n",
       "<style scoped>\n",
       "    .dataframe tbody tr th:only-of-type {\n",
       "        vertical-align: middle;\n",
       "    }\n",
       "\n",
       "    .dataframe tbody tr th {\n",
       "        vertical-align: top;\n",
       "    }\n",
       "\n",
       "    .dataframe thead th {\n",
       "        text-align: right;\n",
       "    }\n",
       "</style>\n",
       "<table border=\"1\" class=\"dataframe\">\n",
       "  <thead>\n",
       "    <tr style=\"text-align: right;\">\n",
       "      <th></th>\n",
       "      <th>Infowars</th>\n",
       "      <th>BBC</th>\n",
       "      <th>The Guardian</th>\n",
       "    </tr>\n",
       "    <tr>\n",
       "      <th>date</th>\n",
       "      <th></th>\n",
       "      <th></th>\n",
       "      <th></th>\n",
       "    </tr>\n",
       "  </thead>\n",
       "  <tbody>\n",
       "    <tr>\n",
       "      <th>2018-Apr</th>\n",
       "      <td>187</td>\n",
       "      <td>185</td>\n",
       "      <td>169</td>\n",
       "    </tr>\n",
       "    <tr>\n",
       "      <th>2018-Aug</th>\n",
       "      <td>225</td>\n",
       "      <td>216</td>\n",
       "      <td>197</td>\n",
       "    </tr>\n",
       "    <tr>\n",
       "      <th>2018-Feb</th>\n",
       "      <td>178</td>\n",
       "      <td>148</td>\n",
       "      <td>169</td>\n",
       "    </tr>\n",
       "    <tr>\n",
       "      <th>2018-Jul</th>\n",
       "      <td>216</td>\n",
       "      <td>266</td>\n",
       "      <td>150</td>\n",
       "    </tr>\n",
       "    <tr>\n",
       "      <th>2018-Jun</th>\n",
       "      <td>189</td>\n",
       "      <td>116</td>\n",
       "      <td>102</td>\n",
       "    </tr>\n",
       "  </tbody>\n",
       "</table>\n",
       "</div>"
      ],
      "text/plain": [
       "          Infowars  BBC  The Guardian\n",
       "date                                 \n",
       "2018-Apr       187  185           169\n",
       "2018-Aug       225  216           197\n",
       "2018-Feb       178  148           169\n",
       "2018-Jul       216  266           150\n",
       "2018-Jun       189  116           102"
      ]
     },
     "execution_count": 31,
     "metadata": {},
     "output_type": "execute_result"
    }
   ],
   "source": [
    "def get_meta_dataframe(combined_data):\n",
    "    df = pd.DataFrame(combined)\n",
    "    df.columns = ['date', 'title', 'text', 'outlet', 'vectorized']\n",
    "\n",
    "    df['Infowars'] = np.where(df['outlet'] == 'Infowars', 1,0)\n",
    "    df['BBC'] = np.where(df['outlet'] == 'BBC', 1,0)\n",
    "    df['The Guardian'] = np.where(df['outlet'] == 'The Guardian', 1,0)\n",
    "\n",
    "    # aggregate the dataframe on the level of months, with number of articles within outlets in the rows:\n",
    "    df = df.groupby('date')[['Infowars', 'BBC', 'The Guardian']].sum()\n",
    "    \n",
    "    return df\n",
    "\n",
    "df = get_meta_dataframe(combined)\n",
    "df.head()"
   ]
  },
  {
   "cell_type": "markdown",
   "id": "ed27b645",
   "metadata": {},
   "source": [
    "### Create a df with the cosine similairy scores between two agendas"
   ]
  },
  {
   "cell_type": "code",
   "execution_count": 32,
   "id": "dd7593a0",
   "metadata": {},
   "outputs": [],
   "source": [
    "def get_cosine_frame(results, source1, source2):\n",
    "    cosine = pd.DataFrame(results).T\n",
    "    cosine.rename(columns={0: 'date', 1:f'cosine_{source1}_{source2}', 2: f'combinations_{source1}_{source2}'},inplace=True)\n",
    "    cosine = cosine.set_index('date')\n",
    "    return cosine\n",
    "\n",
    "cosine_guardian_bbc = get_cosine_frame(results_guardian_bbc,'guardian', 'bbc')\n",
    "cosine_guardian_infowars = get_cosine_frame(results_guardian_infowars,'guardian', 'infowars')\n",
    "cosine_bbc_infowars = get_cosine_frame(results_bbc_infowars,'bbc', 'infowars')"
   ]
  },
  {
   "cell_type": "code",
   "execution_count": 33,
   "id": "81cffc94",
   "metadata": {},
   "outputs": [],
   "source": [
    "df = pd.merge(cosine_guardian_bbc, df, left_index=True, right_index=True, how='inner')\n",
    "df = pd.merge(cosine_guardian_infowars, df, left_index=True, right_index=True, how = 'inner')\n",
    "df = pd.merge(cosine_bbc_infowars, df, left_index=True, right_index=True, how = 'inner')"
   ]
  },
  {
   "cell_type": "code",
   "execution_count": 34,
   "id": "89ac0db2",
   "metadata": {},
   "outputs": [
    {
     "data": {
      "text/html": [
       "<div>\n",
       "<style scoped>\n",
       "    .dataframe tbody tr th:only-of-type {\n",
       "        vertical-align: middle;\n",
       "    }\n",
       "\n",
       "    .dataframe tbody tr th {\n",
       "        vertical-align: top;\n",
       "    }\n",
       "\n",
       "    .dataframe thead th {\n",
       "        text-align: right;\n",
       "    }\n",
       "</style>\n",
       "<table border=\"1\" class=\"dataframe\">\n",
       "  <thead>\n",
       "    <tr style=\"text-align: right;\">\n",
       "      <th></th>\n",
       "      <th>cosine_bbc_infowars</th>\n",
       "      <th>combinations_bbc_infowars</th>\n",
       "      <th>cosine_guardian_infowars</th>\n",
       "      <th>combinations_guardian_infowars</th>\n",
       "      <th>cosine_guardian_bbc</th>\n",
       "      <th>combinations_guardian_bbc</th>\n",
       "      <th>Infowars</th>\n",
       "      <th>BBC</th>\n",
       "      <th>The Guardian</th>\n",
       "    </tr>\n",
       "    <tr>\n",
       "      <th>date</th>\n",
       "      <th></th>\n",
       "      <th></th>\n",
       "      <th></th>\n",
       "      <th></th>\n",
       "      <th></th>\n",
       "      <th></th>\n",
       "      <th></th>\n",
       "      <th></th>\n",
       "      <th></th>\n",
       "    </tr>\n",
       "  </thead>\n",
       "  <tbody>\n",
       "    <tr>\n",
       "      <th>2018-Feb</th>\n",
       "      <td>0.036769</td>\n",
       "      <td>26344</td>\n",
       "      <td>0.079578</td>\n",
       "      <td>30082</td>\n",
       "      <td>0.052883</td>\n",
       "      <td>25012</td>\n",
       "      <td>178</td>\n",
       "      <td>148</td>\n",
       "      <td>169</td>\n",
       "    </tr>\n",
       "    <tr>\n",
       "      <th>2018-Mar</th>\n",
       "      <td>0.038497</td>\n",
       "      <td>49750</td>\n",
       "      <td>0.074006</td>\n",
       "      <td>42750</td>\n",
       "      <td>0.062238</td>\n",
       "      <td>34029</td>\n",
       "      <td>250</td>\n",
       "      <td>199</td>\n",
       "      <td>171</td>\n",
       "    </tr>\n",
       "    <tr>\n",
       "      <th>2018-Apr</th>\n",
       "      <td>0.041426</td>\n",
       "      <td>34595</td>\n",
       "      <td>0.084854</td>\n",
       "      <td>31603</td>\n",
       "      <td>0.060646</td>\n",
       "      <td>31265</td>\n",
       "      <td>187</td>\n",
       "      <td>185</td>\n",
       "      <td>169</td>\n",
       "    </tr>\n",
       "    <tr>\n",
       "      <th>2018-May</th>\n",
       "      <td>0.03696</td>\n",
       "      <td>35588</td>\n",
       "      <td>0.084213</td>\n",
       "      <td>26568</td>\n",
       "      <td>0.068221</td>\n",
       "      <td>35154</td>\n",
       "      <td>164</td>\n",
       "      <td>217</td>\n",
       "      <td>162</td>\n",
       "    </tr>\n",
       "    <tr>\n",
       "      <th>2018-Jun</th>\n",
       "      <td>0.043636</td>\n",
       "      <td>21924</td>\n",
       "      <td>0.092049</td>\n",
       "      <td>19278</td>\n",
       "      <td>0.069261</td>\n",
       "      <td>11832</td>\n",
       "      <td>189</td>\n",
       "      <td>116</td>\n",
       "      <td>102</td>\n",
       "    </tr>\n",
       "    <tr>\n",
       "      <th>2018-Jul</th>\n",
       "      <td>0.041129</td>\n",
       "      <td>57456</td>\n",
       "      <td>0.087611</td>\n",
       "      <td>32400</td>\n",
       "      <td>0.077019</td>\n",
       "      <td>39900</td>\n",
       "      <td>216</td>\n",
       "      <td>266</td>\n",
       "      <td>150</td>\n",
       "    </tr>\n",
       "    <tr>\n",
       "      <th>2018-Aug</th>\n",
       "      <td>0.03798</td>\n",
       "      <td>48600</td>\n",
       "      <td>0.084175</td>\n",
       "      <td>44325</td>\n",
       "      <td>0.057958</td>\n",
       "      <td>42552</td>\n",
       "      <td>225</td>\n",
       "      <td>216</td>\n",
       "      <td>197</td>\n",
       "    </tr>\n",
       "    <tr>\n",
       "      <th>2018-Sep</th>\n",
       "      <td>0.038229</td>\n",
       "      <td>33099</td>\n",
       "      <td>0.072665</td>\n",
       "      <td>34408</td>\n",
       "      <td>0.063116</td>\n",
       "      <td>32568</td>\n",
       "      <td>187</td>\n",
       "      <td>177</td>\n",
       "      <td>184</td>\n",
       "    </tr>\n",
       "    <tr>\n",
       "      <th>2018-Oct</th>\n",
       "      <td>0.041149</td>\n",
       "      <td>50481</td>\n",
       "      <td>0.077045</td>\n",
       "      <td>70503</td>\n",
       "      <td>0.067104</td>\n",
       "      <td>78447</td>\n",
       "      <td>213</td>\n",
       "      <td>237</td>\n",
       "      <td>331</td>\n",
       "    </tr>\n",
       "    <tr>\n",
       "      <th>2018-Nov</th>\n",
       "      <td>0.039928</td>\n",
       "      <td>45649</td>\n",
       "      <td>0.078511</td>\n",
       "      <td>69715</td>\n",
       "      <td>0.059233</td>\n",
       "      <td>87235</td>\n",
       "      <td>191</td>\n",
       "      <td>239</td>\n",
       "      <td>365</td>\n",
       "    </tr>\n",
       "  </tbody>\n",
       "</table>\n",
       "</div>"
      ],
      "text/plain": [
       "         cosine_bbc_infowars combinations_bbc_infowars  \\\n",
       "date                                                     \n",
       "2018-Feb            0.036769                     26344   \n",
       "2018-Mar            0.038497                     49750   \n",
       "2018-Apr            0.041426                     34595   \n",
       "2018-May             0.03696                     35588   \n",
       "2018-Jun            0.043636                     21924   \n",
       "2018-Jul            0.041129                     57456   \n",
       "2018-Aug             0.03798                     48600   \n",
       "2018-Sep            0.038229                     33099   \n",
       "2018-Oct            0.041149                     50481   \n",
       "2018-Nov            0.039928                     45649   \n",
       "\n",
       "         cosine_guardian_infowars combinations_guardian_infowars  \\\n",
       "date                                                               \n",
       "2018-Feb                 0.079578                          30082   \n",
       "2018-Mar                 0.074006                          42750   \n",
       "2018-Apr                 0.084854                          31603   \n",
       "2018-May                 0.084213                          26568   \n",
       "2018-Jun                 0.092049                          19278   \n",
       "2018-Jul                 0.087611                          32400   \n",
       "2018-Aug                 0.084175                          44325   \n",
       "2018-Sep                 0.072665                          34408   \n",
       "2018-Oct                 0.077045                          70503   \n",
       "2018-Nov                 0.078511                          69715   \n",
       "\n",
       "         cosine_guardian_bbc combinations_guardian_bbc  Infowars  BBC  \\\n",
       "date                                                                    \n",
       "2018-Feb            0.052883                     25012       178  148   \n",
       "2018-Mar            0.062238                     34029       250  199   \n",
       "2018-Apr            0.060646                     31265       187  185   \n",
       "2018-May            0.068221                     35154       164  217   \n",
       "2018-Jun            0.069261                     11832       189  116   \n",
       "2018-Jul            0.077019                     39900       216  266   \n",
       "2018-Aug            0.057958                     42552       225  216   \n",
       "2018-Sep            0.063116                     32568       187  177   \n",
       "2018-Oct            0.067104                     78447       213  237   \n",
       "2018-Nov            0.059233                     87235       191  239   \n",
       "\n",
       "          The Guardian  \n",
       "date                    \n",
       "2018-Feb           169  \n",
       "2018-Mar           171  \n",
       "2018-Apr           169  \n",
       "2018-May           162  \n",
       "2018-Jun           102  \n",
       "2018-Jul           150  \n",
       "2018-Aug           197  \n",
       "2018-Sep           184  \n",
       "2018-Oct           331  \n",
       "2018-Nov           365  "
      ]
     },
     "execution_count": 34,
     "metadata": {},
     "output_type": "execute_result"
    }
   ],
   "source": [
    "df"
   ]
  },
  {
   "cell_type": "markdown",
   "id": "90dcfeed",
   "metadata": {},
   "source": [
    "<u>Question 3</u> \n",
    "<br>\n",
    "<br>\n",
    "<div class=\"alert-info\">\n",
    "Inspect the results. Where do you see the highest overlap? Which agendas have the highest overlap? Does Infowars follow the agenda of The Guardian or the BBC more closely?<br>\n",
    "Is this what you expected?\n",
    "</div>\n"
   ]
  },
  {
   "cell_type": "markdown",
   "id": "7f3dacd8",
   "metadata": {},
   "source": [
    "<u>Question 4</u> \n",
    "<br>\n",
    "<br>\n",
    "<div class=\"alert-info\">\n",
    "Adjust the code, e.g., by changing the vectorizer, and inspect the effects thereof in the final results.<br>\n",
    "Is this more in line with what you would expect? \n",
    "</div>\n"
   ]
  },
  {
   "cell_type": "markdown",
   "id": "bda97c77",
   "metadata": {},
   "source": [
    "### Visualize "
   ]
  },
  {
   "cell_type": "code",
   "execution_count": 35,
   "id": "2070b9d6",
   "metadata": {},
   "outputs": [],
   "source": [
    "import seaborn as sns\n",
    "import matplotlib.pyplot as plt\n",
    "\n",
    "sns.set(rc={'figure.figsize':(9,7)})\n",
    "sns.set_style(\"white\")"
   ]
  },
  {
   "cell_type": "markdown",
   "id": "30b8172c",
   "metadata": {},
   "source": [
    "Before we can draw a lineplot, we need to change the dataframe from a wide to a long format. That what we will do next. "
   ]
  },
  {
   "cell_type": "code",
   "execution_count": 36,
   "id": "4e2da90b",
   "metadata": {},
   "outputs": [],
   "source": [
    "df.index = pd.to_datetime(df.index)\n",
    "df = df.reset_index()\n",
    "\n",
    "long = pd.melt(df, id_vars = 'date', value_vars = ['cosine_guardian_infowars', 'cosine_guardian_bbc', 'cosine_bbc_infowars'], var_name='agendas', value_name='cosine_similarity')\n",
    "long[\"cosine_similarity\"] = pd.to_numeric(long[\"cosine_similarity\"], downcast=\"float\")"
   ]
  },
  {
   "cell_type": "code",
   "execution_count": 37,
   "id": "487d2d5e",
   "metadata": {},
   "outputs": [
    {
     "data": {
      "text/plain": [
       "<AxesSubplot:xlabel='date', ylabel='cosine_similarity'>"
      ]
     },
     "execution_count": 37,
     "metadata": {},
     "output_type": "execute_result"
    },
    {
     "data": {
      "image/png": "[encoded data removed]",
      "text/plain": [
       "<Figure size 648x504 with 1 Axes>"
      ]
     },
     "metadata": {},
     "output_type": "display_data"
    }
   ],
   "source": [
    "sns.lineplot(x='date', y='cosine_similarity', hue='agendas', data=long)"
   ]
  },
  {
   "cell_type": "markdown",
   "id": "33ea9b47",
   "metadata": {},
   "source": [
    "You may wonder how overlap relates to absolute attention (=number of articles published within months within the outlets). We can plot both simultaneously in one graph."
   ]
  },
  {
   "cell_type": "code",
   "execution_count": 38,
   "id": "fb696aed",
   "metadata": {},
   "outputs": [
    {
     "data": {
      "text/plain": [
       "<AxesSubplot:xlabel='date', ylabel='attention'>"
      ]
     },
     "execution_count": 38,
     "metadata": {},
     "output_type": "execute_result"
    },
    {
     "data": {
      "image/png": "[encoded data removed]",
      "text/plain": [
       "<Figure size 648x504 with 2 Axes>"
      ]
     },
     "metadata": {},
     "output_type": "display_data"
    }
   ],
   "source": [
    "long_attention = pd.melt(df, id_vars = 'date', value_vars = ['Infowars', 'The Guardian', 'BBC'], var_name='outlets', value_name='attention')\n",
    "\n",
    "sns.lineplot(x='date', y='cosine_similarity', hue='agendas', data=long)\n",
    "ax2 = plt.twinx()\n",
    "sns.lineplot(x='date',y='attention', hue='outlets', palette=['grey', 'black', 'silver'], data=long_attention, ax=ax2)"
   ]
  },
  {
   "cell_type": "markdown",
   "id": "af0b5341",
   "metadata": {},
   "source": [
    "<u>Question 5</u> \n",
    "<br>\n",
    "<br>\n",
    "<div class=\"alert-info\">\n",
    "Does this make sense? Can you see a (reverse) relation between absolute attention and cosine scores?\n",
    "</div>\n"
   ]
  },
  {
   "cell_type": "markdown",
   "id": "c36a035d",
   "metadata": {},
   "source": [
    "# 2. Dynamic Agenda overlap with Soft-Cosine Similarity \n",
    "Here, we will use `gensim`"
   ]
  },
  {
   "cell_type": "code",
   "execution_count": 39,
   "id": "cca492b5",
   "metadata": {},
   "outputs": [
    {
     "name": "stdout",
     "output_type": "stream",
     "text": [
      "3.8.3\n"
     ]
    }
   ],
   "source": [
    "import gensim\n",
    "# upgrade gensim if you can't import softcossim\n",
    "from gensim.matutils import softcossim \n",
    "from gensim import corpora\n",
    "import gensim.downloader as api\n",
    "from gensim.utils import simple_preprocess\n",
    "from gensim.models import TfidfModel\n",
    "from gensim.models import WordEmbeddingSimilarityIndex\n",
    "from gensim.similarities import SparseTermSimilarityMatrix\n",
    "from gensim.similarities import SoftCosineSimilarity\n",
    "print(gensim.__version__)\n",
    "\n",
    "from gensim.corpora import Dictionary\n",
    "import numpy as np"
   ]
  },
  {
   "cell_type": "markdown",
   "id": "a8fadc21",
   "metadata": {},
   "source": [
    "### Load the model...\n",
    "<br>\n",
    "<div class=\"alert-danger\">\n",
    "Please note that the next block may take a while to run...\n",
    "</div>"
   ]
  },
  {
   "cell_type": "code",
   "execution_count": 40,
   "id": "f88aad53",
   "metadata": {},
   "outputs": [],
   "source": [
    "fasttext_model300 = api.load('fasttext-wiki-news-subwords-300')"
   ]
  },
  {
   "cell_type": "code",
   "execution_count": 41,
   "id": "bb599c91",
   "metadata": {},
   "outputs": [],
   "source": [
    "dictionary = corpora.Dictionary([simple_preprocess(doc) for doc in texts]) #initialize a Dictionary"
   ]
  },
  {
   "cell_type": "markdown",
   "id": "6cddde08",
   "metadata": {},
   "source": [
    "<div class=\"alert-danger\">\n",
    "Please note that the next block may take a while to run...\n",
    "</div>"
   ]
  },
  {
   "cell_type": "code",
   "execution_count": 42,
   "id": "33efca7d",
   "metadata": {},
   "outputs": [],
   "source": [
    "similarity_index = WordEmbeddingSimilarityIndex(fasttext_model300)\n",
    "similarity_matrix = SparseTermSimilarityMatrix(similarity_index, dictionary) # Build a term similarity matrix and compute the Soft Cosine Measure."
   ]
  },
  {
   "cell_type": "code",
   "execution_count": 43,
   "id": "2b071e95",
   "metadata": {},
   "outputs": [],
   "source": [
    "bag_of_words_vectors = [ dictionary.doc2bow(simple_preprocess(doc)) for doc in texts]"
   ]
  },
  {
   "cell_type": "code",
   "execution_count": 44,
   "id": "3770f44e",
   "metadata": {},
   "outputs": [],
   "source": [
    "combined = list(zip(dates_formatted, title, texts, outlets, bag_of_words_vectors))\n",
    "\n",
    "infowars = [e for e in combined if e[3]=='Infowars']\n",
    "bbc = [e for e in combined if e[3]=='BBC']\n",
    "guardian = [e for e in combined if e[3]=='The Guardian']"
   ]
  },
  {
   "cell_type": "markdown",
   "id": "2911d7b7",
   "metadata": {},
   "source": [
    "Please check the data...\n",
    "\n",
    "e.g.,by printing **parts** of the lists, using list slicing;\n",
    "\n",
    "```python\n",
    "bbc[0]\n",
    "```"
   ]
  },
  {
   "cell_type": "code",
   "execution_count": 45,
   "id": "b07c9b37",
   "metadata": {},
   "outputs": [],
   "source": [
    "def get_soft_cosine_overtime(source1, source2, lists_of_dates):\n",
    "\n",
    "    '''Adjusted function, estimates the soft cosine similarity'''\n",
    "    \n",
    "    time_frame = []\n",
    "    monthly_cosine_similarity = []\n",
    "    number_of_combinations = []\n",
    "\n",
    "    for month in tqdm(lists_of_dates):\n",
    "        \n",
    "        all_combinations = []\n",
    "\n",
    "        source1_comparison = [i for i in source1 if i[0]==month]\n",
    "        source2_comparison = [i for i in source2 if i[0]==month]\n",
    "\n",
    "        for i in source1_comparison:\n",
    "            \n",
    "            single_combinations = []\n",
    "            for e in source2_comparison:\n",
    "                \n",
    "                assert month == i[0] == e[0] #sanity check\n",
    "                \n",
    "                sim_score = similarity_matrix.inner_product(i[4], e[4], normalized=True)\n",
    "                single_combinations.append(sim_score)\n",
    "\n",
    "            all_combinations.extend(single_combinations)\n",
    "\n",
    "        time_frame.append(month)\n",
    "        monthly_cosine_similarity.append(np.mean(all_combinations))\n",
    "        number_of_combinations.append(len(all_combinations))\n",
    "    return [time_frame, monthly_cosine_similarity, number_of_combinations]"
   ]
  },
  {
   "cell_type": "markdown",
   "id": "90aa6ec5",
   "metadata": {},
   "source": [
    "<u>Question 6</u> \n",
    "<br>\n",
    "<br>\n",
    "<div class=\"alert-info\">\n",
    "Can you tell where this function differs? Where is the soft cosine (rather than the regular cosine) calculated?\n",
    "</div>\n"
   ]
  },
  {
   "cell_type": "code",
   "execution_count": 80,
   "id": "920d7dbf",
   "metadata": {},
   "outputs": [
    {
     "name": "stderr",
     "output_type": "stream",
     "text": [
      "  0%|          | 0/13 [00:00<?, ?it/s]/Users/anne/Library/Python/3.8/lib/python/site-packages/numpy/core/fromnumeric.py:3419: RuntimeWarning: Mean of empty slice.\n",
      "  return _methods._mean(a, axis=axis, dtype=dtype,\n",
      "/Users/anne/Library/Python/3.8/lib/python/site-packages/numpy/core/_methods.py:188: RuntimeWarning: invalid value encountered in double_scalars\n",
      "  ret = ret.dtype.type(ret / rcount)\n",
      "100%|██████████| 13/13 [08:10<00:00, 37.73s/it]\n"
     ]
    }
   ],
   "source": [
    "results_guardian_infowars = get_soft_cosine_overtime(guardian, infowars, lists_of_dates)"
   ]
  },
  {
   "cell_type": "code",
   "execution_count": 81,
   "id": "6045ae25",
   "metadata": {},
   "outputs": [
    {
     "name": "stderr",
     "output_type": "stream",
     "text": [
      "100%|██████████| 13/13 [09:09<00:00, 42.29s/it]\n"
     ]
    }
   ],
   "source": [
    "results_guardian_bbc = get_soft_cosine_overtime(guardian, bbc, lists_of_dates)"
   ]
  },
  {
   "cell_type": "code",
   "execution_count": 82,
   "id": "158c4683",
   "metadata": {},
   "outputs": [
    {
     "name": "stderr",
     "output_type": "stream",
     "text": [
      "100%|██████████| 13/13 [05:50<00:00, 26.99s/it]\n"
     ]
    }
   ],
   "source": [
    "results_bbc_infowars = get_soft_cosine_overtime(bbc, infowars, lists_of_dates)"
   ]
  },
  {
   "cell_type": "markdown",
   "id": "87593db4",
   "metadata": {},
   "source": [
    "### Get data in `df` object"
   ]
  },
  {
   "cell_type": "code",
   "execution_count": 83,
   "id": "57c02d70",
   "metadata": {
    "scrolled": true
   },
   "outputs": [
    {
     "data": {
      "text/html": [
       "<div>\n",
       "<style scoped>\n",
       "    .dataframe tbody tr th:only-of-type {\n",
       "        vertical-align: middle;\n",
       "    }\n",
       "\n",
       "    .dataframe tbody tr th {\n",
       "        vertical-align: top;\n",
       "    }\n",
       "\n",
       "    .dataframe thead th {\n",
       "        text-align: right;\n",
       "    }\n",
       "</style>\n",
       "<table border=\"1\" class=\"dataframe\">\n",
       "  <thead>\n",
       "    <tr style=\"text-align: right;\">\n",
       "      <th></th>\n",
       "      <th>Infowars</th>\n",
       "      <th>BBC</th>\n",
       "      <th>The Guardian</th>\n",
       "    </tr>\n",
       "    <tr>\n",
       "      <th>date</th>\n",
       "      <th></th>\n",
       "      <th></th>\n",
       "      <th></th>\n",
       "    </tr>\n",
       "  </thead>\n",
       "  <tbody>\n",
       "    <tr>\n",
       "      <th>2018-Apr</th>\n",
       "      <td>173</td>\n",
       "      <td>161</td>\n",
       "      <td>173</td>\n",
       "    </tr>\n",
       "    <tr>\n",
       "      <th>2018-Aug</th>\n",
       "      <td>223</td>\n",
       "      <td>210</td>\n",
       "      <td>190</td>\n",
       "    </tr>\n",
       "    <tr>\n",
       "      <th>2018-Feb</th>\n",
       "      <td>166</td>\n",
       "      <td>136</td>\n",
       "      <td>141</td>\n",
       "    </tr>\n",
       "    <tr>\n",
       "      <th>2018-Jul</th>\n",
       "      <td>230</td>\n",
       "      <td>277</td>\n",
       "      <td>172</td>\n",
       "    </tr>\n",
       "    <tr>\n",
       "      <th>2018-Jun</th>\n",
       "      <td>192</td>\n",
       "      <td>99</td>\n",
       "      <td>100</td>\n",
       "    </tr>\n",
       "    <tr>\n",
       "      <th>2018-Mar</th>\n",
       "      <td>233</td>\n",
       "      <td>190</td>\n",
       "      <td>163</td>\n",
       "    </tr>\n",
       "    <tr>\n",
       "      <th>2018-May</th>\n",
       "      <td>151</td>\n",
       "      <td>264</td>\n",
       "      <td>200</td>\n",
       "    </tr>\n",
       "    <tr>\n",
       "      <th>2018-Nov</th>\n",
       "      <td>189</td>\n",
       "      <td>239</td>\n",
       "      <td>376</td>\n",
       "    </tr>\n",
       "    <tr>\n",
       "      <th>2018-Oct</th>\n",
       "      <td>238</td>\n",
       "      <td>223</td>\n",
       "      <td>322</td>\n",
       "    </tr>\n",
       "    <tr>\n",
       "      <th>2018-Sep</th>\n",
       "      <td>205</td>\n",
       "      <td>201</td>\n",
       "      <td>163</td>\n",
       "    </tr>\n",
       "  </tbody>\n",
       "</table>\n",
       "</div>"
      ],
      "text/plain": [
       "          Infowars  BBC  The Guardian\n",
       "date                                 \n",
       "2018-Apr       173  161           173\n",
       "2018-Aug       223  210           190\n",
       "2018-Feb       166  136           141\n",
       "2018-Jul       230  277           172\n",
       "2018-Jun       192   99           100\n",
       "2018-Mar       233  190           163\n",
       "2018-May       151  264           200\n",
       "2018-Nov       189  239           376\n",
       "2018-Oct       238  223           322\n",
       "2018-Sep       205  201           163"
      ]
     },
     "execution_count": 83,
     "metadata": {},
     "output_type": "execute_result"
    }
   ],
   "source": [
    "df = get_meta_dataframe(combined)\n",
    "df"
   ]
  },
  {
   "cell_type": "code",
   "execution_count": 84,
   "id": "f2be0dbf",
   "metadata": {},
   "outputs": [],
   "source": [
    "def get_soft_cosine_frame(results, source1, source2):\n",
    "    cosine = pd.DataFrame(results).T\n",
    "    cosine.rename(columns={0: 'date', 1:f'soft_cosine_{source1}_{source2}', 2: f'combinations_{source1}_{source2}'},inplace=True)\n",
    "    cosine = cosine.set_index('date')\n",
    "    return cosine\n",
    "\n",
    "soft_cosine_guardian_bbc = get_soft_cosine_frame(results_guardian_bbc,'guardian', 'bbc')\n",
    "soft_cosine_guardian_infowars = get_soft_cosine_frame(results_guardian_infowars,'guardian', 'infowars')\n",
    "soft_cosine_bbc_infowars = get_soft_cosine_frame(results_bbc_infowars,'bbc', 'infowars')"
   ]
  },
  {
   "cell_type": "code",
   "execution_count": 85,
   "id": "1d77922c",
   "metadata": {},
   "outputs": [],
   "source": [
    "df = pd.merge(soft_cosine_guardian_bbc, df, left_index=True, right_index=True, how='inner')\n",
    "df = pd.merge(soft_cosine_guardian_infowars, df, left_index=True, right_index=True, how='inner')\n",
    "df = pd.merge(soft_cosine_bbc_infowars, df, left_index=True, right_index=True, how='inner')"
   ]
  },
  {
   "cell_type": "code",
   "execution_count": 86,
   "id": "c00f07e9",
   "metadata": {},
   "outputs": [
    {
     "data": {
      "text/html": [
       "<div>\n",
       "<style scoped>\n",
       "    .dataframe tbody tr th:only-of-type {\n",
       "        vertical-align: middle;\n",
       "    }\n",
       "\n",
       "    .dataframe tbody tr th {\n",
       "        vertical-align: top;\n",
       "    }\n",
       "\n",
       "    .dataframe thead th {\n",
       "        text-align: right;\n",
       "    }\n",
       "</style>\n",
       "<table border=\"1\" class=\"dataframe\">\n",
       "  <thead>\n",
       "    <tr style=\"text-align: right;\">\n",
       "      <th></th>\n",
       "      <th>soft_cosine_bbc_infowars</th>\n",
       "      <th>combinations_bbc_infowars</th>\n",
       "      <th>soft_cosine_guardian_infowars</th>\n",
       "      <th>combinations_guardian_infowars</th>\n",
       "      <th>soft_cosine_guardian_bbc</th>\n",
       "      <th>combinations_guardian_bbc</th>\n",
       "      <th>Infowars</th>\n",
       "      <th>BBC</th>\n",
       "      <th>The Guardian</th>\n",
       "    </tr>\n",
       "    <tr>\n",
       "      <th>date</th>\n",
       "      <th></th>\n",
       "      <th></th>\n",
       "      <th></th>\n",
       "      <th></th>\n",
       "      <th></th>\n",
       "      <th></th>\n",
       "      <th></th>\n",
       "      <th></th>\n",
       "      <th></th>\n",
       "    </tr>\n",
       "  </thead>\n",
       "  <tbody>\n",
       "    <tr>\n",
       "      <th>2018-Feb</th>\n",
       "      <td>0.74339</td>\n",
       "      <td>22576</td>\n",
       "      <td>0.790988</td>\n",
       "      <td>23406</td>\n",
       "      <td>0.79369</td>\n",
       "      <td>19176</td>\n",
       "      <td>166</td>\n",
       "      <td>136</td>\n",
       "      <td>141</td>\n",
       "    </tr>\n",
       "    <tr>\n",
       "      <th>2018-Mar</th>\n",
       "      <td>0.707232</td>\n",
       "      <td>44270</td>\n",
       "      <td>0.762005</td>\n",
       "      <td>37979</td>\n",
       "      <td>0.790336</td>\n",
       "      <td>30970</td>\n",
       "      <td>233</td>\n",
       "      <td>190</td>\n",
       "      <td>163</td>\n",
       "    </tr>\n",
       "    <tr>\n",
       "      <th>2018-Apr</th>\n",
       "      <td>0.699728</td>\n",
       "      <td>27853</td>\n",
       "      <td>0.755785</td>\n",
       "      <td>29929</td>\n",
       "      <td>0.775202</td>\n",
       "      <td>27853</td>\n",
       "      <td>173</td>\n",
       "      <td>161</td>\n",
       "      <td>173</td>\n",
       "    </tr>\n",
       "    <tr>\n",
       "      <th>2018-May</th>\n",
       "      <td>0.696832</td>\n",
       "      <td>39864</td>\n",
       "      <td>0.760394</td>\n",
       "      <td>30200</td>\n",
       "      <td>0.78392</td>\n",
       "      <td>52800</td>\n",
       "      <td>151</td>\n",
       "      <td>264</td>\n",
       "      <td>200</td>\n",
       "    </tr>\n",
       "    <tr>\n",
       "      <th>2018-Jun</th>\n",
       "      <td>0.718511</td>\n",
       "      <td>19008</td>\n",
       "      <td>0.78671</td>\n",
       "      <td>19200</td>\n",
       "      <td>0.787936</td>\n",
       "      <td>9900</td>\n",
       "      <td>192</td>\n",
       "      <td>99</td>\n",
       "      <td>100</td>\n",
       "    </tr>\n",
       "    <tr>\n",
       "      <th>2018-Jul</th>\n",
       "      <td>0.710889</td>\n",
       "      <td>63710</td>\n",
       "      <td>0.750281</td>\n",
       "      <td>39560</td>\n",
       "      <td>0.785689</td>\n",
       "      <td>47644</td>\n",
       "      <td>230</td>\n",
       "      <td>277</td>\n",
       "      <td>172</td>\n",
       "    </tr>\n",
       "    <tr>\n",
       "      <th>2018-Aug</th>\n",
       "      <td>0.726961</td>\n",
       "      <td>46830</td>\n",
       "      <td>0.775064</td>\n",
       "      <td>42370</td>\n",
       "      <td>0.80113</td>\n",
       "      <td>39900</td>\n",
       "      <td>223</td>\n",
       "      <td>210</td>\n",
       "      <td>190</td>\n",
       "    </tr>\n",
       "    <tr>\n",
       "      <th>2018-Sep</th>\n",
       "      <td>0.696628</td>\n",
       "      <td>41205</td>\n",
       "      <td>0.7334</td>\n",
       "      <td>33415</td>\n",
       "      <td>0.788665</td>\n",
       "      <td>32763</td>\n",
       "      <td>205</td>\n",
       "      <td>201</td>\n",
       "      <td>163</td>\n",
       "    </tr>\n",
       "    <tr>\n",
       "      <th>2018-Oct</th>\n",
       "      <td>0.723261</td>\n",
       "      <td>53074</td>\n",
       "      <td>0.761716</td>\n",
       "      <td>76636</td>\n",
       "      <td>0.810187</td>\n",
       "      <td>71806</td>\n",
       "      <td>238</td>\n",
       "      <td>223</td>\n",
       "      <td>322</td>\n",
       "    </tr>\n",
       "    <tr>\n",
       "      <th>2018-Nov</th>\n",
       "      <td>0.715509</td>\n",
       "      <td>45171</td>\n",
       "      <td>0.736123</td>\n",
       "      <td>71064</td>\n",
       "      <td>0.791615</td>\n",
       "      <td>89864</td>\n",
       "      <td>189</td>\n",
       "      <td>239</td>\n",
       "      <td>376</td>\n",
       "    </tr>\n",
       "  </tbody>\n",
       "</table>\n",
       "</div>"
      ],
      "text/plain": [
       "         soft_cosine_bbc_infowars combinations_bbc_infowars  \\\n",
       "date                                                          \n",
       "2018-Feb                  0.74339                     22576   \n",
       "2018-Mar                 0.707232                     44270   \n",
       "2018-Apr                 0.699728                     27853   \n",
       "2018-May                 0.696832                     39864   \n",
       "2018-Jun                 0.718511                     19008   \n",
       "2018-Jul                 0.710889                     63710   \n",
       "2018-Aug                 0.726961                     46830   \n",
       "2018-Sep                 0.696628                     41205   \n",
       "2018-Oct                 0.723261                     53074   \n",
       "2018-Nov                 0.715509                     45171   \n",
       "\n",
       "         soft_cosine_guardian_infowars combinations_guardian_infowars  \\\n",
       "date                                                                    \n",
       "2018-Feb                      0.790988                          23406   \n",
       "2018-Mar                      0.762005                          37979   \n",
       "2018-Apr                      0.755785                          29929   \n",
       "2018-May                      0.760394                          30200   \n",
       "2018-Jun                       0.78671                          19200   \n",
       "2018-Jul                      0.750281                          39560   \n",
       "2018-Aug                      0.775064                          42370   \n",
       "2018-Sep                        0.7334                          33415   \n",
       "2018-Oct                      0.761716                          76636   \n",
       "2018-Nov                      0.736123                          71064   \n",
       "\n",
       "         soft_cosine_guardian_bbc combinations_guardian_bbc  Infowars  BBC  \\\n",
       "date                                                                         \n",
       "2018-Feb                  0.79369                     19176       166  136   \n",
       "2018-Mar                 0.790336                     30970       233  190   \n",
       "2018-Apr                 0.775202                     27853       173  161   \n",
       "2018-May                  0.78392                     52800       151  264   \n",
       "2018-Jun                 0.787936                      9900       192   99   \n",
       "2018-Jul                 0.785689                     47644       230  277   \n",
       "2018-Aug                  0.80113                     39900       223  210   \n",
       "2018-Sep                 0.788665                     32763       205  201   \n",
       "2018-Oct                 0.810187                     71806       238  223   \n",
       "2018-Nov                 0.791615                     89864       189  239   \n",
       "\n",
       "          The Guardian  \n",
       "date                    \n",
       "2018-Feb           141  \n",
       "2018-Mar           163  \n",
       "2018-Apr           173  \n",
       "2018-May           200  \n",
       "2018-Jun           100  \n",
       "2018-Jul           172  \n",
       "2018-Aug           190  \n",
       "2018-Sep           163  \n",
       "2018-Oct           322  \n",
       "2018-Nov           376  "
      ]
     },
     "execution_count": 86,
     "metadata": {},
     "output_type": "execute_result"
    }
   ],
   "source": [
    "df"
   ]
  },
  {
   "cell_type": "markdown",
   "id": "b7f8bdf4",
   "metadata": {},
   "source": [
    "### visualize"
   ]
  },
  {
   "cell_type": "code",
   "execution_count": 87,
   "id": "57162ffd",
   "metadata": {},
   "outputs": [],
   "source": [
    "df.index = pd.to_datetime(df.index)\n",
    "df = df.reset_index()\n",
    "long = pd.melt(df, id_vars = 'date', value_vars = ['soft_cosine_guardian_infowars','soft_cosine_guardian_bbc', 'soft_cosine_bbc_infowars'], var_name='Outlets', value_name='Soft Cosine Similarity')"
   ]
  },
  {
   "cell_type": "code",
   "execution_count": 88,
   "id": "a05dc881",
   "metadata": {},
   "outputs": [
    {
     "data": {
      "text/plain": [
       "<AxesSubplot:xlabel='date', ylabel='Soft Cosine Similarity'>"
      ]
     },
     "execution_count": 88,
     "metadata": {},
     "output_type": "execute_result"
    },
    {
     "data": {
      "image/png": "[encoded data removed]",
      "text/plain": [
       "<Figure size 648x504 with 1 Axes>"
      ]
     },
     "metadata": {},
     "output_type": "display_data"
    }
   ],
   "source": [
    "long[\"Soft Cosine Similarity\"] = pd.to_numeric(long[\"Soft Cosine Similarity\"], downcast=\"float\")\n",
    "sns.lineplot(x='date', y='Soft Cosine Similarity', hue='Outlets', data=long)"
   ]
  },
  {
   "cell_type": "markdown",
   "id": "dd29b5bb",
   "metadata": {},
   "source": [
    "<u>Question 7</u> \n",
    "<br>\n",
    "<br>\n",
    "<div class=\"alert-info\">\n",
    "Compare these findings to regular cosine findings. Are you suprised by the difference in these findings? What strikes you most?\n",
    "</div>\n"
   ]
  }
 ],
 "metadata": {
  "kernelspec": {
   "display_name": "Python 3",
   "language": "python",
   "name": "python3"
  },
  "language_info": {
   "codemirror_mode": {
    "name": "ipython",
    "version": 3
   },
   "file_extension": ".py",
   "mimetype": "text/x-python",
   "name": "python",
   "nbconvert_exporter": "python",
   "pygments_lexer": "ipython3",
   "version": "3.8.2"
  }
 },
 "nbformat": 4,
 "nbformat_minor": 5
}
