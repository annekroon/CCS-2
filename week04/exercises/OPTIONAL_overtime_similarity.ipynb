{
 "cells": [
  {
   "cell_type": "markdown",
   "id": "ca16302b",
   "metadata": {},
   "source": [
    "# In-class exercise week 4: Tracing dynamic similarity between quality and fake news sources\n",
    "\n",
    "One may wonder to what extent fake news sources follow the agenda of quality news outlets. In this assignment, we try to map the overlap in articles (i.e., agenda convergence) published by Infowars, an extreme right/ fake news source, and BBC and The Guardian on the other hand--which are generally considered high quality news sources.\n",
    "\n",
    "specifically, in this notebook, we will use and compare two methods of similarity: `cosine` and `soft-cosine`. \n",
    "\n",
    "You can find, and download, the full dataset here:\n",
    "https://dataverse.harvard.edu/dataset.xhtml?persistentId=doi:10.7910/DVN/ULHLCB\n",
    "\n",
    "For this assignment, you can work with the same data that we used for week 2 (`articles.zip`) \n",
    "\n",
    "<br>\n",
    "\n",
    "<div class=\"alert-warning\">\n",
    "Please run the code step by step and try to follow what is happening. You do not have to understand all lines of code (especially the helper functions might contain code that you do not yet understand). \n",
    "</div>"
   ]
  },
  {
   "cell_type": "markdown",
   "id": "e9e203c9",
   "metadata": {},
   "source": [
    "### Reading in the data"
   ]
  },
  {
   "cell_type": "code",
   "execution_count": 1,
   "id": "de7d7ea6",
   "metadata": {},
   "outputs": [],
   "source": [
    "PATH = '/Users/anne/repos/CCS2NEW/CCS-2/week02/exercises/articles'\n",
    "\n",
    "#PATH = 'path/to/folder/with/articles' #use the data that we've also worked with in week 2\n",
    "\n",
    "\n",
    "from glob import glob\n",
    "import random\n",
    "from sklearn.feature_extraction.text import CountVectorizer, TfidfVectorizer\n",
    "import pandas as pd\n",
    "from dateutil import parser\n",
    "import numpy as np\n",
    "from sklearn.metrics.pairwise import cosine_similarity\n",
    "from tqdm import tqdm"
   ]
  },
  {
   "cell_type": "markdown",
   "id": "82925886",
   "metadata": {},
   "source": [
    "## Take a random sample\n",
    "\n",
    "Set a random number, of max `2000` (if you work with the smaller datafile from Canvas). However, you can also set this value to 20 or so, just for the purpose of practice--and speeding up the code"
   ]
  },
  {
   "cell_type": "code",
   "execution_count": 2,
   "id": "b4693bb4",
   "metadata": {},
   "outputs": [],
   "source": [
    "RANDOM_N = 2000"
   ]
  },
  {
   "cell_type": "code",
   "execution_count": 3,
   "id": "8dd13aaa",
   "metadata": {},
   "outputs": [],
   "source": [
    "# this is a helper function to read in the data; you can try to follow the code but it's not necessary that you understand all parts.\n",
    "\n",
    "def read_data(listofoutlets, RANDOM_N):\n",
    "    \n",
    "    date = []\n",
    "    title = []\n",
    "    outlets = []\n",
    "    texts = []\n",
    "    for outlet in listofoutlets:\n",
    "        \n",
    "        for file in random.choices(glob(f'{PATH}/*/{outlet}/*'), k=RANDOM_N):\n",
    "            date.append(file.split('--')[-2])\n",
    "            title.append(file.split('--')[-1])\n",
    "            with open(file) as f:\n",
    "                texts.append(f.read())\n",
    "                outlets.append(outlet)\n",
    "                \n",
    "    return date, title, texts, outlets\n",
    "\n",
    "dates, title, texts, outlets = read_data(['Infowars', 'BBC', 'The Guardian'], RANDOM_N)"
   ]
  },
  {
   "cell_type": "code",
   "execution_count": 4,
   "id": "e08415ea",
   "metadata": {},
   "outputs": [
    {
     "data": {
      "text/plain": [
       "('2018-04-24',\n",
       " 'Video MSNBC Host Scarborough Says White House Physician Is Like Hitlers Doctor',\n",
       " \"MSNBC host Joe Scarborough told viewers Monday that the Presidents physician sounds like Hitlers doctor, in an effort to derail the former Navy physicians nomination by Trump for secretary of veterans affairs.\\n\\nDr Ronny Jackson, an Iraq War veteran, has been nominated by Trump to succeed David Shulkin, but is facing allegations, according to anonymous sources cited by CBS, of creating a hostile work environment, as well as excessive drinking on the job and improperly dispensing meds.\\n\\nThis provided enough ammunition for Joe Scarborough and his motley crew to attempt a character assassination, based mainly on Jackson, who was also Barack Obamas doctor, issuing Trump a clean bill of health earlier in the year.\\n\\nYou dont have to be one of those people that work at circuses that look, Hey, I can guess your weight, to know that Donald Trump weighs a hell of a lot more than 239 pounds. That was embarrassing, Scarborough said, suggesting that Jackson lied about the presidents weight.\\n\\nThe topper of it all, the piece de resistance was when he said, and it sounded like Hitlers doctor, Im sorry. You know what, his genes are so good,' Scarborough continued.\\n\\nIf Hitlers doctor had a Brooklyn accent, Scarborough mockingly continued, adding His genes are so good. He could live to be 200 years old.'\\n\\nScarboroughs wife and co-host Mika Brzezinski threw in her two cents, suggesting that a sucking sound could be heard as Jackson spoke to the press about Trumps health in January.\\n\\nThat display about the presidents health I thought was quite incredible, she said.\\n\\nBack in January Morning Joe, as well as CNNs Don Lemon refused to accept Jacksons medical analysis of the president, accusing the physician, who has been a White House doctor since 2006, of being a Trump fanboy.\",\n",
       " 'Infowars')"
      ]
     },
     "execution_count": 4,
     "metadata": {},
     "output_type": "execute_result"
    }
   ],
   "source": [
    "dates[0], title[0], texts[0], outlets[0]"
   ]
  },
  {
   "cell_type": "code",
   "execution_count": 5,
   "id": "2d8093fa",
   "metadata": {},
   "outputs": [
    {
     "data": {
      "text/plain": [
       "['2018-Apr', '2018-Jun', '2018-Mar', '2018-May']"
      ]
     },
     "execution_count": 5,
     "metadata": {},
     "output_type": "execute_result"
    }
   ],
   "source": [
    "dates_formatted = [parser.parse(e).strftime(\"%Y-%b\") for e in dates]\n",
    "dates_formatted[0:4]"
   ]
  },
  {
   "cell_type": "markdown",
   "id": "f5abb614",
   "metadata": {},
   "source": [
    "\n",
    "<u>Question 1</u> \n",
    "\n",
    " <br>\n",
    "\n",
    "<div class=\"alert-info\">\n",
    "Expect the content of the dates, title, texts, outlets objects. \n",
    "Can you understand the code above? Why are we formatting the date variable?  <br>\n",
    "Check the type of data you are working with, print the first entry of each list, perform some sanity checks.\n",
    "</div>\n",
    "\n",
    "    An example of a sanity check if for example to check whether all the lists are of equal length (which you would expect here)\n",
    "```python\n",
    "\n",
    "assert len(dates) == len(title) == len(texts) == len(outlets)# example sanity checks\n",
    "```\n"
   ]
  },
  {
   "cell_type": "markdown",
   "id": "ab720d88",
   "metadata": {},
   "source": [
    "### Initialize a time frame\n",
    "\n",
    "Ultimatly, we would like to have observations (i.e., cosine similarity scores) for each month in the period 2018. It might be, however, that we cannot calculate values for each month (incase we have missings). To avoid ending up with missing months in our dataframe, we create this list before the start of our analysis."
   ]
  },
  {
   "cell_type": "code",
   "execution_count": 6,
   "id": "3317fb38",
   "metadata": {},
   "outputs": [],
   "source": [
    "lists_of_dates = pd.date_range('2018-01-01','2019-01-01', freq='MS').strftime(\"%Y-%b\").tolist()"
   ]
  },
  {
   "cell_type": "markdown",
   "id": "7c3c4a4e",
   "metadata": {},
   "source": [
    "# 1. Dynamic Agenda overlap with Cosine Similarity \n",
    "We use`sklearn`'s`cosine_similarity` to calculate cosine similarity scores"
   ]
  },
  {
   "cell_type": "markdown",
   "id": "e384eabe",
   "metadata": {},
   "source": [
    "### Vectorize the data"
   ]
  },
  {
   "cell_type": "code",
   "execution_count": 7,
   "id": "f2a09bd7",
   "metadata": {},
   "outputs": [],
   "source": [
    "vec = CountVectorizer(stop_words='english')\n",
    "count_matrix = vec.fit(texts) # fit on all the data\n",
    "transformed_text = vec.transform(texts)"
   ]
  },
  {
   "cell_type": "markdown",
   "id": "0b4f626f",
   "metadata": {},
   "source": [
    "<u>Question 2</u> \n",
    "<br>\n",
    "<br>\n",
    "<div class=\"alert-info\">\n",
    "Can you change the code in the cell above? <br>\n",
    "e.g., use pruning rather than stopword removal, or transform the data using the tfidf algorithm.\n",
    "</div>\n"
   ]
  },
  {
   "cell_type": "markdown",
   "id": "99c557fd",
   "metadata": {},
   "source": [
    "### helper function: Create list of tuples, for each of the outlets. "
   ]
  },
  {
   "cell_type": "code",
   "execution_count": 8,
   "id": "2217840e",
   "metadata": {},
   "outputs": [],
   "source": [
    "combined = list(zip(dates_formatted, title, texts, outlets, transformed_text))\n",
    "\n",
    "infowars = [e for e in combined if e[3]=='Infowars']\n",
    "bbc = [e for e in combined if e[3]=='BBC']\n",
    "guardian = [e for e in combined if e[3]=='The Guardian']"
   ]
  },
  {
   "cell_type": "markdown",
   "id": "45cfc157",
   "metadata": {},
   "source": [
    "### Calcuting Cosine Similarity scores across outlets overtime\n",
    "\n",
    "The next utility function will calculate cosine similarity scores between two agendas, in chuncks of months. More specifically, for each month of our selected time frame, we will calculate cosine similarity scores between articles from a fake news source on the one hand (`infowars`), and a quality news source on the other (`BBC`)"
   ]
  },
  {
   "cell_type": "code",
   "execution_count": 9,
   "id": "6304b75e",
   "metadata": {},
   "outputs": [],
   "source": [
    "## Helper function: get cosine similarity scores overtime\n",
    "\n",
    "def get_cosine_overtime(source1, source2, list_of_dates):\n",
    "    \n",
    "    '''calculate cosine similarity sources between articles nested within months'''\n",
    "\n",
    "    time_frame = []\n",
    "    monthly_cosine_similarity = []\n",
    "    number_of_combinations = []\n",
    "\n",
    "    for month in tqdm(lists_of_dates):\n",
    "        \n",
    "        all_combinations = []\n",
    "\n",
    "        source1_comparison = [i for i in source1 if i[0]==month]\n",
    "        source2_comparison = [i for i in source2 if i[0]==month]\n",
    "\n",
    "        for i in source1_comparison:\n",
    "            single_combinations = []\n",
    "            for e in source2_comparison:\n",
    "                \n",
    "                assert month == i[0] == e[0] #sanity check\n",
    "                \n",
    "                sim_score = cosine_similarity(i[4], e[4])\n",
    "                single_combinations.append(sim_score[0][0])\n",
    "\n",
    "            all_combinations.extend(single_combinations)\n",
    "\n",
    "        time_frame.append(month)\n",
    "        monthly_cosine_similarity.append(np.mean(all_combinations))\n",
    "        number_of_combinations.append(len(all_combinations))\n",
    "    return [time_frame, monthly_cosine_similarity, number_of_combinations]"
   ]
  },
  {
   "cell_type": "code",
   "execution_count": 10,
   "id": "0137e4b4",
   "metadata": {},
   "outputs": [
    {
     "name": "stderr",
     "output_type": "stream",
     "text": [
      "  0%|          | 0/13 [00:00<?, ?it/s]/Users/anne/Library/Python/3.8/lib/python/site-packages/numpy/core/fromnumeric.py:3419: RuntimeWarning: Mean of empty slice.\n",
      "  return _methods._mean(a, axis=axis, dtype=dtype,\n",
      "/Users/anne/Library/Python/3.8/lib/python/site-packages/numpy/core/_methods.py:188: RuntimeWarning: invalid value encountered in double_scalars\n",
      "  ret = ret.dtype.type(ret / rcount)\n",
      "100%|██████████| 13/13 [06:26<00:00, 29.72s/it]\n"
     ]
    }
   ],
   "source": [
    "results_guardian_bbc = get_cosine_overtime(guardian, bbc, lists_of_dates) "
   ]
  },
  {
   "cell_type": "markdown",
   "id": "8b09bd33",
   "metadata": {},
   "source": [
    "Do you understand what is returned by the function`get_cosine_overtime()`?  \n",
    "\n",
    "\n",
    "Can you guess what is in `results_guardian_bbc[1]`? and `results_guardian_bbc[1]`? and `results_guardian_bbc[2]`?"
   ]
  },
  {
   "cell_type": "code",
   "execution_count": 11,
   "id": "0a6600c4",
   "metadata": {},
   "outputs": [
    {
     "data": {
      "text/plain": [
       "13"
      ]
     },
     "execution_count": 11,
     "metadata": {},
     "output_type": "execute_result"
    }
   ],
   "source": [
    "len(results_guardian_bbc[0]) "
   ]
  },
  {
   "cell_type": "code",
   "execution_count": 12,
   "id": "0af67ee2",
   "metadata": {},
   "outputs": [
    {
     "data": {
      "text/plain": [
       "['2018-Jan',\n",
       " '2018-Feb',\n",
       " '2018-Mar',\n",
       " '2018-Apr',\n",
       " '2018-May',\n",
       " '2018-Jun',\n",
       " '2018-Jul',\n",
       " '2018-Aug',\n",
       " '2018-Sep',\n",
       " '2018-Oct',\n",
       " '2018-Nov',\n",
       " '2018-Dec',\n",
       " '2019-Jan']"
      ]
     },
     "execution_count": 12,
     "metadata": {},
     "output_type": "execute_result"
    }
   ],
   "source": [
    "results_guardian_bbc[0]"
   ]
  },
  {
   "cell_type": "code",
   "execution_count": 13,
   "id": "d6f01122",
   "metadata": {},
   "outputs": [
    {
     "name": "stderr",
     "output_type": "stream",
     "text": [
      "100%|██████████| 13/13 [07:06<00:00, 32.83s/it]\n"
     ]
    }
   ],
   "source": [
    "results_guardian_infowars = get_cosine_overtime(guardian, infowars, lists_of_dates)"
   ]
  },
  {
   "cell_type": "code",
   "execution_count": 14,
   "id": "28471772",
   "metadata": {},
   "outputs": [
    {
     "name": "stderr",
     "output_type": "stream",
     "text": [
      "100%|██████████| 13/13 [06:47<00:00, 31.33s/it]\n"
     ]
    }
   ],
   "source": [
    "results_bbc_infowars = get_cosine_overtime(bbc, infowars, lists_of_dates)"
   ]
  },
  {
   "cell_type": "markdown",
   "id": "38c6ddee",
   "metadata": {},
   "source": [
    "### Convert meta data to a dataframe\n",
    "To inspect the data, and maybe visualize it, it might be nice to convert it to a tabular format. "
   ]
  },
  {
   "cell_type": "code",
   "execution_count": 15,
   "id": "be8e71bc",
   "metadata": {},
   "outputs": [
    {
     "data": {
      "text/html": [
       "<div>\n",
       "<style scoped>\n",
       "    .dataframe tbody tr th:only-of-type {\n",
       "        vertical-align: middle;\n",
       "    }\n",
       "\n",
       "    .dataframe tbody tr th {\n",
       "        vertical-align: top;\n",
       "    }\n",
       "\n",
       "    .dataframe thead th {\n",
       "        text-align: right;\n",
       "    }\n",
       "</style>\n",
       "<table border=\"1\" class=\"dataframe\">\n",
       "  <thead>\n",
       "    <tr style=\"text-align: right;\">\n",
       "      <th></th>\n",
       "      <th>Infowars</th>\n",
       "      <th>BBC</th>\n",
       "      <th>The Guardian</th>\n",
       "    </tr>\n",
       "    <tr>\n",
       "      <th>date</th>\n",
       "      <th></th>\n",
       "      <th></th>\n",
       "      <th></th>\n",
       "    </tr>\n",
       "  </thead>\n",
       "  <tbody>\n",
       "    <tr>\n",
       "      <th>2018-Apr</th>\n",
       "      <td>182</td>\n",
       "      <td>194</td>\n",
       "      <td>155</td>\n",
       "    </tr>\n",
       "    <tr>\n",
       "      <th>2018-Aug</th>\n",
       "      <td>217</td>\n",
       "      <td>234</td>\n",
       "      <td>206</td>\n",
       "    </tr>\n",
       "    <tr>\n",
       "      <th>2018-Feb</th>\n",
       "      <td>181</td>\n",
       "      <td>179</td>\n",
       "      <td>150</td>\n",
       "    </tr>\n",
       "    <tr>\n",
       "      <th>2018-Jul</th>\n",
       "      <td>212</td>\n",
       "      <td>278</td>\n",
       "      <td>171</td>\n",
       "    </tr>\n",
       "    <tr>\n",
       "      <th>2018-Jun</th>\n",
       "      <td>157</td>\n",
       "      <td>109</td>\n",
       "      <td>102</td>\n",
       "    </tr>\n",
       "  </tbody>\n",
       "</table>\n",
       "</div>"
      ],
      "text/plain": [
       "          Infowars  BBC  The Guardian\n",
       "date                                 \n",
       "2018-Apr       182  194           155\n",
       "2018-Aug       217  234           206\n",
       "2018-Feb       181  179           150\n",
       "2018-Jul       212  278           171\n",
       "2018-Jun       157  109           102"
      ]
     },
     "execution_count": 15,
     "metadata": {},
     "output_type": "execute_result"
    }
   ],
   "source": [
    "def get_meta_dataframe(combined_data):\n",
    "    df = pd.DataFrame(combined)\n",
    "    df.columns = ['date', 'title', 'text', 'outlet', 'vectorized']\n",
    "\n",
    "    df['Infowars'] = np.where(df['outlet'] == 'Infowars', 1,0)\n",
    "    df['BBC'] = np.where(df['outlet'] == 'BBC', 1,0)\n",
    "    df['The Guardian'] = np.where(df['outlet'] == 'The Guardian', 1,0)\n",
    "\n",
    "    # aggregate the dataframe on the level of months, with number of articles within outlets in the rows:\n",
    "    df = df.groupby('date')[['Infowars', 'BBC', 'The Guardian']].sum()\n",
    "    \n",
    "    return df\n",
    "\n",
    "df = get_meta_dataframe(combined)\n",
    "df.head()"
   ]
  },
  {
   "cell_type": "markdown",
   "id": "ed27b645",
   "metadata": {},
   "source": [
    "### Create a df with the cosine similairy scores between two agendas"
   ]
  },
  {
   "cell_type": "code",
   "execution_count": 16,
   "id": "dd7593a0",
   "metadata": {},
   "outputs": [],
   "source": [
    "def get_cosine_frame(results, source1, source2):\n",
    "    cosine = pd.DataFrame(results).T\n",
    "    cosine.rename(columns={0: 'date', 1:f'cosine_{source1}_{source2}', 2: f'combinations_{source1}_{source2}'},inplace=True)\n",
    "    cosine = cosine.set_index('date')\n",
    "    return cosine\n",
    "\n",
    "cosine_guardian_bbc = get_cosine_frame(results_guardian_bbc,'guardian', 'bbc')\n",
    "cosine_guardian_infowars = get_cosine_frame(results_guardian_infowars,'guardian', 'infowars')\n",
    "cosine_bbc_infowars = get_cosine_frame(results_bbc_infowars,'bbc', 'infowars')"
   ]
  },
  {
   "cell_type": "code",
   "execution_count": 17,
   "id": "81cffc94",
   "metadata": {},
   "outputs": [],
   "source": [
    "df = pd.merge(cosine_guardian_bbc, df, left_index=True, right_index=True, how='inner')\n",
    "df = pd.merge(cosine_guardian_infowars, df, left_index=True, right_index=True, how = 'inner')\n",
    "df = pd.merge(cosine_bbc_infowars, df, left_index=True, right_index=True, how = 'inner')"
   ]
  },
  {
   "cell_type": "code",
   "execution_count": 18,
   "id": "89ac0db2",
   "metadata": {},
   "outputs": [
    {
     "data": {
      "text/html": [
       "<div>\n",
       "<style scoped>\n",
       "    .dataframe tbody tr th:only-of-type {\n",
       "        vertical-align: middle;\n",
       "    }\n",
       "\n",
       "    .dataframe tbody tr th {\n",
       "        vertical-align: top;\n",
       "    }\n",
       "\n",
       "    .dataframe thead th {\n",
       "        text-align: right;\n",
       "    }\n",
       "</style>\n",
       "<table border=\"1\" class=\"dataframe\">\n",
       "  <thead>\n",
       "    <tr style=\"text-align: right;\">\n",
       "      <th></th>\n",
       "      <th>cosine_bbc_infowars</th>\n",
       "      <th>combinations_bbc_infowars</th>\n",
       "      <th>cosine_guardian_infowars</th>\n",
       "      <th>combinations_guardian_infowars</th>\n",
       "      <th>cosine_guardian_bbc</th>\n",
       "      <th>combinations_guardian_bbc</th>\n",
       "      <th>Infowars</th>\n",
       "      <th>BBC</th>\n",
       "      <th>The Guardian</th>\n",
       "    </tr>\n",
       "    <tr>\n",
       "      <th>date</th>\n",
       "      <th></th>\n",
       "      <th></th>\n",
       "      <th></th>\n",
       "      <th></th>\n",
       "      <th></th>\n",
       "      <th></th>\n",
       "      <th></th>\n",
       "      <th></th>\n",
       "      <th></th>\n",
       "    </tr>\n",
       "  </thead>\n",
       "  <tbody>\n",
       "    <tr>\n",
       "      <th>2018-Feb</th>\n",
       "      <td>0.041655</td>\n",
       "      <td>32399</td>\n",
       "      <td>0.080781</td>\n",
       "      <td>27150</td>\n",
       "      <td>0.062209</td>\n",
       "      <td>26850</td>\n",
       "      <td>181</td>\n",
       "      <td>179</td>\n",
       "      <td>150</td>\n",
       "    </tr>\n",
       "    <tr>\n",
       "      <th>2018-Mar</th>\n",
       "      <td>0.042727</td>\n",
       "      <td>44694</td>\n",
       "      <td>0.07406</td>\n",
       "      <td>39312</td>\n",
       "      <td>0.067103</td>\n",
       "      <td>32088</td>\n",
       "      <td>234</td>\n",
       "      <td>191</td>\n",
       "      <td>168</td>\n",
       "    </tr>\n",
       "    <tr>\n",
       "      <th>2018-Apr</th>\n",
       "      <td>0.040706</td>\n",
       "      <td>35308</td>\n",
       "      <td>0.080181</td>\n",
       "      <td>28210</td>\n",
       "      <td>0.062874</td>\n",
       "      <td>30070</td>\n",
       "      <td>182</td>\n",
       "      <td>194</td>\n",
       "      <td>155</td>\n",
       "    </tr>\n",
       "    <tr>\n",
       "      <th>2018-May</th>\n",
       "      <td>0.042531</td>\n",
       "      <td>39728</td>\n",
       "      <td>0.09309</td>\n",
       "      <td>36099</td>\n",
       "      <td>0.067893</td>\n",
       "      <td>39312</td>\n",
       "      <td>191</td>\n",
       "      <td>208</td>\n",
       "      <td>189</td>\n",
       "    </tr>\n",
       "    <tr>\n",
       "      <th>2018-Jun</th>\n",
       "      <td>0.044762</td>\n",
       "      <td>17113</td>\n",
       "      <td>0.092235</td>\n",
       "      <td>16014</td>\n",
       "      <td>0.072358</td>\n",
       "      <td>11118</td>\n",
       "      <td>157</td>\n",
       "      <td>109</td>\n",
       "      <td>102</td>\n",
       "    </tr>\n",
       "    <tr>\n",
       "      <th>2018-Jul</th>\n",
       "      <td>0.038687</td>\n",
       "      <td>58936</td>\n",
       "      <td>0.086271</td>\n",
       "      <td>36252</td>\n",
       "      <td>0.077408</td>\n",
       "      <td>47538</td>\n",
       "      <td>212</td>\n",
       "      <td>278</td>\n",
       "      <td>171</td>\n",
       "    </tr>\n",
       "    <tr>\n",
       "      <th>2018-Aug</th>\n",
       "      <td>0.039975</td>\n",
       "      <td>50778</td>\n",
       "      <td>0.09395</td>\n",
       "      <td>44702</td>\n",
       "      <td>0.059038</td>\n",
       "      <td>48204</td>\n",
       "      <td>217</td>\n",
       "      <td>234</td>\n",
       "      <td>206</td>\n",
       "    </tr>\n",
       "    <tr>\n",
       "      <th>2018-Sep</th>\n",
       "      <td>0.035999</td>\n",
       "      <td>38579</td>\n",
       "      <td>0.074541</td>\n",
       "      <td>46161</td>\n",
       "      <td>0.060478</td>\n",
       "      <td>35811</td>\n",
       "      <td>223</td>\n",
       "      <td>173</td>\n",
       "      <td>207</td>\n",
       "    </tr>\n",
       "    <tr>\n",
       "      <th>2018-Oct</th>\n",
       "      <td>0.041682</td>\n",
       "      <td>52514</td>\n",
       "      <td>0.086818</td>\n",
       "      <td>70422</td>\n",
       "      <td>0.063274</td>\n",
       "      <td>63147</td>\n",
       "      <td>242</td>\n",
       "      <td>217</td>\n",
       "      <td>291</td>\n",
       "    </tr>\n",
       "    <tr>\n",
       "      <th>2018-Nov</th>\n",
       "      <td>0.04021</td>\n",
       "      <td>34937</td>\n",
       "      <td>0.08305</td>\n",
       "      <td>58121</td>\n",
       "      <td>0.057924</td>\n",
       "      <td>78337</td>\n",
       "      <td>161</td>\n",
       "      <td>217</td>\n",
       "      <td>361</td>\n",
       "    </tr>\n",
       "  </tbody>\n",
       "</table>\n",
       "</div>"
      ],
      "text/plain": [
       "         cosine_bbc_infowars combinations_bbc_infowars  \\\n",
       "date                                                     \n",
       "2018-Feb            0.041655                     32399   \n",
       "2018-Mar            0.042727                     44694   \n",
       "2018-Apr            0.040706                     35308   \n",
       "2018-May            0.042531                     39728   \n",
       "2018-Jun            0.044762                     17113   \n",
       "2018-Jul            0.038687                     58936   \n",
       "2018-Aug            0.039975                     50778   \n",
       "2018-Sep            0.035999                     38579   \n",
       "2018-Oct            0.041682                     52514   \n",
       "2018-Nov             0.04021                     34937   \n",
       "\n",
       "         cosine_guardian_infowars combinations_guardian_infowars  \\\n",
       "date                                                               \n",
       "2018-Feb                 0.080781                          27150   \n",
       "2018-Mar                  0.07406                          39312   \n",
       "2018-Apr                 0.080181                          28210   \n",
       "2018-May                  0.09309                          36099   \n",
       "2018-Jun                 0.092235                          16014   \n",
       "2018-Jul                 0.086271                          36252   \n",
       "2018-Aug                  0.09395                          44702   \n",
       "2018-Sep                 0.074541                          46161   \n",
       "2018-Oct                 0.086818                          70422   \n",
       "2018-Nov                  0.08305                          58121   \n",
       "\n",
       "         cosine_guardian_bbc combinations_guardian_bbc  Infowars  BBC  \\\n",
       "date                                                                    \n",
       "2018-Feb            0.062209                     26850       181  179   \n",
       "2018-Mar            0.067103                     32088       234  191   \n",
       "2018-Apr            0.062874                     30070       182  194   \n",
       "2018-May            0.067893                     39312       191  208   \n",
       "2018-Jun            0.072358                     11118       157  109   \n",
       "2018-Jul            0.077408                     47538       212  278   \n",
       "2018-Aug            0.059038                     48204       217  234   \n",
       "2018-Sep            0.060478                     35811       223  173   \n",
       "2018-Oct            0.063274                     63147       242  217   \n",
       "2018-Nov            0.057924                     78337       161  217   \n",
       "\n",
       "          The Guardian  \n",
       "date                    \n",
       "2018-Feb           150  \n",
       "2018-Mar           168  \n",
       "2018-Apr           155  \n",
       "2018-May           189  \n",
       "2018-Jun           102  \n",
       "2018-Jul           171  \n",
       "2018-Aug           206  \n",
       "2018-Sep           207  \n",
       "2018-Oct           291  \n",
       "2018-Nov           361  "
      ]
     },
     "execution_count": 18,
     "metadata": {},
     "output_type": "execute_result"
    }
   ],
   "source": [
    "df"
   ]
  },
  {
   "cell_type": "markdown",
   "id": "90dcfeed",
   "metadata": {},
   "source": [
    "<u>Question 3</u> \n",
    "<br>\n",
    "<br>\n",
    "<div class=\"alert-info\">\n",
    "Inspect the results. Where do you see the highest overlap? Which agendas have the highest overlap? Does Infowars follow the agenda of The Guardian or the BBC more closely?<br>\n",
    "Is this what you expected?\n",
    "</div>\n"
   ]
  },
  {
   "cell_type": "markdown",
   "id": "7f3dacd8",
   "metadata": {},
   "source": [
    "<u>Question 4</u> \n",
    "<br>\n",
    "<br>\n",
    "<div class=\"alert-info\">\n",
    "Adjust the code, e.g., by changing the vectorizer, and inspect the effects thereof in the final results.<br>\n",
    "Is this more in line with what you would expect? \n",
    "</div>\n"
   ]
  },
  {
   "cell_type": "markdown",
   "id": "bda97c77",
   "metadata": {},
   "source": [
    "### Visualize "
   ]
  },
  {
   "cell_type": "code",
   "execution_count": 19,
   "id": "2070b9d6",
   "metadata": {},
   "outputs": [],
   "source": [
    "import seaborn as sns\n",
    "import matplotlib.pyplot as plt\n",
    "\n",
    "sns.set(rc={'figure.figsize':(9,7)})\n",
    "sns.set_style(\"white\")"
   ]
  },
  {
   "cell_type": "markdown",
   "id": "30b8172c",
   "metadata": {},
   "source": [
    "Before we can draw a lineplot, we need to change the dataframe from a wide to a long format. That what we will do next. "
   ]
  },
  {
   "cell_type": "code",
   "execution_count": 20,
   "id": "4e2da90b",
   "metadata": {},
   "outputs": [],
   "source": [
    "df.index = pd.to_datetime(df.index)\n",
    "df = df.reset_index()\n",
    "\n",
    "long = pd.melt(df, id_vars = 'date', value_vars = ['cosine_guardian_infowars', 'cosine_guardian_bbc', 'cosine_bbc_infowars'], var_name='agendas', value_name='cosine_similarity')\n",
    "long[\"cosine_similarity\"] = pd.to_numeric(long[\"cosine_similarity\"], downcast=\"float\")"
   ]
  },
  {
   "cell_type": "code",
   "execution_count": 21,
   "id": "487d2d5e",
   "metadata": {},
   "outputs": [
    {
     "data": {
      "text/plain": [
       "<AxesSubplot:xlabel='date', ylabel='cosine_similarity'>"
      ]
     },
     "execution_count": 21,
     "metadata": {},
     "output_type": "execute_result"
    },
    {
     "data": {
      "image/png": "[encoded data removed]",
      "text/plain": [
       "<Figure size 648x504 with 1 Axes>"
      ]
     },
     "metadata": {},
     "output_type": "display_data"
    }
   ],
   "source": [
    "sns.lineplot(x='date', y='cosine_similarity', hue='agendas', data=long)"
   ]
  },
  {
   "cell_type": "markdown",
   "id": "33ea9b47",
   "metadata": {},
   "source": [
    "You may wonder how overlap relates to absolute attention (=number of articles published within months within the outlets). We can plot both simultaneously in one graph."
   ]
  },
  {
   "cell_type": "code",
   "execution_count": 22,
   "id": "fb696aed",
   "metadata": {},
   "outputs": [
    {
     "data": {
      "text/plain": [
       "<matplotlib.legend.Legend at 0x12d13cc40>"
      ]
     },
     "execution_count": 22,
     "metadata": {},
     "output_type": "execute_result"
    },
    {
     "data": {
      "image/png": "[encoded data removed]",
      "text/plain": [
       "<Figure size 648x504 with 2 Axes>"
      ]
     },
     "metadata": {},
     "output_type": "display_data"
    }
   ],
   "source": [
    "long_attention = pd.melt(df, id_vars = 'date', value_vars = ['Infowars', 'The Guardian', 'BBC'], var_name='outlets', value_name='attention')\n",
    "\n",
    "sns.lineplot(x='date', y='cosine_similarity', hue='agendas', data=long)\n",
    "ax2 = plt.twinx()\n",
    "sns.lineplot(x='date',y='attention', hue='outlets', palette=['grey', 'black', 'silver'], data=long_attention, ax=ax2)\n",
    "plt.legend(loc='upper right')"
   ]
  },
  {
   "cell_type": "markdown",
   "id": "af0b5341",
   "metadata": {},
   "source": [
    "<u>Question 5</u> \n",
    "<br>\n",
    "<br>\n",
    "<div class=\"alert-info\">\n",
    "Does this make sense? Can you see a (reverse) relation between absolute attention and cosine scores?\n",
    "</div>\n"
   ]
  },
  {
   "cell_type": "markdown",
   "id": "c36a035d",
   "metadata": {},
   "source": [
    "# 2. Dynamic Agenda overlap with Soft-Cosine Similarity \n",
    "Here, we will use `gensim`"
   ]
  },
  {
   "cell_type": "code",
   "execution_count": 23,
   "id": "cca492b5",
   "metadata": {},
   "outputs": [
    {
     "name": "stdout",
     "output_type": "stream",
     "text": [
      "4.1.2\n"
     ]
    }
   ],
   "source": [
    "import gensim\n",
    "from gensim import corpora\n",
    "import gensim.downloader as api\n",
    "from gensim.utils import simple_preprocess\n",
    "from gensim.models import TfidfModel\n",
    "from gensim.similarities import SparseTermSimilarityMatrix\n",
    "from gensim.similarities import WordEmbeddingSimilarityIndex\n",
    "print(gensim.__version__)\n",
    "\n",
    "from gensim.corpora import Dictionary\n",
    "import numpy as np"
   ]
  },
  {
   "cell_type": "code",
   "execution_count": 24,
   "id": "1ae5483a",
   "metadata": {},
   "outputs": [
    {
     "name": "stdout",
     "output_type": "stream",
     "text": [
      "Your gensim version is 4.1.2. This notebook assumes that you have version 4.0 or higher. If not, please upgrade.\n"
     ]
    }
   ],
   "source": [
    "print(f\"Your gensim version is {gensim.__version__}. This notebook assumes that you have version 4.0 or higher. If not, please upgrade.\")\n",
    "assert int(gensim.__version__[0])>=4"
   ]
  },
  {
   "cell_type": "markdown",
   "id": "a8fadc21",
   "metadata": {},
   "source": [
    "### Load the model...\n",
    "<br>\n",
    "<div class=\"alert-danger\">\n",
    "Please note that the next block may take a while to run...\n",
    "</div>"
   ]
  },
  {
   "cell_type": "code",
   "execution_count": 25,
   "id": "f88aad53",
   "metadata": {},
   "outputs": [],
   "source": [
    "fasttext_model300 = api.load('fasttext-wiki-news-subwords-300')"
   ]
  },
  {
   "cell_type": "code",
   "execution_count": 26,
   "id": "bb599c91",
   "metadata": {},
   "outputs": [],
   "source": [
    "dictionary = corpora.Dictionary([simple_preprocess(doc) for doc in texts]) #initialize a Dictionary"
   ]
  },
  {
   "cell_type": "markdown",
   "id": "6cddde08",
   "metadata": {},
   "source": [
    "<div class=\"alert-danger\">\n",
    "Please note that the next block may take a while to run...\n",
    "</div>"
   ]
  },
  {
   "cell_type": "code",
   "execution_count": 27,
   "id": "33efca7d",
   "metadata": {},
   "outputs": [
    {
     "name": "stderr",
     "output_type": "stream",
     "text": [
      "100%|██████████| 45286/45286 [32:11<00:00, 23.45it/s]\n"
     ]
    }
   ],
   "source": [
    "similarity_index = WordEmbeddingSimilarityIndex(fasttext_model300)\n",
    "similarity_matrix = SparseTermSimilarityMatrix(similarity_index, dictionary) # Build a term similarity matrix and compute the Soft Cosine Measure."
   ]
  },
  {
   "cell_type": "code",
   "execution_count": 28,
   "id": "2b071e95",
   "metadata": {},
   "outputs": [],
   "source": [
    "bag_of_words_vectors = [ dictionary.doc2bow(simple_preprocess(doc)) for doc in texts]"
   ]
  },
  {
   "cell_type": "code",
   "execution_count": 29,
   "id": "3770f44e",
   "metadata": {},
   "outputs": [],
   "source": [
    "combined = list(zip(dates_formatted, title, texts, outlets, bag_of_words_vectors))\n",
    "\n",
    "infowars = [e for e in combined if e[3]=='Infowars']\n",
    "bbc = [e for e in combined if e[3]=='BBC']\n",
    "guardian = [e for e in combined if e[3]=='The Guardian']"
   ]
  },
  {
   "cell_type": "code",
   "execution_count": 30,
   "id": "8c17df3d",
   "metadata": {},
   "outputs": [],
   "source": [
    "#similarity_matrix.inner_product(infowars[0][4], infowars[1][4], normalized=(True, True))"
   ]
  },
  {
   "cell_type": "markdown",
   "id": "2911d7b7",
   "metadata": {},
   "source": [
    "Please check the data...\n",
    "\n",
    "e.g.,by printing **parts** of the lists, using list slicing;\n",
    "\n",
    "```python\n",
    "bbc[0]\n",
    "```"
   ]
  },
  {
   "cell_type": "code",
   "execution_count": 31,
   "id": "b07c9b37",
   "metadata": {},
   "outputs": [],
   "source": [
    "def get_soft_cosine_overtime(source1, source2, lists_of_dates):\n",
    "\n",
    "    '''Adjusted function, estimates the soft cosine similarity'''\n",
    "    \n",
    "    time_frame = []\n",
    "    monthly_cosine_similarity = []\n",
    "    number_of_combinations = []\n",
    "\n",
    "    for month in tqdm(lists_of_dates):\n",
    "        \n",
    "        all_combinations = []\n",
    "\n",
    "        source1_comparison = [i for i in source1 if i[0]==month]\n",
    "        source2_comparison = [i for i in source2 if i[0]==month]\n",
    "\n",
    "        for i in source1_comparison:\n",
    "            \n",
    "            single_combinations = []\n",
    "            for e in source2_comparison:\n",
    "                \n",
    "                assert month == i[0] == e[0] #sanity check\n",
    "                \n",
    "                sim_score = similarity_matrix.inner_product(i[4], e[4], normalized=(True, True))\n",
    "                single_combinations.append(sim_score)\n",
    "\n",
    "            all_combinations.extend(single_combinations)\n",
    "\n",
    "        time_frame.append(month)\n",
    "        monthly_cosine_similarity.append(np.mean(all_combinations))\n",
    "        number_of_combinations.append(len(all_combinations))\n",
    "    return [time_frame, monthly_cosine_similarity, number_of_combinations]"
   ]
  },
  {
   "cell_type": "markdown",
   "id": "90aa6ec5",
   "metadata": {},
   "source": [
    "<u>Question 6</u> \n",
    "<br>\n",
    "<br>\n",
    "<div class=\"alert-info\">\n",
    "Can you tell where this function differs? Where is the soft cosine (rather than the regular cosine) calculated?\n",
    "</div>\n"
   ]
  },
  {
   "cell_type": "code",
   "execution_count": 32,
   "id": "920d7dbf",
   "metadata": {},
   "outputs": [
    {
     "name": "stderr",
     "output_type": "stream",
     "text": [
      "  0%|          | 0/13 [00:00<?, ?it/s]/Users/anne/Library/Python/3.8/lib/python/site-packages/numpy/core/fromnumeric.py:3419: RuntimeWarning: Mean of empty slice.\n",
      "  return _methods._mean(a, axis=axis, dtype=dtype,\n",
      "/Users/anne/Library/Python/3.8/lib/python/site-packages/numpy/core/_methods.py:188: RuntimeWarning: invalid value encountered in double_scalars\n",
      "  ret = ret.dtype.type(ret / rcount)\n",
      "100%|██████████| 13/13 [13:21<00:00, 61.66s/it] \n"
     ]
    }
   ],
   "source": [
    "results_guardian_infowars = get_soft_cosine_overtime(guardian, infowars, lists_of_dates)"
   ]
  },
  {
   "cell_type": "code",
   "execution_count": 33,
   "id": "6045ae25",
   "metadata": {},
   "outputs": [
    {
     "name": "stderr",
     "output_type": "stream",
     "text": [
      "100%|██████████| 13/13 [16:02<00:00, 74.05s/it] \n"
     ]
    }
   ],
   "source": [
    "results_guardian_bbc = get_soft_cosine_overtime(guardian, bbc, lists_of_dates)"
   ]
  },
  {
   "cell_type": "code",
   "execution_count": 34,
   "id": "158c4683",
   "metadata": {},
   "outputs": [
    {
     "name": "stderr",
     "output_type": "stream",
     "text": [
      "100%|██████████| 13/13 [09:45<00:00, 45.02s/it]\n"
     ]
    }
   ],
   "source": [
    "results_bbc_infowars = get_soft_cosine_overtime(bbc, infowars, lists_of_dates)"
   ]
  },
  {
   "cell_type": "markdown",
   "id": "87593db4",
   "metadata": {},
   "source": [
    "### Get data in `df` object"
   ]
  },
  {
   "cell_type": "code",
   "execution_count": 35,
   "id": "57c02d70",
   "metadata": {
    "scrolled": true
   },
   "outputs": [
    {
     "data": {
      "text/html": [
       "<div>\n",
       "<style scoped>\n",
       "    .dataframe tbody tr th:only-of-type {\n",
       "        vertical-align: middle;\n",
       "    }\n",
       "\n",
       "    .dataframe tbody tr th {\n",
       "        vertical-align: top;\n",
       "    }\n",
       "\n",
       "    .dataframe thead th {\n",
       "        text-align: right;\n",
       "    }\n",
       "</style>\n",
       "<table border=\"1\" class=\"dataframe\">\n",
       "  <thead>\n",
       "    <tr style=\"text-align: right;\">\n",
       "      <th></th>\n",
       "      <th>Infowars</th>\n",
       "      <th>BBC</th>\n",
       "      <th>The Guardian</th>\n",
       "    </tr>\n",
       "    <tr>\n",
       "      <th>date</th>\n",
       "      <th></th>\n",
       "      <th></th>\n",
       "      <th></th>\n",
       "    </tr>\n",
       "  </thead>\n",
       "  <tbody>\n",
       "    <tr>\n",
       "      <th>2018-Apr</th>\n",
       "      <td>182</td>\n",
       "      <td>194</td>\n",
       "      <td>155</td>\n",
       "    </tr>\n",
       "    <tr>\n",
       "      <th>2018-Aug</th>\n",
       "      <td>217</td>\n",
       "      <td>234</td>\n",
       "      <td>206</td>\n",
       "    </tr>\n",
       "    <tr>\n",
       "      <th>2018-Feb</th>\n",
       "      <td>181</td>\n",
       "      <td>179</td>\n",
       "      <td>150</td>\n",
       "    </tr>\n",
       "    <tr>\n",
       "      <th>2018-Jul</th>\n",
       "      <td>212</td>\n",
       "      <td>278</td>\n",
       "      <td>171</td>\n",
       "    </tr>\n",
       "    <tr>\n",
       "      <th>2018-Jun</th>\n",
       "      <td>157</td>\n",
       "      <td>109</td>\n",
       "      <td>102</td>\n",
       "    </tr>\n",
       "    <tr>\n",
       "      <th>2018-Mar</th>\n",
       "      <td>234</td>\n",
       "      <td>191</td>\n",
       "      <td>168</td>\n",
       "    </tr>\n",
       "    <tr>\n",
       "      <th>2018-May</th>\n",
       "      <td>191</td>\n",
       "      <td>208</td>\n",
       "      <td>189</td>\n",
       "    </tr>\n",
       "    <tr>\n",
       "      <th>2018-Nov</th>\n",
       "      <td>161</td>\n",
       "      <td>217</td>\n",
       "      <td>361</td>\n",
       "    </tr>\n",
       "    <tr>\n",
       "      <th>2018-Oct</th>\n",
       "      <td>242</td>\n",
       "      <td>217</td>\n",
       "      <td>291</td>\n",
       "    </tr>\n",
       "    <tr>\n",
       "      <th>2018-Sep</th>\n",
       "      <td>223</td>\n",
       "      <td>173</td>\n",
       "      <td>207</td>\n",
       "    </tr>\n",
       "  </tbody>\n",
       "</table>\n",
       "</div>"
      ],
      "text/plain": [
       "          Infowars  BBC  The Guardian\n",
       "date                                 \n",
       "2018-Apr       182  194           155\n",
       "2018-Aug       217  234           206\n",
       "2018-Feb       181  179           150\n",
       "2018-Jul       212  278           171\n",
       "2018-Jun       157  109           102\n",
       "2018-Mar       234  191           168\n",
       "2018-May       191  208           189\n",
       "2018-Nov       161  217           361\n",
       "2018-Oct       242  217           291\n",
       "2018-Sep       223  173           207"
      ]
     },
     "execution_count": 35,
     "metadata": {},
     "output_type": "execute_result"
    }
   ],
   "source": [
    "df = get_meta_dataframe(combined)\n",
    "df"
   ]
  },
  {
   "cell_type": "code",
   "execution_count": 36,
   "id": "f2be0dbf",
   "metadata": {},
   "outputs": [],
   "source": [
    "def get_soft_cosine_frame(results, source1, source2):\n",
    "    cosine = pd.DataFrame(results).T\n",
    "    cosine.rename(columns={0: 'date', 1:f'soft_cosine_{source1}_{source2}', 2: f'combinations_{source1}_{source2}'},inplace=True)\n",
    "    cosine = cosine.set_index('date')\n",
    "    return cosine\n",
    "\n",
    "soft_cosine_guardian_bbc = get_soft_cosine_frame(results_guardian_bbc,'guardian', 'bbc')\n",
    "soft_cosine_guardian_infowars = get_soft_cosine_frame(results_guardian_infowars,'guardian', 'infowars')\n",
    "soft_cosine_bbc_infowars = get_soft_cosine_frame(results_bbc_infowars,'bbc', 'infowars')"
   ]
  },
  {
   "cell_type": "code",
   "execution_count": 37,
   "id": "1d77922c",
   "metadata": {},
   "outputs": [],
   "source": [
    "df = pd.merge(soft_cosine_guardian_bbc, df, left_index=True, right_index=True, how='inner')\n",
    "df = pd.merge(soft_cosine_guardian_infowars, df, left_index=True, right_index=True, how='inner')\n",
    "df = pd.merge(soft_cosine_bbc_infowars, df, left_index=True, right_index=True, how='inner')"
   ]
  },
  {
   "cell_type": "code",
   "execution_count": 38,
   "id": "c00f07e9",
   "metadata": {},
   "outputs": [
    {
     "data": {
      "text/html": [
       "<div>\n",
       "<style scoped>\n",
       "    .dataframe tbody tr th:only-of-type {\n",
       "        vertical-align: middle;\n",
       "    }\n",
       "\n",
       "    .dataframe tbody tr th {\n",
       "        vertical-align: top;\n",
       "    }\n",
       "\n",
       "    .dataframe thead th {\n",
       "        text-align: right;\n",
       "    }\n",
       "</style>\n",
       "<table border=\"1\" class=\"dataframe\">\n",
       "  <thead>\n",
       "    <tr style=\"text-align: right;\">\n",
       "      <th></th>\n",
       "      <th>soft_cosine_bbc_infowars</th>\n",
       "      <th>combinations_bbc_infowars</th>\n",
       "      <th>soft_cosine_guardian_infowars</th>\n",
       "      <th>combinations_guardian_infowars</th>\n",
       "      <th>soft_cosine_guardian_bbc</th>\n",
       "      <th>combinations_guardian_bbc</th>\n",
       "      <th>Infowars</th>\n",
       "      <th>BBC</th>\n",
       "      <th>The Guardian</th>\n",
       "    </tr>\n",
       "    <tr>\n",
       "      <th>date</th>\n",
       "      <th></th>\n",
       "      <th></th>\n",
       "      <th></th>\n",
       "      <th></th>\n",
       "      <th></th>\n",
       "      <th></th>\n",
       "      <th></th>\n",
       "      <th></th>\n",
       "      <th></th>\n",
       "    </tr>\n",
       "  </thead>\n",
       "  <tbody>\n",
       "    <tr>\n",
       "      <th>2018-Feb</th>\n",
       "      <td>0.741563</td>\n",
       "      <td>32399</td>\n",
       "      <td>0.786899</td>\n",
       "      <td>27150</td>\n",
       "      <td>0.804034</td>\n",
       "      <td>26850</td>\n",
       "      <td>181</td>\n",
       "      <td>179</td>\n",
       "      <td>150</td>\n",
       "    </tr>\n",
       "    <tr>\n",
       "      <th>2018-Mar</th>\n",
       "      <td>0.728429</td>\n",
       "      <td>44694</td>\n",
       "      <td>0.775826</td>\n",
       "      <td>39312</td>\n",
       "      <td>0.802768</td>\n",
       "      <td>32088</td>\n",
       "      <td>234</td>\n",
       "      <td>191</td>\n",
       "      <td>168</td>\n",
       "    </tr>\n",
       "    <tr>\n",
       "      <th>2018-Apr</th>\n",
       "      <td>0.739039</td>\n",
       "      <td>35308</td>\n",
       "      <td>0.780447</td>\n",
       "      <td>28210</td>\n",
       "      <td>0.816325</td>\n",
       "      <td>30070</td>\n",
       "      <td>182</td>\n",
       "      <td>194</td>\n",
       "      <td>155</td>\n",
       "    </tr>\n",
       "    <tr>\n",
       "      <th>2018-May</th>\n",
       "      <td>0.725314</td>\n",
       "      <td>39728</td>\n",
       "      <td>0.798731</td>\n",
       "      <td>36099</td>\n",
       "      <td>0.798897</td>\n",
       "      <td>39312</td>\n",
       "      <td>191</td>\n",
       "      <td>208</td>\n",
       "      <td>189</td>\n",
       "    </tr>\n",
       "    <tr>\n",
       "      <th>2018-Jun</th>\n",
       "      <td>0.743768</td>\n",
       "      <td>17113</td>\n",
       "      <td>0.788682</td>\n",
       "      <td>16014</td>\n",
       "      <td>0.821545</td>\n",
       "      <td>11118</td>\n",
       "      <td>157</td>\n",
       "      <td>109</td>\n",
       "      <td>102</td>\n",
       "    </tr>\n",
       "    <tr>\n",
       "      <th>2018-Jul</th>\n",
       "      <td>0.705866</td>\n",
       "      <td>58936</td>\n",
       "      <td>0.750774</td>\n",
       "      <td>36252</td>\n",
       "      <td>0.807904</td>\n",
       "      <td>47538</td>\n",
       "      <td>212</td>\n",
       "      <td>278</td>\n",
       "      <td>171</td>\n",
       "    </tr>\n",
       "    <tr>\n",
       "      <th>2018-Aug</th>\n",
       "      <td>0.72629</td>\n",
       "      <td>50778</td>\n",
       "      <td>0.796651</td>\n",
       "      <td>44702</td>\n",
       "      <td>0.795043</td>\n",
       "      <td>48204</td>\n",
       "      <td>217</td>\n",
       "      <td>234</td>\n",
       "      <td>206</td>\n",
       "    </tr>\n",
       "    <tr>\n",
       "      <th>2018-Sep</th>\n",
       "      <td>0.697849</td>\n",
       "      <td>38579</td>\n",
       "      <td>0.727747</td>\n",
       "      <td>46161</td>\n",
       "      <td>0.785868</td>\n",
       "      <td>35811</td>\n",
       "      <td>223</td>\n",
       "      <td>173</td>\n",
       "      <td>207</td>\n",
       "    </tr>\n",
       "    <tr>\n",
       "      <th>2018-Oct</th>\n",
       "      <td>0.739317</td>\n",
       "      <td>52514</td>\n",
       "      <td>0.768557</td>\n",
       "      <td>70422</td>\n",
       "      <td>0.818871</td>\n",
       "      <td>63147</td>\n",
       "      <td>242</td>\n",
       "      <td>217</td>\n",
       "      <td>291</td>\n",
       "    </tr>\n",
       "    <tr>\n",
       "      <th>2018-Nov</th>\n",
       "      <td>0.736343</td>\n",
       "      <td>34937</td>\n",
       "      <td>0.751758</td>\n",
       "      <td>58121</td>\n",
       "      <td>0.790361</td>\n",
       "      <td>78337</td>\n",
       "      <td>161</td>\n",
       "      <td>217</td>\n",
       "      <td>361</td>\n",
       "    </tr>\n",
       "  </tbody>\n",
       "</table>\n",
       "</div>"
      ],
      "text/plain": [
       "         soft_cosine_bbc_infowars combinations_bbc_infowars  \\\n",
       "date                                                          \n",
       "2018-Feb                 0.741563                     32399   \n",
       "2018-Mar                 0.728429                     44694   \n",
       "2018-Apr                 0.739039                     35308   \n",
       "2018-May                 0.725314                     39728   \n",
       "2018-Jun                 0.743768                     17113   \n",
       "2018-Jul                 0.705866                     58936   \n",
       "2018-Aug                  0.72629                     50778   \n",
       "2018-Sep                 0.697849                     38579   \n",
       "2018-Oct                 0.739317                     52514   \n",
       "2018-Nov                 0.736343                     34937   \n",
       "\n",
       "         soft_cosine_guardian_infowars combinations_guardian_infowars  \\\n",
       "date                                                                    \n",
       "2018-Feb                      0.786899                          27150   \n",
       "2018-Mar                      0.775826                          39312   \n",
       "2018-Apr                      0.780447                          28210   \n",
       "2018-May                      0.798731                          36099   \n",
       "2018-Jun                      0.788682                          16014   \n",
       "2018-Jul                      0.750774                          36252   \n",
       "2018-Aug                      0.796651                          44702   \n",
       "2018-Sep                      0.727747                          46161   \n",
       "2018-Oct                      0.768557                          70422   \n",
       "2018-Nov                      0.751758                          58121   \n",
       "\n",
       "         soft_cosine_guardian_bbc combinations_guardian_bbc  Infowars  BBC  \\\n",
       "date                                                                         \n",
       "2018-Feb                 0.804034                     26850       181  179   \n",
       "2018-Mar                 0.802768                     32088       234  191   \n",
       "2018-Apr                 0.816325                     30070       182  194   \n",
       "2018-May                 0.798897                     39312       191  208   \n",
       "2018-Jun                 0.821545                     11118       157  109   \n",
       "2018-Jul                 0.807904                     47538       212  278   \n",
       "2018-Aug                 0.795043                     48204       217  234   \n",
       "2018-Sep                 0.785868                     35811       223  173   \n",
       "2018-Oct                 0.818871                     63147       242  217   \n",
       "2018-Nov                 0.790361                     78337       161  217   \n",
       "\n",
       "          The Guardian  \n",
       "date                    \n",
       "2018-Feb           150  \n",
       "2018-Mar           168  \n",
       "2018-Apr           155  \n",
       "2018-May           189  \n",
       "2018-Jun           102  \n",
       "2018-Jul           171  \n",
       "2018-Aug           206  \n",
       "2018-Sep           207  \n",
       "2018-Oct           291  \n",
       "2018-Nov           361  "
      ]
     },
     "execution_count": 38,
     "metadata": {},
     "output_type": "execute_result"
    }
   ],
   "source": [
    "df"
   ]
  },
  {
   "cell_type": "markdown",
   "id": "b7f8bdf4",
   "metadata": {},
   "source": [
    "### visualize"
   ]
  },
  {
   "cell_type": "code",
   "execution_count": 39,
   "id": "57162ffd",
   "metadata": {},
   "outputs": [],
   "source": [
    "df.index = pd.to_datetime(df.index)\n",
    "df = df.reset_index()\n",
    "long = pd.melt(df, id_vars = 'date', value_vars = ['soft_cosine_guardian_infowars','soft_cosine_guardian_bbc', 'soft_cosine_bbc_infowars'], var_name='Outlets', value_name='Soft Cosine Similarity')"
   ]
  },
  {
   "cell_type": "code",
   "execution_count": 40,
   "id": "a05dc881",
   "metadata": {},
   "outputs": [
    {
     "data": {
      "text/plain": [
       "<AxesSubplot:xlabel='date', ylabel='Soft Cosine Similarity'>"
      ]
     },
     "execution_count": 40,
     "metadata": {},
     "output_type": "execute_result"
    },
    {
     "data": {
      "image/png": "[encoded data removed]",
      "text/plain": [
       "<Figure size 648x504 with 1 Axes>"
      ]
     },
     "metadata": {},
     "output_type": "display_data"
    }
   ],
   "source": [
    "long[\"Soft Cosine Similarity\"] = pd.to_numeric(long[\"Soft Cosine Similarity\"], downcast=\"float\")\n",
    "sns.lineplot(x='date', y='Soft Cosine Similarity', hue='Outlets', data=long)\n"
   ]
  },
  {
   "cell_type": "markdown",
   "id": "dd29b5bb",
   "metadata": {},
   "source": [
    "<u>Question 7</u> \n",
    "<br>\n",
    "<br>\n",
    "<div class=\"alert-info\">\n",
    "Compare these findings to regular cosine findings. Are you suprised by the difference in these findings? What strikes you most?\n",
    "</div>\n"
   ]
  }
 ],
 "metadata": {
  "kernelspec": {
   "display_name": "Python 3",
   "language": "python",
   "name": "python3"
  },
  "language_info": {
   "codemirror_mode": {
    "name": "ipython",
    "version": 3
   },
   "file_extension": ".py",
   "mimetype": "text/x-python",
   "name": "python",
   "nbconvert_exporter": "python",
   "pygments_lexer": "ipython3",
   "version": "3.8.2"
  }
 },
 "nbformat": 4,
 "nbformat_minor": 5
}
