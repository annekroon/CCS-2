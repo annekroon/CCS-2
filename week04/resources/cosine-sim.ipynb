{
 "cells": [
  {
   "cell_type": "markdown",
   "id": "0f14243a",
   "metadata": {},
   "source": [
    "## Cosine Similarity\n",
    "\n",
    "Cosine similarity represents a frequently used measure to indicate how (dis)similair two documents (e.g., social media posts, news media articles, blogs) are. \n",
    "\n",
    "Mathematically, we write: \n",
    "\n",
    "\n",
    "$$\n",
    "\\text { similarity }=\\cos (\\theta)=\\frac{\\mathbf{A} \\cdot \\mathbf{B}}{\\|\\mathbf{A}\\|\\|\\mathbf{B}\\|}=\\frac{\\sum_{i=1}^{n} A_{i} B_{i}}{\\sqrt{\\sum_{i=1}^{n} A_{i}^{2}} \\sqrt{\\sum_{i=1}^{n} B_{i}^{2}}}\n",
    "$$\n",
    "\n",
    "\n",
    "Next, an example of an application in Python is provided. Here, we will calculate the similarity between two stings. "
   ]
  },
  {
   "cell_type": "code",
   "execution_count": 35,
   "id": "8eff4fb9",
   "metadata": {},
   "outputs": [
    {
     "name": "stdout",
     "output_type": "stream",
     "text": [
      "   communication  digital  like  minor  society  students\n",
      "0              0        1     1      0        1         1\n",
      "1              1        1     0      1        1         1\n"
     ]
    }
   ],
   "source": [
    "import math\n",
    "from sklearn.feature_extraction.text import CountVectorizer, TfidfVectorizer\n",
    "import pandas as pd\n",
    "\n",
    "doc1 = \"Students that you like the digital society\".lower()\n",
    "doc2 = \"Students of the minor communication in the digital society\".lower()"
   ]
  },
  {
   "cell_type": "markdown",
   "id": "661db207",
   "metadata": {},
   "source": [
    "\n",
    "\n",
    "\n",
    "Next, we need to transform the textuel data to vector representations (that is, move from words to numbers). You can think of different ways to do this. Next, we will apply `CountVectorizer`. "
   ]
  },
  {
   "cell_type": "code",
   "execution_count": 37,
   "id": "0aae1ecb",
   "metadata": {},
   "outputs": [
    {
     "name": "stdout",
     "output_type": "stream",
     "text": [
      "   communication  digital  like  minor  society  students\n",
      "0              0        1     1      0        1         1\n",
      "1              1        1     0      1        1         1\n"
     ]
    }
   ],
   "source": [
    "vec = CountVectorizer(stop_words='english')\n",
    "count_matrix = vec.fit_transform([doc1, doc2])"
   ]
  },
  {
   "cell_type": "markdown",
   "id": "eb3f0f02",
   "metadata": {},
   "source": [
    " In the following code snippet, we transform the sparse output to a dense df object **for educational purposes**. Specifically, this allows you to investigate what is the data looks like. Please don't try to do this if you work with large data (as forcing large datasets from a sparse to a dense format would be very memory inefficient). \n",
    " "
   ]
  },
  {
   "cell_type": "code",
   "execution_count": 45,
   "id": "a1f3534f",
   "metadata": {},
   "outputs": [
    {
     "name": "stdout",
     "output_type": "stream",
     "text": [
      "   communication  digital  like  minor  society  students\n",
      "0              0        1     1      0        1         1\n",
      "1              1        1     0      1        1         1\n"
     ]
    }
   ],
   "source": [
    "print(pd.DataFrame(count_matrix.A, columns=vec.get_feature_names()).to_string())"
   ]
  },
  {
   "cell_type": "markdown",
   "id": "de36c2b8",
   "metadata": {},
   "source": [
    "### 1. Calculate Cosine Similarity from scratch\n",
    "That is, without the help of third-party packages"
   ]
  },
  {
   "cell_type": "markdown",
   "id": "d52fb87f",
   "metadata": {},
   "source": [
    "First, we will convert each row (= document) to a one-dimensional array (vector)"
   ]
  },
  {
   "cell_type": "code",
   "execution_count": 51,
   "id": "54f8947c",
   "metadata": {},
   "outputs": [
    {
     "name": "stdout",
     "output_type": "stream",
     "text": [
      "The vector belonging to doc1: [0, 1, 1, 0, 1, 1]\n",
      "The vector belonging to doc2: [1, 1, 0, 1, 1, 1]\n"
     ]
    }
   ],
   "source": [
    "doc1_vector = pd.DataFrame(count_matrix.A, columns=vec.get_feature_names()).T[0].to_list()\n",
    "doc2_vector = pd.DataFrame(count_matrix.A, columns=vec.get_feature_names()).T[1].to_list()\n",
    "\n",
    "print(f\"The vector belonging to doc1: {doc1_vector}\")\n",
    "print(f\"The vector belonging to doc2: {doc2_vector}\")"
   ]
  },
  {
   "cell_type": "markdown",
   "id": "bc2a0f68",
   "metadata": {},
   "source": [
    "Now, lets populate the formula.\n",
    "\n",
    "\n",
    "    1.Execute the part of the formula in the numerator. Specifically, take the dot product of the vectors:\n",
    "$$\n",
    "\\sum_{i=1}^{n} A_{i} B_{i}\n",
    "$$"
   ]
  },
  {
   "cell_type": "code",
   "execution_count": 53,
   "id": "faae2802",
   "metadata": {},
   "outputs": [
    {
     "name": "stdout",
     "output_type": "stream",
     "text": [
      "3\n"
     ]
    }
   ],
   "source": [
    "dot_product = sum([num1 * num2 for num1, num2 in zip(doc1_vector, doc2_vector)])\n",
    "print(dot_product)"
   ]
  },
  {
   "cell_type": "markdown",
   "id": "4607b30d",
   "metadata": {},
   "source": [
    "    2.Execute the part of the formula in the denumerator. Take the product of the lengths of the vectors.\n",
    "    \n",
    "$$\n",
    "\\sqrt{\\sum_{i=1}^{n} A_{i}^{2}} \\sqrt{\\sum_{i=1}^{n} B_{i}^{2}}\n",
    "$$"
   ]
  },
  {
   "cell_type": "code",
   "execution_count": 54,
   "id": "d4690cb2",
   "metadata": {},
   "outputs": [],
   "source": [
    "import math\n",
    "doc1_ = math.sqrt(sum( [i**2 for i in doc1_vector]) )\n",
    "doc2_ = math.sqrt(sum( [i**2 for i in doc2_vector]) )"
   ]
  },
  {
   "cell_type": "markdown",
   "id": "396152be",
   "metadata": {},
   "source": [
    "    3. finally:"
   ]
  },
  {
   "cell_type": "code",
   "execution_count": 65,
   "id": "a3cb7b28",
   "metadata": {},
   "outputs": [
    {
     "name": "stdout",
     "output_type": "stream",
     "text": [
      "We calcuated cosine similarity between the following documents:\n",
      "---\n",
      "Students that you like the digital society\n",
      "---\n",
      "students of the minor communication in the digital society\n",
      "---\n",
      "Similarity is:\n",
      "\n",
      "\n",
      "0.6708203932499369\n"
     ]
    }
   ],
   "source": [
    "cos_sim = dot_product / (doc1_ * doc2_)\n",
    "print(f\"We calcuated cosine similarity between the following documents:\\n---\\n{doc1}\\n---\\n{doc2}\\n---\\nSimilarity is:\\n\\n\\n{cos_sim}\")"
   ]
  },
  {
   "cell_type": "markdown",
   "id": "c5acf81e",
   "metadata": {},
   "source": [
    "## 2. Calculate Cosine Similarity using `sklearn`\n",
    "\n",
    "We can also do this using `sklearn`'s `cosine_similarity`. Let's validate our results."
   ]
  },
  {
   "cell_type": "code",
   "execution_count": 71,
   "id": "ae4c033f",
   "metadata": {},
   "outputs": [
    {
     "data": {
      "text/plain": [
       "0.6708203932499369"
      ]
     },
     "execution_count": 71,
     "metadata": {},
     "output_type": "execute_result"
    }
   ],
   "source": [
    "from sklearn.metrics.pairwise import cosine_similarity\n",
    "cosine_similarity([doc1_vector, doc2_vector])[0][1]"
   ]
  }
 ],
 "metadata": {
  "kernelspec": {
   "display_name": "Python 3",
   "language": "python",
   "name": "python3"
  },
  "language_info": {
   "codemirror_mode": {
    "name": "ipython",
    "version": 3
   },
   "file_extension": ".py",
   "mimetype": "text/x-python",
   "name": "python",
   "nbconvert_exporter": "python",
   "pygments_lexer": "ipython3",
   "version": "3.8.2"
  }
 },
 "nbformat": 4,
 "nbformat_minor": 5
}
